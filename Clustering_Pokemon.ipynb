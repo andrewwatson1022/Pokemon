{
  "cells": [
    {
      "cell_type": "markdown",
      "metadata": {
        "id": "view-in-github",
        "colab_type": "text"
      },
      "source": [
        "<a href=\"https://colab.research.google.com/github/andrewwatson1022/Pokemon/blob/main/Clustering_Pokemon.ipynb\" target=\"_parent\"><img src=\"https://colab.research.google.com/assets/colab-badge.svg\" alt=\"Open In Colab\"/></a>"
      ]
    },
    {
      "cell_type": "markdown",
      "metadata": {
        "id": "V4UTd1VzFgqL"
      },
      "source": [
        "#Introduction"
      ]
    },
    {
      "cell_type": "markdown",
      "metadata": {
        "id": "_BYVfsc7l4QR"
      },
      "source": [
        "As a kid, I organized my treasured binder of Pokemon cards by type: fire, electric, water, etc. While grouping by this categorical feature made intuitive sense (fire Pokemon cards are red), I wanted to survey alternate methods of categorizing Pokemon.\n",
        "\n",
        "In this unsupervised learning study, I explored numeric video game data on Pokemon species and reduced dimensionality through principal component analysis. Additionally, I applied k-means clustering to bracket Pokemon based on all the numeric data available and, alternatively, just on their battle metrics. I found that two principal components explain 56.2% of the variance in all the numeric metrics and 62.6% of the variance in just the battle metrics. However, the extra data with all the numeric metrics allowed my k-means model to distinguish three clusters of Pokemon species, while the model fit to the just the battle data was only able to identify two clusters."
      ]
    },
    {
      "cell_type": "markdown",
      "metadata": {
        "id": "W0wlTsNmFjTk"
      },
      "source": [
        "#Import and Clean"
      ]
    },
    {
      "cell_type": "markdown",
      "metadata": {
        "id": "xdYgN1zOnNV4"
      },
      "source": [
        "These are the libraries I used for this analysis."
      ]
    },
    {
      "cell_type": "code",
      "execution_count": 1,
      "metadata": {
        "id": "QqBycQOxFeOA"
      },
      "outputs": [],
      "source": [
        "import pandas as pd #data frames\n",
        "import seaborn as sns #heatmap\n",
        "from matplotlib import pyplot as plt #visualizations\n",
        "from sklearn.preprocessing import StandardScaler #scale data\n",
        "from sklearn.decomposition import PCA #PCA\n",
        "from sklearn.cluster import KMeans #clustering\n",
        "from tabulate import tabulate #tables"
      ]
    },
    {
      "cell_type": "markdown",
      "metadata": {
        "id": "qCVDXUzlnTdl"
      },
      "source": [
        "The Pokemon dataset was originally curated by Mario Tormo Romero and uploaded to [Kaggle](https://www.kaggle.com/datasets/mariotormo/complete-pokemon-dataset-updated-090420). It contains records for 1,045 species of Pokemon."
      ]
    },
    {
      "cell_type": "code",
      "execution_count": 2,
      "metadata": {
        "colab": {
          "base_uri": "https://localhost:8080/"
        },
        "id": "Yqpf2SjnFq-y",
        "outputId": "0f5b7d5e-b49e-44f7-8b52-9f3795f07b8d"
      },
      "outputs": [
        {
          "output_type": "stream",
          "name": "stdout",
          "text": [
            "<class 'pandas.core.frame.DataFrame'>\n",
            "RangeIndex: 1045 entries, 0 to 1044\n",
            "Data columns (total 51 columns):\n",
            " #   Column            Non-Null Count  Dtype  \n",
            "---  ------            --------------  -----  \n",
            " 0   Unnamed: 0        1045 non-null   int64  \n",
            " 1   pokedex_number    1045 non-null   int64  \n",
            " 2   name              1045 non-null   object \n",
            " 3   german_name       1045 non-null   object \n",
            " 4   japanese_name     1045 non-null   object \n",
            " 5   generation        1045 non-null   int64  \n",
            " 6   status            1045 non-null   object \n",
            " 7   species           1045 non-null   object \n",
            " 8   type_number       1045 non-null   int64  \n",
            " 9   type_1            1045 non-null   object \n",
            " 10  type_2            553 non-null    object \n",
            " 11  height_m          1045 non-null   float64\n",
            " 12  weight_kg         1044 non-null   float64\n",
            " 13  abilities_number  1045 non-null   int64  \n",
            " 14  ability_1         1042 non-null   object \n",
            " 15  ability_2         516 non-null    object \n",
            " 16  ability_hidden    813 non-null    object \n",
            " 17  total_points      1045 non-null   int64  \n",
            " 18  hp                1045 non-null   int64  \n",
            " 19  attack            1045 non-null   int64  \n",
            " 20  defense           1045 non-null   int64  \n",
            " 21  sp_attack         1045 non-null   int64  \n",
            " 22  sp_defense        1045 non-null   int64  \n",
            " 23  speed             1045 non-null   int64  \n",
            " 24  catch_rate        1027 non-null   float64\n",
            " 25  base_friendship   930 non-null    float64\n",
            " 26  base_experience   925 non-null    float64\n",
            " 27  growth_rate       1044 non-null   object \n",
            " 28  egg_type_number   1045 non-null   int64  \n",
            " 29  egg_type_1        1042 non-null   object \n",
            " 30  egg_type_2        285 non-null    object \n",
            " 31  percentage_male   872 non-null    float64\n",
            " 32  egg_cycles        1044 non-null   float64\n",
            " 33  against_normal    1045 non-null   float64\n",
            " 34  against_fire      1045 non-null   float64\n",
            " 35  against_water     1045 non-null   float64\n",
            " 36  against_electric  1045 non-null   float64\n",
            " 37  against_grass     1045 non-null   float64\n",
            " 38  against_ice       1045 non-null   float64\n",
            " 39  against_fight     1045 non-null   float64\n",
            " 40  against_poison    1045 non-null   float64\n",
            " 41  against_ground    1045 non-null   float64\n",
            " 42  against_flying    1045 non-null   float64\n",
            " 43  against_psychic   1045 non-null   float64\n",
            " 44  against_bug       1045 non-null   float64\n",
            " 45  against_rock      1045 non-null   float64\n",
            " 46  against_ghost     1045 non-null   float64\n",
            " 47  against_dragon    1045 non-null   float64\n",
            " 48  against_dark      1045 non-null   float64\n",
            " 49  against_steel     1045 non-null   float64\n",
            " 50  against_fairy     1045 non-null   float64\n",
            "dtypes: float64(25), int64(13), object(13)\n",
            "memory usage: 416.5+ KB\n"
          ]
        }
      ],
      "source": [
        "pokemon = pd.read_csv('https://raw.githubusercontent.com/andrewwatson1022/Pokemon/main/pokedex_(Update_04.21).csv')\n",
        "pokemon.info()"
      ]
    },
    {
      "cell_type": "markdown",
      "metadata": {
        "id": "UuO5N6_JoKRu"
      },
      "source": [
        "Some of the data relates to Pokemon battles like \"Attack\" or \"Speed\", but quite a bit of this data goes beyond battling."
      ]
    },
    {
      "cell_type": "code",
      "execution_count": 3,
      "metadata": {
        "colab": {
          "base_uri": "https://localhost:8080/",
          "height": 403
        },
        "id": "CEDGjkSgF-DS",
        "outputId": "375e9af8-2e8b-453c-d38b-531f4928151a"
      },
      "outputs": [
        {
          "output_type": "execute_result",
          "data": {
            "text/plain": [
              "   Unnamed: 0  pokedex_number           name german_name        japanese_name  \\\n",
              "0           0               1      Bulbasaur     Bisasam  フシギダネ (Fushigidane)   \n",
              "1           1               2        Ivysaur   Bisaknosp   フシギソウ (Fushigisou)   \n",
              "2           2               3       Venusaur    Bisaflor  フシギバナ (Fushigibana)   \n",
              "3           3               3  Mega Venusaur    Bisaflor  フシギバナ (Fushigibana)   \n",
              "4           4               4     Charmander    Glumanda      ヒトカゲ (Hitokage)   \n",
              "\n",
              "   generation  status         species  type_number type_1  ... against_ground  \\\n",
              "0           1  Normal    Seed Pokémon            2  Grass  ...            1.0   \n",
              "1           1  Normal    Seed Pokémon            2  Grass  ...            1.0   \n",
              "2           1  Normal    Seed Pokémon            2  Grass  ...            1.0   \n",
              "3           1  Normal    Seed Pokémon            2  Grass  ...            1.0   \n",
              "4           1  Normal  Lizard Pokémon            1   Fire  ...            2.0   \n",
              "\n",
              "   against_flying  against_psychic  against_bug against_rock against_ghost  \\\n",
              "0             2.0              2.0          1.0          1.0           1.0   \n",
              "1             2.0              2.0          1.0          1.0           1.0   \n",
              "2             2.0              2.0          1.0          1.0           1.0   \n",
              "3             2.0              2.0          1.0          1.0           1.0   \n",
              "4             1.0              1.0          0.5          2.0           1.0   \n",
              "\n",
              "  against_dragon  against_dark  against_steel  against_fairy  \n",
              "0            1.0           1.0            1.0            0.5  \n",
              "1            1.0           1.0            1.0            0.5  \n",
              "2            1.0           1.0            1.0            0.5  \n",
              "3            1.0           1.0            1.0            0.5  \n",
              "4            1.0           1.0            0.5            0.5  \n",
              "\n",
              "[5 rows x 51 columns]"
            ],
            "text/html": [
              "\n",
              "  <div id=\"df-992c1759-d9d2-4110-9035-8ffb379f0e94\">\n",
              "    <div class=\"colab-df-container\">\n",
              "      <div>\n",
              "<style scoped>\n",
              "    .dataframe tbody tr th:only-of-type {\n",
              "        vertical-align: middle;\n",
              "    }\n",
              "\n",
              "    .dataframe tbody tr th {\n",
              "        vertical-align: top;\n",
              "    }\n",
              "\n",
              "    .dataframe thead th {\n",
              "        text-align: right;\n",
              "    }\n",
              "</style>\n",
              "<table border=\"1\" class=\"dataframe\">\n",
              "  <thead>\n",
              "    <tr style=\"text-align: right;\">\n",
              "      <th></th>\n",
              "      <th>Unnamed: 0</th>\n",
              "      <th>pokedex_number</th>\n",
              "      <th>name</th>\n",
              "      <th>german_name</th>\n",
              "      <th>japanese_name</th>\n",
              "      <th>generation</th>\n",
              "      <th>status</th>\n",
              "      <th>species</th>\n",
              "      <th>type_number</th>\n",
              "      <th>type_1</th>\n",
              "      <th>...</th>\n",
              "      <th>against_ground</th>\n",
              "      <th>against_flying</th>\n",
              "      <th>against_psychic</th>\n",
              "      <th>against_bug</th>\n",
              "      <th>against_rock</th>\n",
              "      <th>against_ghost</th>\n",
              "      <th>against_dragon</th>\n",
              "      <th>against_dark</th>\n",
              "      <th>against_steel</th>\n",
              "      <th>against_fairy</th>\n",
              "    </tr>\n",
              "  </thead>\n",
              "  <tbody>\n",
              "    <tr>\n",
              "      <th>0</th>\n",
              "      <td>0</td>\n",
              "      <td>1</td>\n",
              "      <td>Bulbasaur</td>\n",
              "      <td>Bisasam</td>\n",
              "      <td>フシギダネ (Fushigidane)</td>\n",
              "      <td>1</td>\n",
              "      <td>Normal</td>\n",
              "      <td>Seed Pokémon</td>\n",
              "      <td>2</td>\n",
              "      <td>Grass</td>\n",
              "      <td>...</td>\n",
              "      <td>1.0</td>\n",
              "      <td>2.0</td>\n",
              "      <td>2.0</td>\n",
              "      <td>1.0</td>\n",
              "      <td>1.0</td>\n",
              "      <td>1.0</td>\n",
              "      <td>1.0</td>\n",
              "      <td>1.0</td>\n",
              "      <td>1.0</td>\n",
              "      <td>0.5</td>\n",
              "    </tr>\n",
              "    <tr>\n",
              "      <th>1</th>\n",
              "      <td>1</td>\n",
              "      <td>2</td>\n",
              "      <td>Ivysaur</td>\n",
              "      <td>Bisaknosp</td>\n",
              "      <td>フシギソウ (Fushigisou)</td>\n",
              "      <td>1</td>\n",
              "      <td>Normal</td>\n",
              "      <td>Seed Pokémon</td>\n",
              "      <td>2</td>\n",
              "      <td>Grass</td>\n",
              "      <td>...</td>\n",
              "      <td>1.0</td>\n",
              "      <td>2.0</td>\n",
              "      <td>2.0</td>\n",
              "      <td>1.0</td>\n",
              "      <td>1.0</td>\n",
              "      <td>1.0</td>\n",
              "      <td>1.0</td>\n",
              "      <td>1.0</td>\n",
              "      <td>1.0</td>\n",
              "      <td>0.5</td>\n",
              "    </tr>\n",
              "    <tr>\n",
              "      <th>2</th>\n",
              "      <td>2</td>\n",
              "      <td>3</td>\n",
              "      <td>Venusaur</td>\n",
              "      <td>Bisaflor</td>\n",
              "      <td>フシギバナ (Fushigibana)</td>\n",
              "      <td>1</td>\n",
              "      <td>Normal</td>\n",
              "      <td>Seed Pokémon</td>\n",
              "      <td>2</td>\n",
              "      <td>Grass</td>\n",
              "      <td>...</td>\n",
              "      <td>1.0</td>\n",
              "      <td>2.0</td>\n",
              "      <td>2.0</td>\n",
              "      <td>1.0</td>\n",
              "      <td>1.0</td>\n",
              "      <td>1.0</td>\n",
              "      <td>1.0</td>\n",
              "      <td>1.0</td>\n",
              "      <td>1.0</td>\n",
              "      <td>0.5</td>\n",
              "    </tr>\n",
              "    <tr>\n",
              "      <th>3</th>\n",
              "      <td>3</td>\n",
              "      <td>3</td>\n",
              "      <td>Mega Venusaur</td>\n",
              "      <td>Bisaflor</td>\n",
              "      <td>フシギバナ (Fushigibana)</td>\n",
              "      <td>1</td>\n",
              "      <td>Normal</td>\n",
              "      <td>Seed Pokémon</td>\n",
              "      <td>2</td>\n",
              "      <td>Grass</td>\n",
              "      <td>...</td>\n",
              "      <td>1.0</td>\n",
              "      <td>2.0</td>\n",
              "      <td>2.0</td>\n",
              "      <td>1.0</td>\n",
              "      <td>1.0</td>\n",
              "      <td>1.0</td>\n",
              "      <td>1.0</td>\n",
              "      <td>1.0</td>\n",
              "      <td>1.0</td>\n",
              "      <td>0.5</td>\n",
              "    </tr>\n",
              "    <tr>\n",
              "      <th>4</th>\n",
              "      <td>4</td>\n",
              "      <td>4</td>\n",
              "      <td>Charmander</td>\n",
              "      <td>Glumanda</td>\n",
              "      <td>ヒトカゲ (Hitokage)</td>\n",
              "      <td>1</td>\n",
              "      <td>Normal</td>\n",
              "      <td>Lizard Pokémon</td>\n",
              "      <td>1</td>\n",
              "      <td>Fire</td>\n",
              "      <td>...</td>\n",
              "      <td>2.0</td>\n",
              "      <td>1.0</td>\n",
              "      <td>1.0</td>\n",
              "      <td>0.5</td>\n",
              "      <td>2.0</td>\n",
              "      <td>1.0</td>\n",
              "      <td>1.0</td>\n",
              "      <td>1.0</td>\n",
              "      <td>0.5</td>\n",
              "      <td>0.5</td>\n",
              "    </tr>\n",
              "  </tbody>\n",
              "</table>\n",
              "<p>5 rows × 51 columns</p>\n",
              "</div>\n",
              "      <button class=\"colab-df-convert\" onclick=\"convertToInteractive('df-992c1759-d9d2-4110-9035-8ffb379f0e94')\"\n",
              "              title=\"Convert this dataframe to an interactive table.\"\n",
              "              style=\"display:none;\">\n",
              "        \n",
              "  <svg xmlns=\"http://www.w3.org/2000/svg\" height=\"24px\"viewBox=\"0 0 24 24\"\n",
              "       width=\"24px\">\n",
              "    <path d=\"M0 0h24v24H0V0z\" fill=\"none\"/>\n",
              "    <path d=\"M18.56 5.44l.94 2.06.94-2.06 2.06-.94-2.06-.94-.94-2.06-.94 2.06-2.06.94zm-11 1L8.5 8.5l.94-2.06 2.06-.94-2.06-.94L8.5 2.5l-.94 2.06-2.06.94zm10 10l.94 2.06.94-2.06 2.06-.94-2.06-.94-.94-2.06-.94 2.06-2.06.94z\"/><path d=\"M17.41 7.96l-1.37-1.37c-.4-.4-.92-.59-1.43-.59-.52 0-1.04.2-1.43.59L10.3 9.45l-7.72 7.72c-.78.78-.78 2.05 0 2.83L4 21.41c.39.39.9.59 1.41.59.51 0 1.02-.2 1.41-.59l7.78-7.78 2.81-2.81c.8-.78.8-2.07 0-2.86zM5.41 20L4 18.59l7.72-7.72 1.47 1.35L5.41 20z\"/>\n",
              "  </svg>\n",
              "      </button>\n",
              "      \n",
              "  <style>\n",
              "    .colab-df-container {\n",
              "      display:flex;\n",
              "      flex-wrap:wrap;\n",
              "      gap: 12px;\n",
              "    }\n",
              "\n",
              "    .colab-df-convert {\n",
              "      background-color: #E8F0FE;\n",
              "      border: none;\n",
              "      border-radius: 50%;\n",
              "      cursor: pointer;\n",
              "      display: none;\n",
              "      fill: #1967D2;\n",
              "      height: 32px;\n",
              "      padding: 0 0 0 0;\n",
              "      width: 32px;\n",
              "    }\n",
              "\n",
              "    .colab-df-convert:hover {\n",
              "      background-color: #E2EBFA;\n",
              "      box-shadow: 0px 1px 2px rgba(60, 64, 67, 0.3), 0px 1px 3px 1px rgba(60, 64, 67, 0.15);\n",
              "      fill: #174EA6;\n",
              "    }\n",
              "\n",
              "    [theme=dark] .colab-df-convert {\n",
              "      background-color: #3B4455;\n",
              "      fill: #D2E3FC;\n",
              "    }\n",
              "\n",
              "    [theme=dark] .colab-df-convert:hover {\n",
              "      background-color: #434B5C;\n",
              "      box-shadow: 0px 1px 3px 1px rgba(0, 0, 0, 0.15);\n",
              "      filter: drop-shadow(0px 1px 2px rgba(0, 0, 0, 0.3));\n",
              "      fill: #FFFFFF;\n",
              "    }\n",
              "  </style>\n",
              "\n",
              "      <script>\n",
              "        const buttonEl =\n",
              "          document.querySelector('#df-992c1759-d9d2-4110-9035-8ffb379f0e94 button.colab-df-convert');\n",
              "        buttonEl.style.display =\n",
              "          google.colab.kernel.accessAllowed ? 'block' : 'none';\n",
              "\n",
              "        async function convertToInteractive(key) {\n",
              "          const element = document.querySelector('#df-992c1759-d9d2-4110-9035-8ffb379f0e94');\n",
              "          const dataTable =\n",
              "            await google.colab.kernel.invokeFunction('convertToInteractive',\n",
              "                                                     [key], {});\n",
              "          if (!dataTable) return;\n",
              "\n",
              "          const docLinkHtml = 'Like what you see? Visit the ' +\n",
              "            '<a target=\"_blank\" href=https://colab.research.google.com/notebooks/data_table.ipynb>data table notebook</a>'\n",
              "            + ' to learn more about interactive tables.';\n",
              "          element.innerHTML = '';\n",
              "          dataTable['output_type'] = 'display_data';\n",
              "          await google.colab.output.renderOutput(dataTable, element);\n",
              "          const docLink = document.createElement('div');\n",
              "          docLink.innerHTML = docLinkHtml;\n",
              "          element.appendChild(docLink);\n",
              "        }\n",
              "      </script>\n",
              "    </div>\n",
              "  </div>\n",
              "  "
            ]
          },
          "metadata": {},
          "execution_count": 3
        }
      ],
      "source": [
        "pokemon.head()"
      ]
    },
    {
      "cell_type": "markdown",
      "metadata": {
        "id": "We24aE-xovt3"
      },
      "source": [
        "There are no duplicate entries in the data set."
      ]
    },
    {
      "cell_type": "code",
      "execution_count": 4,
      "metadata": {
        "colab": {
          "base_uri": "https://localhost:8080/",
          "height": 160
        },
        "id": "K-VLJFoiHQyL",
        "outputId": "c379914e-bb6e-40a0-8c1a-73edcad476de"
      },
      "outputs": [
        {
          "output_type": "execute_result",
          "data": {
            "text/plain": [
              "Empty DataFrame\n",
              "Columns: [Unnamed: 0, pokedex_number, name, german_name, japanese_name, generation, status, species, type_number, type_1, type_2, height_m, weight_kg, abilities_number, ability_1, ability_2, ability_hidden, total_points, hp, attack, defense, sp_attack, sp_defense, speed, catch_rate, base_friendship, base_experience, growth_rate, egg_type_number, egg_type_1, egg_type_2, percentage_male, egg_cycles, against_normal, against_fire, against_water, against_electric, against_grass, against_ice, against_fight, against_poison, against_ground, against_flying, against_psychic, against_bug, against_rock, against_ghost, against_dragon, against_dark, against_steel, against_fairy]\n",
              "Index: []\n",
              "\n",
              "[0 rows x 51 columns]"
            ],
            "text/html": [
              "\n",
              "  <div id=\"df-cbca6f1b-3e08-4c62-9273-1b798e67f6ef\">\n",
              "    <div class=\"colab-df-container\">\n",
              "      <div>\n",
              "<style scoped>\n",
              "    .dataframe tbody tr th:only-of-type {\n",
              "        vertical-align: middle;\n",
              "    }\n",
              "\n",
              "    .dataframe tbody tr th {\n",
              "        vertical-align: top;\n",
              "    }\n",
              "\n",
              "    .dataframe thead th {\n",
              "        text-align: right;\n",
              "    }\n",
              "</style>\n",
              "<table border=\"1\" class=\"dataframe\">\n",
              "  <thead>\n",
              "    <tr style=\"text-align: right;\">\n",
              "      <th></th>\n",
              "      <th>Unnamed: 0</th>\n",
              "      <th>pokedex_number</th>\n",
              "      <th>name</th>\n",
              "      <th>german_name</th>\n",
              "      <th>japanese_name</th>\n",
              "      <th>generation</th>\n",
              "      <th>status</th>\n",
              "      <th>species</th>\n",
              "      <th>type_number</th>\n",
              "      <th>type_1</th>\n",
              "      <th>...</th>\n",
              "      <th>against_ground</th>\n",
              "      <th>against_flying</th>\n",
              "      <th>against_psychic</th>\n",
              "      <th>against_bug</th>\n",
              "      <th>against_rock</th>\n",
              "      <th>against_ghost</th>\n",
              "      <th>against_dragon</th>\n",
              "      <th>against_dark</th>\n",
              "      <th>against_steel</th>\n",
              "      <th>against_fairy</th>\n",
              "    </tr>\n",
              "  </thead>\n",
              "  <tbody>\n",
              "  </tbody>\n",
              "</table>\n",
              "<p>0 rows × 51 columns</p>\n",
              "</div>\n",
              "      <button class=\"colab-df-convert\" onclick=\"convertToInteractive('df-cbca6f1b-3e08-4c62-9273-1b798e67f6ef')\"\n",
              "              title=\"Convert this dataframe to an interactive table.\"\n",
              "              style=\"display:none;\">\n",
              "        \n",
              "  <svg xmlns=\"http://www.w3.org/2000/svg\" height=\"24px\"viewBox=\"0 0 24 24\"\n",
              "       width=\"24px\">\n",
              "    <path d=\"M0 0h24v24H0V0z\" fill=\"none\"/>\n",
              "    <path d=\"M18.56 5.44l.94 2.06.94-2.06 2.06-.94-2.06-.94-.94-2.06-.94 2.06-2.06.94zm-11 1L8.5 8.5l.94-2.06 2.06-.94-2.06-.94L8.5 2.5l-.94 2.06-2.06.94zm10 10l.94 2.06.94-2.06 2.06-.94-2.06-.94-.94-2.06-.94 2.06-2.06.94z\"/><path d=\"M17.41 7.96l-1.37-1.37c-.4-.4-.92-.59-1.43-.59-.52 0-1.04.2-1.43.59L10.3 9.45l-7.72 7.72c-.78.78-.78 2.05 0 2.83L4 21.41c.39.39.9.59 1.41.59.51 0 1.02-.2 1.41-.59l7.78-7.78 2.81-2.81c.8-.78.8-2.07 0-2.86zM5.41 20L4 18.59l7.72-7.72 1.47 1.35L5.41 20z\"/>\n",
              "  </svg>\n",
              "      </button>\n",
              "      \n",
              "  <style>\n",
              "    .colab-df-container {\n",
              "      display:flex;\n",
              "      flex-wrap:wrap;\n",
              "      gap: 12px;\n",
              "    }\n",
              "\n",
              "    .colab-df-convert {\n",
              "      background-color: #E8F0FE;\n",
              "      border: none;\n",
              "      border-radius: 50%;\n",
              "      cursor: pointer;\n",
              "      display: none;\n",
              "      fill: #1967D2;\n",
              "      height: 32px;\n",
              "      padding: 0 0 0 0;\n",
              "      width: 32px;\n",
              "    }\n",
              "\n",
              "    .colab-df-convert:hover {\n",
              "      background-color: #E2EBFA;\n",
              "      box-shadow: 0px 1px 2px rgba(60, 64, 67, 0.3), 0px 1px 3px 1px rgba(60, 64, 67, 0.15);\n",
              "      fill: #174EA6;\n",
              "    }\n",
              "\n",
              "    [theme=dark] .colab-df-convert {\n",
              "      background-color: #3B4455;\n",
              "      fill: #D2E3FC;\n",
              "    }\n",
              "\n",
              "    [theme=dark] .colab-df-convert:hover {\n",
              "      background-color: #434B5C;\n",
              "      box-shadow: 0px 1px 3px 1px rgba(0, 0, 0, 0.15);\n",
              "      filter: drop-shadow(0px 1px 2px rgba(0, 0, 0, 0.3));\n",
              "      fill: #FFFFFF;\n",
              "    }\n",
              "  </style>\n",
              "\n",
              "      <script>\n",
              "        const buttonEl =\n",
              "          document.querySelector('#df-cbca6f1b-3e08-4c62-9273-1b798e67f6ef button.colab-df-convert');\n",
              "        buttonEl.style.display =\n",
              "          google.colab.kernel.accessAllowed ? 'block' : 'none';\n",
              "\n",
              "        async function convertToInteractive(key) {\n",
              "          const element = document.querySelector('#df-cbca6f1b-3e08-4c62-9273-1b798e67f6ef');\n",
              "          const dataTable =\n",
              "            await google.colab.kernel.invokeFunction('convertToInteractive',\n",
              "                                                     [key], {});\n",
              "          if (!dataTable) return;\n",
              "\n",
              "          const docLinkHtml = 'Like what you see? Visit the ' +\n",
              "            '<a target=\"_blank\" href=https://colab.research.google.com/notebooks/data_table.ipynb>data table notebook</a>'\n",
              "            + ' to learn more about interactive tables.';\n",
              "          element.innerHTML = '';\n",
              "          dataTable['output_type'] = 'display_data';\n",
              "          await google.colab.output.renderOutput(dataTable, element);\n",
              "          const docLink = document.createElement('div');\n",
              "          docLink.innerHTML = docLinkHtml;\n",
              "          element.appendChild(docLink);\n",
              "        }\n",
              "      </script>\n",
              "    </div>\n",
              "  </div>\n",
              "  "
            ]
          },
          "metadata": {},
          "execution_count": 4
        }
      ],
      "source": [
        "pokemon[pokemon.duplicated(keep=False)]"
      ]
    },
    {
      "cell_type": "markdown",
      "metadata": {
        "id": "STka-0U_o0y1"
      },
      "source": [
        "Large numbers of Pokemon are missing data. Some of this may be an issue, but at times, NA values might be appropriate. For example, many Pokemon do not have a \"type_2\". I narrowed my data frame to only numeric data before I cut null records."
      ]
    },
    {
      "cell_type": "code",
      "execution_count": 5,
      "metadata": {
        "colab": {
          "base_uri": "https://localhost:8080/"
        },
        "id": "nded97CTG25V",
        "outputId": "35672762-5144-42cd-e988-492799dbc55f"
      },
      "outputs": [
        {
          "output_type": "execute_result",
          "data": {
            "text/plain": [
              "Unnamed: 0            0\n",
              "pokedex_number        0\n",
              "name                  0\n",
              "german_name           0\n",
              "japanese_name         0\n",
              "generation            0\n",
              "status                0\n",
              "species               0\n",
              "type_number           0\n",
              "type_1                0\n",
              "type_2              492\n",
              "height_m              0\n",
              "weight_kg             1\n",
              "abilities_number      0\n",
              "ability_1             3\n",
              "ability_2           529\n",
              "ability_hidden      232\n",
              "total_points          0\n",
              "hp                    0\n",
              "attack                0\n",
              "defense               0\n",
              "sp_attack             0\n",
              "sp_defense            0\n",
              "speed                 0\n",
              "catch_rate           18\n",
              "base_friendship     115\n",
              "base_experience     120\n",
              "growth_rate           1\n",
              "egg_type_number       0\n",
              "egg_type_1            3\n",
              "egg_type_2          760\n",
              "percentage_male     173\n",
              "egg_cycles            1\n",
              "against_normal        0\n",
              "against_fire          0\n",
              "against_water         0\n",
              "against_electric      0\n",
              "against_grass         0\n",
              "against_ice           0\n",
              "against_fight         0\n",
              "against_poison        0\n",
              "against_ground        0\n",
              "against_flying        0\n",
              "against_psychic       0\n",
              "against_bug           0\n",
              "against_rock          0\n",
              "against_ghost         0\n",
              "against_dragon        0\n",
              "against_dark          0\n",
              "against_steel         0\n",
              "against_fairy         0\n",
              "dtype: int64"
            ]
          },
          "metadata": {},
          "execution_count": 5
        }
      ],
      "source": [
        "pokemon.isna().sum()"
      ]
    },
    {
      "cell_type": "markdown",
      "metadata": {
        "id": "fl4-Rdv7qPPd"
      },
      "source": [
        "Because my goal was to cluster numeric data, I trimmed my data frame to relevant integers and floats. I left out some variables like \"type_number\" and \"ability_number\" because they are essentially categorical stand-ins. I also removed \"percentage_male\" because 173 Pokemon species don't have a sex. Lastly, \"total_points\" is just an engineered variable that sums the battle metrics. I cut this variable to avoid double-counting."
      ]
    },
    {
      "cell_type": "code",
      "execution_count": 6,
      "metadata": {
        "colab": {
          "base_uri": "https://localhost:8080/",
          "height": 467
        },
        "id": "aD7IkFWUGtCi",
        "outputId": "100f268c-ca1b-4e09-afac-c29ef57f5e69"
      },
      "outputs": [
        {
          "output_type": "execute_result",
          "data": {
            "text/plain": [
              "                      name  height_m  weight_kg   hp  attack  defense  \\\n",
              "0                Bulbasaur       0.7        6.9   45      49       49   \n",
              "1                  Ivysaur       1.0       13.0   60      62       63   \n",
              "2                 Venusaur       2.0      100.0   80      82       83   \n",
              "3            Mega Venusaur       2.4      155.5   80     100      123   \n",
              "4               Charmander       0.6        8.5   39      52       43   \n",
              "...                    ...       ...        ...  ...     ...      ...   \n",
              "1040             Glastrier       2.2      800.0  100     145      130   \n",
              "1041             Spectrier       2.0       44.5  100      65       60   \n",
              "1042               Calyrex       1.1        7.7  100      80       80   \n",
              "1043     Calyrex Ice Rider       2.4      809.1  100     165      150   \n",
              "1044  Calyrex Shadow Rider       2.4       53.6  100      85       80   \n",
              "\n",
              "      sp_attack  sp_defense  speed  catch_rate  base_friendship  \\\n",
              "0            65          65     45        45.0             70.0   \n",
              "1            80          80     60        45.0             70.0   \n",
              "2           100         100     80        45.0             70.0   \n",
              "3           122         120     80        45.0             70.0   \n",
              "4            60          50     65        45.0             70.0   \n",
              "...         ...         ...    ...         ...              ...   \n",
              "1040         65         110     30         3.0              NaN   \n",
              "1041        145          80    130         3.0              NaN   \n",
              "1042         80          80     80         3.0              NaN   \n",
              "1043         85         130     50         3.0              NaN   \n",
              "1044        165         100    150         3.0              NaN   \n",
              "\n",
              "      base_experience  egg_cycles  \n",
              "0                64.0        20.0  \n",
              "1               142.0        20.0  \n",
              "2               236.0        20.0  \n",
              "3               281.0        20.0  \n",
              "4                62.0        20.0  \n",
              "...               ...         ...  \n",
              "1040              NaN       120.0  \n",
              "1041              NaN       120.0  \n",
              "1042              NaN       120.0  \n",
              "1043              NaN       120.0  \n",
              "1044              NaN       120.0  \n",
              "\n",
              "[1045 rows x 13 columns]"
            ],
            "text/html": [
              "\n",
              "  <div id=\"df-83ffd7af-dc3f-4519-9d14-f9975c43951b\">\n",
              "    <div class=\"colab-df-container\">\n",
              "      <div>\n",
              "<style scoped>\n",
              "    .dataframe tbody tr th:only-of-type {\n",
              "        vertical-align: middle;\n",
              "    }\n",
              "\n",
              "    .dataframe tbody tr th {\n",
              "        vertical-align: top;\n",
              "    }\n",
              "\n",
              "    .dataframe thead th {\n",
              "        text-align: right;\n",
              "    }\n",
              "</style>\n",
              "<table border=\"1\" class=\"dataframe\">\n",
              "  <thead>\n",
              "    <tr style=\"text-align: right;\">\n",
              "      <th></th>\n",
              "      <th>name</th>\n",
              "      <th>height_m</th>\n",
              "      <th>weight_kg</th>\n",
              "      <th>hp</th>\n",
              "      <th>attack</th>\n",
              "      <th>defense</th>\n",
              "      <th>sp_attack</th>\n",
              "      <th>sp_defense</th>\n",
              "      <th>speed</th>\n",
              "      <th>catch_rate</th>\n",
              "      <th>base_friendship</th>\n",
              "      <th>base_experience</th>\n",
              "      <th>egg_cycles</th>\n",
              "    </tr>\n",
              "  </thead>\n",
              "  <tbody>\n",
              "    <tr>\n",
              "      <th>0</th>\n",
              "      <td>Bulbasaur</td>\n",
              "      <td>0.7</td>\n",
              "      <td>6.9</td>\n",
              "      <td>45</td>\n",
              "      <td>49</td>\n",
              "      <td>49</td>\n",
              "      <td>65</td>\n",
              "      <td>65</td>\n",
              "      <td>45</td>\n",
              "      <td>45.0</td>\n",
              "      <td>70.0</td>\n",
              "      <td>64.0</td>\n",
              "      <td>20.0</td>\n",
              "    </tr>\n",
              "    <tr>\n",
              "      <th>1</th>\n",
              "      <td>Ivysaur</td>\n",
              "      <td>1.0</td>\n",
              "      <td>13.0</td>\n",
              "      <td>60</td>\n",
              "      <td>62</td>\n",
              "      <td>63</td>\n",
              "      <td>80</td>\n",
              "      <td>80</td>\n",
              "      <td>60</td>\n",
              "      <td>45.0</td>\n",
              "      <td>70.0</td>\n",
              "      <td>142.0</td>\n",
              "      <td>20.0</td>\n",
              "    </tr>\n",
              "    <tr>\n",
              "      <th>2</th>\n",
              "      <td>Venusaur</td>\n",
              "      <td>2.0</td>\n",
              "      <td>100.0</td>\n",
              "      <td>80</td>\n",
              "      <td>82</td>\n",
              "      <td>83</td>\n",
              "      <td>100</td>\n",
              "      <td>100</td>\n",
              "      <td>80</td>\n",
              "      <td>45.0</td>\n",
              "      <td>70.0</td>\n",
              "      <td>236.0</td>\n",
              "      <td>20.0</td>\n",
              "    </tr>\n",
              "    <tr>\n",
              "      <th>3</th>\n",
              "      <td>Mega Venusaur</td>\n",
              "      <td>2.4</td>\n",
              "      <td>155.5</td>\n",
              "      <td>80</td>\n",
              "      <td>100</td>\n",
              "      <td>123</td>\n",
              "      <td>122</td>\n",
              "      <td>120</td>\n",
              "      <td>80</td>\n",
              "      <td>45.0</td>\n",
              "      <td>70.0</td>\n",
              "      <td>281.0</td>\n",
              "      <td>20.0</td>\n",
              "    </tr>\n",
              "    <tr>\n",
              "      <th>4</th>\n",
              "      <td>Charmander</td>\n",
              "      <td>0.6</td>\n",
              "      <td>8.5</td>\n",
              "      <td>39</td>\n",
              "      <td>52</td>\n",
              "      <td>43</td>\n",
              "      <td>60</td>\n",
              "      <td>50</td>\n",
              "      <td>65</td>\n",
              "      <td>45.0</td>\n",
              "      <td>70.0</td>\n",
              "      <td>62.0</td>\n",
              "      <td>20.0</td>\n",
              "    </tr>\n",
              "    <tr>\n",
              "      <th>...</th>\n",
              "      <td>...</td>\n",
              "      <td>...</td>\n",
              "      <td>...</td>\n",
              "      <td>...</td>\n",
              "      <td>...</td>\n",
              "      <td>...</td>\n",
              "      <td>...</td>\n",
              "      <td>...</td>\n",
              "      <td>...</td>\n",
              "      <td>...</td>\n",
              "      <td>...</td>\n",
              "      <td>...</td>\n",
              "      <td>...</td>\n",
              "    </tr>\n",
              "    <tr>\n",
              "      <th>1040</th>\n",
              "      <td>Glastrier</td>\n",
              "      <td>2.2</td>\n",
              "      <td>800.0</td>\n",
              "      <td>100</td>\n",
              "      <td>145</td>\n",
              "      <td>130</td>\n",
              "      <td>65</td>\n",
              "      <td>110</td>\n",
              "      <td>30</td>\n",
              "      <td>3.0</td>\n",
              "      <td>NaN</td>\n",
              "      <td>NaN</td>\n",
              "      <td>120.0</td>\n",
              "    </tr>\n",
              "    <tr>\n",
              "      <th>1041</th>\n",
              "      <td>Spectrier</td>\n",
              "      <td>2.0</td>\n",
              "      <td>44.5</td>\n",
              "      <td>100</td>\n",
              "      <td>65</td>\n",
              "      <td>60</td>\n",
              "      <td>145</td>\n",
              "      <td>80</td>\n",
              "      <td>130</td>\n",
              "      <td>3.0</td>\n",
              "      <td>NaN</td>\n",
              "      <td>NaN</td>\n",
              "      <td>120.0</td>\n",
              "    </tr>\n",
              "    <tr>\n",
              "      <th>1042</th>\n",
              "      <td>Calyrex</td>\n",
              "      <td>1.1</td>\n",
              "      <td>7.7</td>\n",
              "      <td>100</td>\n",
              "      <td>80</td>\n",
              "      <td>80</td>\n",
              "      <td>80</td>\n",
              "      <td>80</td>\n",
              "      <td>80</td>\n",
              "      <td>3.0</td>\n",
              "      <td>NaN</td>\n",
              "      <td>NaN</td>\n",
              "      <td>120.0</td>\n",
              "    </tr>\n",
              "    <tr>\n",
              "      <th>1043</th>\n",
              "      <td>Calyrex Ice Rider</td>\n",
              "      <td>2.4</td>\n",
              "      <td>809.1</td>\n",
              "      <td>100</td>\n",
              "      <td>165</td>\n",
              "      <td>150</td>\n",
              "      <td>85</td>\n",
              "      <td>130</td>\n",
              "      <td>50</td>\n",
              "      <td>3.0</td>\n",
              "      <td>NaN</td>\n",
              "      <td>NaN</td>\n",
              "      <td>120.0</td>\n",
              "    </tr>\n",
              "    <tr>\n",
              "      <th>1044</th>\n",
              "      <td>Calyrex Shadow Rider</td>\n",
              "      <td>2.4</td>\n",
              "      <td>53.6</td>\n",
              "      <td>100</td>\n",
              "      <td>85</td>\n",
              "      <td>80</td>\n",
              "      <td>165</td>\n",
              "      <td>100</td>\n",
              "      <td>150</td>\n",
              "      <td>3.0</td>\n",
              "      <td>NaN</td>\n",
              "      <td>NaN</td>\n",
              "      <td>120.0</td>\n",
              "    </tr>\n",
              "  </tbody>\n",
              "</table>\n",
              "<p>1045 rows × 13 columns</p>\n",
              "</div>\n",
              "      <button class=\"colab-df-convert\" onclick=\"convertToInteractive('df-83ffd7af-dc3f-4519-9d14-f9975c43951b')\"\n",
              "              title=\"Convert this dataframe to an interactive table.\"\n",
              "              style=\"display:none;\">\n",
              "        \n",
              "  <svg xmlns=\"http://www.w3.org/2000/svg\" height=\"24px\"viewBox=\"0 0 24 24\"\n",
              "       width=\"24px\">\n",
              "    <path d=\"M0 0h24v24H0V0z\" fill=\"none\"/>\n",
              "    <path d=\"M18.56 5.44l.94 2.06.94-2.06 2.06-.94-2.06-.94-.94-2.06-.94 2.06-2.06.94zm-11 1L8.5 8.5l.94-2.06 2.06-.94-2.06-.94L8.5 2.5l-.94 2.06-2.06.94zm10 10l.94 2.06.94-2.06 2.06-.94-2.06-.94-.94-2.06-.94 2.06-2.06.94z\"/><path d=\"M17.41 7.96l-1.37-1.37c-.4-.4-.92-.59-1.43-.59-.52 0-1.04.2-1.43.59L10.3 9.45l-7.72 7.72c-.78.78-.78 2.05 0 2.83L4 21.41c.39.39.9.59 1.41.59.51 0 1.02-.2 1.41-.59l7.78-7.78 2.81-2.81c.8-.78.8-2.07 0-2.86zM5.41 20L4 18.59l7.72-7.72 1.47 1.35L5.41 20z\"/>\n",
              "  </svg>\n",
              "      </button>\n",
              "      \n",
              "  <style>\n",
              "    .colab-df-container {\n",
              "      display:flex;\n",
              "      flex-wrap:wrap;\n",
              "      gap: 12px;\n",
              "    }\n",
              "\n",
              "    .colab-df-convert {\n",
              "      background-color: #E8F0FE;\n",
              "      border: none;\n",
              "      border-radius: 50%;\n",
              "      cursor: pointer;\n",
              "      display: none;\n",
              "      fill: #1967D2;\n",
              "      height: 32px;\n",
              "      padding: 0 0 0 0;\n",
              "      width: 32px;\n",
              "    }\n",
              "\n",
              "    .colab-df-convert:hover {\n",
              "      background-color: #E2EBFA;\n",
              "      box-shadow: 0px 1px 2px rgba(60, 64, 67, 0.3), 0px 1px 3px 1px rgba(60, 64, 67, 0.15);\n",
              "      fill: #174EA6;\n",
              "    }\n",
              "\n",
              "    [theme=dark] .colab-df-convert {\n",
              "      background-color: #3B4455;\n",
              "      fill: #D2E3FC;\n",
              "    }\n",
              "\n",
              "    [theme=dark] .colab-df-convert:hover {\n",
              "      background-color: #434B5C;\n",
              "      box-shadow: 0px 1px 3px 1px rgba(0, 0, 0, 0.15);\n",
              "      filter: drop-shadow(0px 1px 2px rgba(0, 0, 0, 0.3));\n",
              "      fill: #FFFFFF;\n",
              "    }\n",
              "  </style>\n",
              "\n",
              "      <script>\n",
              "        const buttonEl =\n",
              "          document.querySelector('#df-83ffd7af-dc3f-4519-9d14-f9975c43951b button.colab-df-convert');\n",
              "        buttonEl.style.display =\n",
              "          google.colab.kernel.accessAllowed ? 'block' : 'none';\n",
              "\n",
              "        async function convertToInteractive(key) {\n",
              "          const element = document.querySelector('#df-83ffd7af-dc3f-4519-9d14-f9975c43951b');\n",
              "          const dataTable =\n",
              "            await google.colab.kernel.invokeFunction('convertToInteractive',\n",
              "                                                     [key], {});\n",
              "          if (!dataTable) return;\n",
              "\n",
              "          const docLinkHtml = 'Like what you see? Visit the ' +\n",
              "            '<a target=\"_blank\" href=https://colab.research.google.com/notebooks/data_table.ipynb>data table notebook</a>'\n",
              "            + ' to learn more about interactive tables.';\n",
              "          element.innerHTML = '';\n",
              "          dataTable['output_type'] = 'display_data';\n",
              "          await google.colab.output.renderOutput(dataTable, element);\n",
              "          const docLink = document.createElement('div');\n",
              "          docLink.innerHTML = docLinkHtml;\n",
              "          element.appendChild(docLink);\n",
              "        }\n",
              "      </script>\n",
              "    </div>\n",
              "  </div>\n",
              "  "
            ]
          },
          "metadata": {},
          "execution_count": 6
        }
      ],
      "source": [
        "#removed total points because engineered variable\n",
        "numeric = pokemon[['name','height_m', 'weight_kg', 'hp', 'attack', 'defense',\n",
        "       'sp_attack', 'sp_defense', 'speed', 'catch_rate', 'base_friendship',\n",
        "       'base_experience', 'egg_cycles']]\n",
        "numeric"
      ]
    },
    {
      "cell_type": "markdown",
      "metadata": {
        "id": "-RuUaTybtIen"
      },
      "source": [
        "After narrowing the data frame to numeric columns, 120 Pokemon species still have missing data. I'm familiar enough with the franchise to know that all of these Pokemon were introduced after the Sun and Moon games. By cutting this sample from that dataset, I would be losing a generation of species, but I have no reason to believe that these Pokemon species would be distinct from the rest of the data set."
      ]
    },
    {
      "cell_type": "code",
      "execution_count": 7,
      "metadata": {
        "colab": {
          "base_uri": "https://localhost:8080/",
          "height": 467
        },
        "id": "E3ZNpPolHF2y",
        "outputId": "a815833a-2071-4e32-e356-b1e9557adcc2"
      },
      "outputs": [
        {
          "output_type": "execute_result",
          "data": {
            "text/plain": [
              "                      name  height_m  weight_kg   hp  attack  defense  \\\n",
              "69         Galarian Meowth       0.4        7.5   50      65       55   \n",
              "100        Galarian Ponyta       0.8       24.0   50      85       55   \n",
              "102      Galarian Rapidash       1.7       80.0   65     100       70   \n",
              "107       Galarian Slowbro       1.6       70.5   95     100       95   \n",
              "111    Galarian Farfetch'd       0.8       42.0   52      95       55   \n",
              "...                    ...       ...        ...  ...     ...      ...   \n",
              "1040             Glastrier       2.2      800.0  100     145      130   \n",
              "1041             Spectrier       2.0       44.5  100      65       60   \n",
              "1042               Calyrex       1.1        7.7  100      80       80   \n",
              "1043     Calyrex Ice Rider       2.4      809.1  100     165      150   \n",
              "1044  Calyrex Shadow Rider       2.4       53.6  100      85       80   \n",
              "\n",
              "      sp_attack  sp_defense  speed  catch_rate  base_friendship  \\\n",
              "69           40          40     40         NaN              NaN   \n",
              "100          65          65     90         NaN              NaN   \n",
              "102          80          80    105         NaN              NaN   \n",
              "107         100          70     30        75.0             70.0   \n",
              "111          58          62     55         NaN              NaN   \n",
              "...         ...         ...    ...         ...              ...   \n",
              "1040         65         110     30         3.0              NaN   \n",
              "1041        145          80    130         3.0              NaN   \n",
              "1042         80          80     80         3.0              NaN   \n",
              "1043         85         130     50         3.0              NaN   \n",
              "1044        165         100    150         3.0              NaN   \n",
              "\n",
              "      base_experience  egg_cycles  \n",
              "69                NaN        20.0  \n",
              "100               NaN        20.0  \n",
              "102               NaN        20.0  \n",
              "107               NaN        20.0  \n",
              "111               NaN        20.0  \n",
              "...               ...         ...  \n",
              "1040              NaN       120.0  \n",
              "1041              NaN       120.0  \n",
              "1042              NaN       120.0  \n",
              "1043              NaN       120.0  \n",
              "1044              NaN       120.0  \n",
              "\n",
              "[120 rows x 13 columns]"
            ],
            "text/html": [
              "\n",
              "  <div id=\"df-0789341d-ad9a-4e61-8b2d-6ee3a1d720d1\">\n",
              "    <div class=\"colab-df-container\">\n",
              "      <div>\n",
              "<style scoped>\n",
              "    .dataframe tbody tr th:only-of-type {\n",
              "        vertical-align: middle;\n",
              "    }\n",
              "\n",
              "    .dataframe tbody tr th {\n",
              "        vertical-align: top;\n",
              "    }\n",
              "\n",
              "    .dataframe thead th {\n",
              "        text-align: right;\n",
              "    }\n",
              "</style>\n",
              "<table border=\"1\" class=\"dataframe\">\n",
              "  <thead>\n",
              "    <tr style=\"text-align: right;\">\n",
              "      <th></th>\n",
              "      <th>name</th>\n",
              "      <th>height_m</th>\n",
              "      <th>weight_kg</th>\n",
              "      <th>hp</th>\n",
              "      <th>attack</th>\n",
              "      <th>defense</th>\n",
              "      <th>sp_attack</th>\n",
              "      <th>sp_defense</th>\n",
              "      <th>speed</th>\n",
              "      <th>catch_rate</th>\n",
              "      <th>base_friendship</th>\n",
              "      <th>base_experience</th>\n",
              "      <th>egg_cycles</th>\n",
              "    </tr>\n",
              "  </thead>\n",
              "  <tbody>\n",
              "    <tr>\n",
              "      <th>69</th>\n",
              "      <td>Galarian Meowth</td>\n",
              "      <td>0.4</td>\n",
              "      <td>7.5</td>\n",
              "      <td>50</td>\n",
              "      <td>65</td>\n",
              "      <td>55</td>\n",
              "      <td>40</td>\n",
              "      <td>40</td>\n",
              "      <td>40</td>\n",
              "      <td>NaN</td>\n",
              "      <td>NaN</td>\n",
              "      <td>NaN</td>\n",
              "      <td>20.0</td>\n",
              "    </tr>\n",
              "    <tr>\n",
              "      <th>100</th>\n",
              "      <td>Galarian Ponyta</td>\n",
              "      <td>0.8</td>\n",
              "      <td>24.0</td>\n",
              "      <td>50</td>\n",
              "      <td>85</td>\n",
              "      <td>55</td>\n",
              "      <td>65</td>\n",
              "      <td>65</td>\n",
              "      <td>90</td>\n",
              "      <td>NaN</td>\n",
              "      <td>NaN</td>\n",
              "      <td>NaN</td>\n",
              "      <td>20.0</td>\n",
              "    </tr>\n",
              "    <tr>\n",
              "      <th>102</th>\n",
              "      <td>Galarian Rapidash</td>\n",
              "      <td>1.7</td>\n",
              "      <td>80.0</td>\n",
              "      <td>65</td>\n",
              "      <td>100</td>\n",
              "      <td>70</td>\n",
              "      <td>80</td>\n",
              "      <td>80</td>\n",
              "      <td>105</td>\n",
              "      <td>NaN</td>\n",
              "      <td>NaN</td>\n",
              "      <td>NaN</td>\n",
              "      <td>20.0</td>\n",
              "    </tr>\n",
              "    <tr>\n",
              "      <th>107</th>\n",
              "      <td>Galarian Slowbro</td>\n",
              "      <td>1.6</td>\n",
              "      <td>70.5</td>\n",
              "      <td>95</td>\n",
              "      <td>100</td>\n",
              "      <td>95</td>\n",
              "      <td>100</td>\n",
              "      <td>70</td>\n",
              "      <td>30</td>\n",
              "      <td>75.0</td>\n",
              "      <td>70.0</td>\n",
              "      <td>NaN</td>\n",
              "      <td>20.0</td>\n",
              "    </tr>\n",
              "    <tr>\n",
              "      <th>111</th>\n",
              "      <td>Galarian Farfetch'd</td>\n",
              "      <td>0.8</td>\n",
              "      <td>42.0</td>\n",
              "      <td>52</td>\n",
              "      <td>95</td>\n",
              "      <td>55</td>\n",
              "      <td>58</td>\n",
              "      <td>62</td>\n",
              "      <td>55</td>\n",
              "      <td>NaN</td>\n",
              "      <td>NaN</td>\n",
              "      <td>NaN</td>\n",
              "      <td>20.0</td>\n",
              "    </tr>\n",
              "    <tr>\n",
              "      <th>...</th>\n",
              "      <td>...</td>\n",
              "      <td>...</td>\n",
              "      <td>...</td>\n",
              "      <td>...</td>\n",
              "      <td>...</td>\n",
              "      <td>...</td>\n",
              "      <td>...</td>\n",
              "      <td>...</td>\n",
              "      <td>...</td>\n",
              "      <td>...</td>\n",
              "      <td>...</td>\n",
              "      <td>...</td>\n",
              "      <td>...</td>\n",
              "    </tr>\n",
              "    <tr>\n",
              "      <th>1040</th>\n",
              "      <td>Glastrier</td>\n",
              "      <td>2.2</td>\n",
              "      <td>800.0</td>\n",
              "      <td>100</td>\n",
              "      <td>145</td>\n",
              "      <td>130</td>\n",
              "      <td>65</td>\n",
              "      <td>110</td>\n",
              "      <td>30</td>\n",
              "      <td>3.0</td>\n",
              "      <td>NaN</td>\n",
              "      <td>NaN</td>\n",
              "      <td>120.0</td>\n",
              "    </tr>\n",
              "    <tr>\n",
              "      <th>1041</th>\n",
              "      <td>Spectrier</td>\n",
              "      <td>2.0</td>\n",
              "      <td>44.5</td>\n",
              "      <td>100</td>\n",
              "      <td>65</td>\n",
              "      <td>60</td>\n",
              "      <td>145</td>\n",
              "      <td>80</td>\n",
              "      <td>130</td>\n",
              "      <td>3.0</td>\n",
              "      <td>NaN</td>\n",
              "      <td>NaN</td>\n",
              "      <td>120.0</td>\n",
              "    </tr>\n",
              "    <tr>\n",
              "      <th>1042</th>\n",
              "      <td>Calyrex</td>\n",
              "      <td>1.1</td>\n",
              "      <td>7.7</td>\n",
              "      <td>100</td>\n",
              "      <td>80</td>\n",
              "      <td>80</td>\n",
              "      <td>80</td>\n",
              "      <td>80</td>\n",
              "      <td>80</td>\n",
              "      <td>3.0</td>\n",
              "      <td>NaN</td>\n",
              "      <td>NaN</td>\n",
              "      <td>120.0</td>\n",
              "    </tr>\n",
              "    <tr>\n",
              "      <th>1043</th>\n",
              "      <td>Calyrex Ice Rider</td>\n",
              "      <td>2.4</td>\n",
              "      <td>809.1</td>\n",
              "      <td>100</td>\n",
              "      <td>165</td>\n",
              "      <td>150</td>\n",
              "      <td>85</td>\n",
              "      <td>130</td>\n",
              "      <td>50</td>\n",
              "      <td>3.0</td>\n",
              "      <td>NaN</td>\n",
              "      <td>NaN</td>\n",
              "      <td>120.0</td>\n",
              "    </tr>\n",
              "    <tr>\n",
              "      <th>1044</th>\n",
              "      <td>Calyrex Shadow Rider</td>\n",
              "      <td>2.4</td>\n",
              "      <td>53.6</td>\n",
              "      <td>100</td>\n",
              "      <td>85</td>\n",
              "      <td>80</td>\n",
              "      <td>165</td>\n",
              "      <td>100</td>\n",
              "      <td>150</td>\n",
              "      <td>3.0</td>\n",
              "      <td>NaN</td>\n",
              "      <td>NaN</td>\n",
              "      <td>120.0</td>\n",
              "    </tr>\n",
              "  </tbody>\n",
              "</table>\n",
              "<p>120 rows × 13 columns</p>\n",
              "</div>\n",
              "      <button class=\"colab-df-convert\" onclick=\"convertToInteractive('df-0789341d-ad9a-4e61-8b2d-6ee3a1d720d1')\"\n",
              "              title=\"Convert this dataframe to an interactive table.\"\n",
              "              style=\"display:none;\">\n",
              "        \n",
              "  <svg xmlns=\"http://www.w3.org/2000/svg\" height=\"24px\"viewBox=\"0 0 24 24\"\n",
              "       width=\"24px\">\n",
              "    <path d=\"M0 0h24v24H0V0z\" fill=\"none\"/>\n",
              "    <path d=\"M18.56 5.44l.94 2.06.94-2.06 2.06-.94-2.06-.94-.94-2.06-.94 2.06-2.06.94zm-11 1L8.5 8.5l.94-2.06 2.06-.94-2.06-.94L8.5 2.5l-.94 2.06-2.06.94zm10 10l.94 2.06.94-2.06 2.06-.94-2.06-.94-.94-2.06-.94 2.06-2.06.94z\"/><path d=\"M17.41 7.96l-1.37-1.37c-.4-.4-.92-.59-1.43-.59-.52 0-1.04.2-1.43.59L10.3 9.45l-7.72 7.72c-.78.78-.78 2.05 0 2.83L4 21.41c.39.39.9.59 1.41.59.51 0 1.02-.2 1.41-.59l7.78-7.78 2.81-2.81c.8-.78.8-2.07 0-2.86zM5.41 20L4 18.59l7.72-7.72 1.47 1.35L5.41 20z\"/>\n",
              "  </svg>\n",
              "      </button>\n",
              "      \n",
              "  <style>\n",
              "    .colab-df-container {\n",
              "      display:flex;\n",
              "      flex-wrap:wrap;\n",
              "      gap: 12px;\n",
              "    }\n",
              "\n",
              "    .colab-df-convert {\n",
              "      background-color: #E8F0FE;\n",
              "      border: none;\n",
              "      border-radius: 50%;\n",
              "      cursor: pointer;\n",
              "      display: none;\n",
              "      fill: #1967D2;\n",
              "      height: 32px;\n",
              "      padding: 0 0 0 0;\n",
              "      width: 32px;\n",
              "    }\n",
              "\n",
              "    .colab-df-convert:hover {\n",
              "      background-color: #E2EBFA;\n",
              "      box-shadow: 0px 1px 2px rgba(60, 64, 67, 0.3), 0px 1px 3px 1px rgba(60, 64, 67, 0.15);\n",
              "      fill: #174EA6;\n",
              "    }\n",
              "\n",
              "    [theme=dark] .colab-df-convert {\n",
              "      background-color: #3B4455;\n",
              "      fill: #D2E3FC;\n",
              "    }\n",
              "\n",
              "    [theme=dark] .colab-df-convert:hover {\n",
              "      background-color: #434B5C;\n",
              "      box-shadow: 0px 1px 3px 1px rgba(0, 0, 0, 0.15);\n",
              "      filter: drop-shadow(0px 1px 2px rgba(0, 0, 0, 0.3));\n",
              "      fill: #FFFFFF;\n",
              "    }\n",
              "  </style>\n",
              "\n",
              "      <script>\n",
              "        const buttonEl =\n",
              "          document.querySelector('#df-0789341d-ad9a-4e61-8b2d-6ee3a1d720d1 button.colab-df-convert');\n",
              "        buttonEl.style.display =\n",
              "          google.colab.kernel.accessAllowed ? 'block' : 'none';\n",
              "\n",
              "        async function convertToInteractive(key) {\n",
              "          const element = document.querySelector('#df-0789341d-ad9a-4e61-8b2d-6ee3a1d720d1');\n",
              "          const dataTable =\n",
              "            await google.colab.kernel.invokeFunction('convertToInteractive',\n",
              "                                                     [key], {});\n",
              "          if (!dataTable) return;\n",
              "\n",
              "          const docLinkHtml = 'Like what you see? Visit the ' +\n",
              "            '<a target=\"_blank\" href=https://colab.research.google.com/notebooks/data_table.ipynb>data table notebook</a>'\n",
              "            + ' to learn more about interactive tables.';\n",
              "          element.innerHTML = '';\n",
              "          dataTable['output_type'] = 'display_data';\n",
              "          await google.colab.output.renderOutput(dataTable, element);\n",
              "          const docLink = document.createElement('div');\n",
              "          docLink.innerHTML = docLinkHtml;\n",
              "          element.appendChild(docLink);\n",
              "        }\n",
              "      </script>\n",
              "    </div>\n",
              "  </div>\n",
              "  "
            ]
          },
          "metadata": {},
          "execution_count": 7
        }
      ],
      "source": [
        "numeric[numeric.isna().any(axis=1)]"
      ]
    },
    {
      "cell_type": "markdown",
      "metadata": {
        "id": "aDHviQtRu0lg"
      },
      "source": [
        "While browsing for data issues, I came across entries for Mega Pokemon. Mega Pokemon are not really distinct species from their non-mega counterparts. Their stats are just temporarily boosted for a battle. Think Cocaine Bear."
      ]
    },
    {
      "cell_type": "code",
      "execution_count": 8,
      "metadata": {
        "colab": {
          "base_uri": "https://localhost:8080/",
          "height": 206
        },
        "id": "4jEThzD9mqea",
        "outputId": "88f7db30-4ad3-4da9-8ccc-45db0e2e1940"
      },
      "outputs": [
        {
          "output_type": "execute_result",
          "data": {
            "text/plain": [
              "                name  height_m  weight_kg  hp  attack  defense  sp_attack  \\\n",
              "3      Mega Venusaur       2.4      155.5  80     100      123        122   \n",
              "7   Mega Charizard X       1.7      110.5  78     130      111        130   \n",
              "8   Mega Charizard Y       1.7      100.5  78     104       78        159   \n",
              "12    Mega Blastoise       1.6      101.1  79     103      120        135   \n",
              "19     Mega Beedrill       1.4       40.5  65     150       40         15   \n",
              "\n",
              "    sp_defense  speed  catch_rate  base_friendship  base_experience  \\\n",
              "3          120     80        45.0             70.0            281.0   \n",
              "7           85    100        45.0             70.0            285.0   \n",
              "8          115    100        45.0             70.0            285.0   \n",
              "12         115     78        45.0             70.0            284.0   \n",
              "19          80    145        45.0             70.0            223.0   \n",
              "\n",
              "    egg_cycles  \n",
              "3         20.0  \n",
              "7         20.0  \n",
              "8         20.0  \n",
              "12        20.0  \n",
              "19        15.0  "
            ],
            "text/html": [
              "\n",
              "  <div id=\"df-bac67f50-0179-4b6c-97dc-e076f481a87b\">\n",
              "    <div class=\"colab-df-container\">\n",
              "      <div>\n",
              "<style scoped>\n",
              "    .dataframe tbody tr th:only-of-type {\n",
              "        vertical-align: middle;\n",
              "    }\n",
              "\n",
              "    .dataframe tbody tr th {\n",
              "        vertical-align: top;\n",
              "    }\n",
              "\n",
              "    .dataframe thead th {\n",
              "        text-align: right;\n",
              "    }\n",
              "</style>\n",
              "<table border=\"1\" class=\"dataframe\">\n",
              "  <thead>\n",
              "    <tr style=\"text-align: right;\">\n",
              "      <th></th>\n",
              "      <th>name</th>\n",
              "      <th>height_m</th>\n",
              "      <th>weight_kg</th>\n",
              "      <th>hp</th>\n",
              "      <th>attack</th>\n",
              "      <th>defense</th>\n",
              "      <th>sp_attack</th>\n",
              "      <th>sp_defense</th>\n",
              "      <th>speed</th>\n",
              "      <th>catch_rate</th>\n",
              "      <th>base_friendship</th>\n",
              "      <th>base_experience</th>\n",
              "      <th>egg_cycles</th>\n",
              "    </tr>\n",
              "  </thead>\n",
              "  <tbody>\n",
              "    <tr>\n",
              "      <th>3</th>\n",
              "      <td>Mega Venusaur</td>\n",
              "      <td>2.4</td>\n",
              "      <td>155.5</td>\n",
              "      <td>80</td>\n",
              "      <td>100</td>\n",
              "      <td>123</td>\n",
              "      <td>122</td>\n",
              "      <td>120</td>\n",
              "      <td>80</td>\n",
              "      <td>45.0</td>\n",
              "      <td>70.0</td>\n",
              "      <td>281.0</td>\n",
              "      <td>20.0</td>\n",
              "    </tr>\n",
              "    <tr>\n",
              "      <th>7</th>\n",
              "      <td>Mega Charizard X</td>\n",
              "      <td>1.7</td>\n",
              "      <td>110.5</td>\n",
              "      <td>78</td>\n",
              "      <td>130</td>\n",
              "      <td>111</td>\n",
              "      <td>130</td>\n",
              "      <td>85</td>\n",
              "      <td>100</td>\n",
              "      <td>45.0</td>\n",
              "      <td>70.0</td>\n",
              "      <td>285.0</td>\n",
              "      <td>20.0</td>\n",
              "    </tr>\n",
              "    <tr>\n",
              "      <th>8</th>\n",
              "      <td>Mega Charizard Y</td>\n",
              "      <td>1.7</td>\n",
              "      <td>100.5</td>\n",
              "      <td>78</td>\n",
              "      <td>104</td>\n",
              "      <td>78</td>\n",
              "      <td>159</td>\n",
              "      <td>115</td>\n",
              "      <td>100</td>\n",
              "      <td>45.0</td>\n",
              "      <td>70.0</td>\n",
              "      <td>285.0</td>\n",
              "      <td>20.0</td>\n",
              "    </tr>\n",
              "    <tr>\n",
              "      <th>12</th>\n",
              "      <td>Mega Blastoise</td>\n",
              "      <td>1.6</td>\n",
              "      <td>101.1</td>\n",
              "      <td>79</td>\n",
              "      <td>103</td>\n",
              "      <td>120</td>\n",
              "      <td>135</td>\n",
              "      <td>115</td>\n",
              "      <td>78</td>\n",
              "      <td>45.0</td>\n",
              "      <td>70.0</td>\n",
              "      <td>284.0</td>\n",
              "      <td>20.0</td>\n",
              "    </tr>\n",
              "    <tr>\n",
              "      <th>19</th>\n",
              "      <td>Mega Beedrill</td>\n",
              "      <td>1.4</td>\n",
              "      <td>40.5</td>\n",
              "      <td>65</td>\n",
              "      <td>150</td>\n",
              "      <td>40</td>\n",
              "      <td>15</td>\n",
              "      <td>80</td>\n",
              "      <td>145</td>\n",
              "      <td>45.0</td>\n",
              "      <td>70.0</td>\n",
              "      <td>223.0</td>\n",
              "      <td>15.0</td>\n",
              "    </tr>\n",
              "  </tbody>\n",
              "</table>\n",
              "</div>\n",
              "      <button class=\"colab-df-convert\" onclick=\"convertToInteractive('df-bac67f50-0179-4b6c-97dc-e076f481a87b')\"\n",
              "              title=\"Convert this dataframe to an interactive table.\"\n",
              "              style=\"display:none;\">\n",
              "        \n",
              "  <svg xmlns=\"http://www.w3.org/2000/svg\" height=\"24px\"viewBox=\"0 0 24 24\"\n",
              "       width=\"24px\">\n",
              "    <path d=\"M0 0h24v24H0V0z\" fill=\"none\"/>\n",
              "    <path d=\"M18.56 5.44l.94 2.06.94-2.06 2.06-.94-2.06-.94-.94-2.06-.94 2.06-2.06.94zm-11 1L8.5 8.5l.94-2.06 2.06-.94-2.06-.94L8.5 2.5l-.94 2.06-2.06.94zm10 10l.94 2.06.94-2.06 2.06-.94-2.06-.94-.94-2.06-.94 2.06-2.06.94z\"/><path d=\"M17.41 7.96l-1.37-1.37c-.4-.4-.92-.59-1.43-.59-.52 0-1.04.2-1.43.59L10.3 9.45l-7.72 7.72c-.78.78-.78 2.05 0 2.83L4 21.41c.39.39.9.59 1.41.59.51 0 1.02-.2 1.41-.59l7.78-7.78 2.81-2.81c.8-.78.8-2.07 0-2.86zM5.41 20L4 18.59l7.72-7.72 1.47 1.35L5.41 20z\"/>\n",
              "  </svg>\n",
              "      </button>\n",
              "      \n",
              "  <style>\n",
              "    .colab-df-container {\n",
              "      display:flex;\n",
              "      flex-wrap:wrap;\n",
              "      gap: 12px;\n",
              "    }\n",
              "\n",
              "    .colab-df-convert {\n",
              "      background-color: #E8F0FE;\n",
              "      border: none;\n",
              "      border-radius: 50%;\n",
              "      cursor: pointer;\n",
              "      display: none;\n",
              "      fill: #1967D2;\n",
              "      height: 32px;\n",
              "      padding: 0 0 0 0;\n",
              "      width: 32px;\n",
              "    }\n",
              "\n",
              "    .colab-df-convert:hover {\n",
              "      background-color: #E2EBFA;\n",
              "      box-shadow: 0px 1px 2px rgba(60, 64, 67, 0.3), 0px 1px 3px 1px rgba(60, 64, 67, 0.15);\n",
              "      fill: #174EA6;\n",
              "    }\n",
              "\n",
              "    [theme=dark] .colab-df-convert {\n",
              "      background-color: #3B4455;\n",
              "      fill: #D2E3FC;\n",
              "    }\n",
              "\n",
              "    [theme=dark] .colab-df-convert:hover {\n",
              "      background-color: #434B5C;\n",
              "      box-shadow: 0px 1px 3px 1px rgba(0, 0, 0, 0.15);\n",
              "      filter: drop-shadow(0px 1px 2px rgba(0, 0, 0, 0.3));\n",
              "      fill: #FFFFFF;\n",
              "    }\n",
              "  </style>\n",
              "\n",
              "      <script>\n",
              "        const buttonEl =\n",
              "          document.querySelector('#df-bac67f50-0179-4b6c-97dc-e076f481a87b button.colab-df-convert');\n",
              "        buttonEl.style.display =\n",
              "          google.colab.kernel.accessAllowed ? 'block' : 'none';\n",
              "\n",
              "        async function convertToInteractive(key) {\n",
              "          const element = document.querySelector('#df-bac67f50-0179-4b6c-97dc-e076f481a87b');\n",
              "          const dataTable =\n",
              "            await google.colab.kernel.invokeFunction('convertToInteractive',\n",
              "                                                     [key], {});\n",
              "          if (!dataTable) return;\n",
              "\n",
              "          const docLinkHtml = 'Like what you see? Visit the ' +\n",
              "            '<a target=\"_blank\" href=https://colab.research.google.com/notebooks/data_table.ipynb>data table notebook</a>'\n",
              "            + ' to learn more about interactive tables.';\n",
              "          element.innerHTML = '';\n",
              "          dataTable['output_type'] = 'display_data';\n",
              "          await google.colab.output.renderOutput(dataTable, element);\n",
              "          const docLink = document.createElement('div');\n",
              "          docLink.innerHTML = docLinkHtml;\n",
              "          element.appendChild(docLink);\n",
              "        }\n",
              "      </script>\n",
              "    </div>\n",
              "  </div>\n",
              "  "
            ]
          },
          "metadata": {},
          "execution_count": 8
        }
      ],
      "source": [
        "numeric[numeric.name.str.startswith('Mega ')].head()"
      ]
    },
    {
      "cell_type": "markdown",
      "metadata": {
        "id": "HxfUoUosvXLM"
      },
      "source": [
        "Along the same lines, Primal Kyogre and Groundon are not separate species. They are just boosted forms."
      ]
    },
    {
      "cell_type": "code",
      "execution_count": 9,
      "metadata": {
        "colab": {
          "base_uri": "https://localhost:8080/",
          "height": 112
        },
        "id": "zYzTBkb58YPP",
        "outputId": "897dfe44-96df-48d3-feb0-123b726d01d1"
      },
      "outputs": [
        {
          "output_type": "execute_result",
          "data": {
            "text/plain": [
              "               name  height_m  weight_kg   hp  attack  defense  sp_attack  \\\n",
              "460   Primal Kyogre       9.8      430.0  100     150       90        180   \n",
              "462  Primal Groudon       5.0      999.7  100     180      160        150   \n",
              "\n",
              "     sp_defense  speed  catch_rate  base_friendship  base_experience  \\\n",
              "460         160     90         5.0              0.0            347.0   \n",
              "462          90     90         5.0              0.0            347.0   \n",
              "\n",
              "     egg_cycles  \n",
              "460       120.0  \n",
              "462       120.0  "
            ],
            "text/html": [
              "\n",
              "  <div id=\"df-f0fff9bb-54a6-475e-8692-398f0bc8a888\">\n",
              "    <div class=\"colab-df-container\">\n",
              "      <div>\n",
              "<style scoped>\n",
              "    .dataframe tbody tr th:only-of-type {\n",
              "        vertical-align: middle;\n",
              "    }\n",
              "\n",
              "    .dataframe tbody tr th {\n",
              "        vertical-align: top;\n",
              "    }\n",
              "\n",
              "    .dataframe thead th {\n",
              "        text-align: right;\n",
              "    }\n",
              "</style>\n",
              "<table border=\"1\" class=\"dataframe\">\n",
              "  <thead>\n",
              "    <tr style=\"text-align: right;\">\n",
              "      <th></th>\n",
              "      <th>name</th>\n",
              "      <th>height_m</th>\n",
              "      <th>weight_kg</th>\n",
              "      <th>hp</th>\n",
              "      <th>attack</th>\n",
              "      <th>defense</th>\n",
              "      <th>sp_attack</th>\n",
              "      <th>sp_defense</th>\n",
              "      <th>speed</th>\n",
              "      <th>catch_rate</th>\n",
              "      <th>base_friendship</th>\n",
              "      <th>base_experience</th>\n",
              "      <th>egg_cycles</th>\n",
              "    </tr>\n",
              "  </thead>\n",
              "  <tbody>\n",
              "    <tr>\n",
              "      <th>460</th>\n",
              "      <td>Primal Kyogre</td>\n",
              "      <td>9.8</td>\n",
              "      <td>430.0</td>\n",
              "      <td>100</td>\n",
              "      <td>150</td>\n",
              "      <td>90</td>\n",
              "      <td>180</td>\n",
              "      <td>160</td>\n",
              "      <td>90</td>\n",
              "      <td>5.0</td>\n",
              "      <td>0.0</td>\n",
              "      <td>347.0</td>\n",
              "      <td>120.0</td>\n",
              "    </tr>\n",
              "    <tr>\n",
              "      <th>462</th>\n",
              "      <td>Primal Groudon</td>\n",
              "      <td>5.0</td>\n",
              "      <td>999.7</td>\n",
              "      <td>100</td>\n",
              "      <td>180</td>\n",
              "      <td>160</td>\n",
              "      <td>150</td>\n",
              "      <td>90</td>\n",
              "      <td>90</td>\n",
              "      <td>5.0</td>\n",
              "      <td>0.0</td>\n",
              "      <td>347.0</td>\n",
              "      <td>120.0</td>\n",
              "    </tr>\n",
              "  </tbody>\n",
              "</table>\n",
              "</div>\n",
              "      <button class=\"colab-df-convert\" onclick=\"convertToInteractive('df-f0fff9bb-54a6-475e-8692-398f0bc8a888')\"\n",
              "              title=\"Convert this dataframe to an interactive table.\"\n",
              "              style=\"display:none;\">\n",
              "        \n",
              "  <svg xmlns=\"http://www.w3.org/2000/svg\" height=\"24px\"viewBox=\"0 0 24 24\"\n",
              "       width=\"24px\">\n",
              "    <path d=\"M0 0h24v24H0V0z\" fill=\"none\"/>\n",
              "    <path d=\"M18.56 5.44l.94 2.06.94-2.06 2.06-.94-2.06-.94-.94-2.06-.94 2.06-2.06.94zm-11 1L8.5 8.5l.94-2.06 2.06-.94-2.06-.94L8.5 2.5l-.94 2.06-2.06.94zm10 10l.94 2.06.94-2.06 2.06-.94-2.06-.94-.94-2.06-.94 2.06-2.06.94z\"/><path d=\"M17.41 7.96l-1.37-1.37c-.4-.4-.92-.59-1.43-.59-.52 0-1.04.2-1.43.59L10.3 9.45l-7.72 7.72c-.78.78-.78 2.05 0 2.83L4 21.41c.39.39.9.59 1.41.59.51 0 1.02-.2 1.41-.59l7.78-7.78 2.81-2.81c.8-.78.8-2.07 0-2.86zM5.41 20L4 18.59l7.72-7.72 1.47 1.35L5.41 20z\"/>\n",
              "  </svg>\n",
              "      </button>\n",
              "      \n",
              "  <style>\n",
              "    .colab-df-container {\n",
              "      display:flex;\n",
              "      flex-wrap:wrap;\n",
              "      gap: 12px;\n",
              "    }\n",
              "\n",
              "    .colab-df-convert {\n",
              "      background-color: #E8F0FE;\n",
              "      border: none;\n",
              "      border-radius: 50%;\n",
              "      cursor: pointer;\n",
              "      display: none;\n",
              "      fill: #1967D2;\n",
              "      height: 32px;\n",
              "      padding: 0 0 0 0;\n",
              "      width: 32px;\n",
              "    }\n",
              "\n",
              "    .colab-df-convert:hover {\n",
              "      background-color: #E2EBFA;\n",
              "      box-shadow: 0px 1px 2px rgba(60, 64, 67, 0.3), 0px 1px 3px 1px rgba(60, 64, 67, 0.15);\n",
              "      fill: #174EA6;\n",
              "    }\n",
              "\n",
              "    [theme=dark] .colab-df-convert {\n",
              "      background-color: #3B4455;\n",
              "      fill: #D2E3FC;\n",
              "    }\n",
              "\n",
              "    [theme=dark] .colab-df-convert:hover {\n",
              "      background-color: #434B5C;\n",
              "      box-shadow: 0px 1px 3px 1px rgba(0, 0, 0, 0.15);\n",
              "      filter: drop-shadow(0px 1px 2px rgba(0, 0, 0, 0.3));\n",
              "      fill: #FFFFFF;\n",
              "    }\n",
              "  </style>\n",
              "\n",
              "      <script>\n",
              "        const buttonEl =\n",
              "          document.querySelector('#df-f0fff9bb-54a6-475e-8692-398f0bc8a888 button.colab-df-convert');\n",
              "        buttonEl.style.display =\n",
              "          google.colab.kernel.accessAllowed ? 'block' : 'none';\n",
              "\n",
              "        async function convertToInteractive(key) {\n",
              "          const element = document.querySelector('#df-f0fff9bb-54a6-475e-8692-398f0bc8a888');\n",
              "          const dataTable =\n",
              "            await google.colab.kernel.invokeFunction('convertToInteractive',\n",
              "                                                     [key], {});\n",
              "          if (!dataTable) return;\n",
              "\n",
              "          const docLinkHtml = 'Like what you see? Visit the ' +\n",
              "            '<a target=\"_blank\" href=https://colab.research.google.com/notebooks/data_table.ipynb>data table notebook</a>'\n",
              "            + ' to learn more about interactive tables.';\n",
              "          element.innerHTML = '';\n",
              "          dataTable['output_type'] = 'display_data';\n",
              "          await google.colab.output.renderOutput(dataTable, element);\n",
              "          const docLink = document.createElement('div');\n",
              "          docLink.innerHTML = docLinkHtml;\n",
              "          element.appendChild(docLink);\n",
              "        }\n",
              "      </script>\n",
              "    </div>\n",
              "  </div>\n",
              "  "
            ]
          },
          "metadata": {},
          "execution_count": 9
        }
      ],
      "source": [
        "numeric[numeric.name.str.startswith('Primal ')].head()"
      ]
    },
    {
      "cell_type": "markdown",
      "metadata": {
        "id": "FO36Mr6LwCyD"
      },
      "source": [
        "I removed the Mega Pokemon, Primal Pokemon, and Pokemon with null values from the data frame. There are still 875 distinct species to be analyzed."
      ]
    },
    {
      "cell_type": "code",
      "execution_count": 10,
      "metadata": {
        "colab": {
          "base_uri": "https://localhost:8080/"
        },
        "id": "rzjO_yyNmy-r",
        "outputId": "7ea44c38-9ffb-4a6a-9a2d-e9ee00d33646"
      },
      "outputs": [
        {
          "output_type": "stream",
          "name": "stdout",
          "text": [
            "<class 'pandas.core.frame.DataFrame'>\n",
            "RangeIndex: 875 entries, 0 to 874\n",
            "Data columns (total 13 columns):\n",
            " #   Column           Non-Null Count  Dtype  \n",
            "---  ------           --------------  -----  \n",
            " 0   name             875 non-null    object \n",
            " 1   height_m         875 non-null    float64\n",
            " 2   weight_kg        875 non-null    float64\n",
            " 3   hp               875 non-null    int64  \n",
            " 4   attack           875 non-null    int64  \n",
            " 5   defense          875 non-null    int64  \n",
            " 6   sp_attack        875 non-null    int64  \n",
            " 7   sp_defense       875 non-null    int64  \n",
            " 8   speed            875 non-null    int64  \n",
            " 9   catch_rate       875 non-null    float64\n",
            " 10  base_friendship  875 non-null    float64\n",
            " 11  base_experience  875 non-null    float64\n",
            " 12  egg_cycles       875 non-null    float64\n",
            "dtypes: float64(6), int64(6), object(1)\n",
            "memory usage: 89.0+ KB\n"
          ]
        }
      ],
      "source": [
        "clean = numeric[~numeric.name.str.startswith('Mega ')].dropna()\n",
        "clean = clean[~clean.name.str.startswith('Primal ')].reset_index(drop=True)\n",
        "clean.info()"
      ]
    },
    {
      "cell_type": "markdown",
      "metadata": {
        "id": "wBiit-LbppOS"
      },
      "source": [
        "#Exploratory Data Analysis"
      ]
    },
    {
      "cell_type": "markdown",
      "metadata": {
        "id": "FetMnjEMwewN"
      },
      "source": [
        "The heatmap below illustrates the correlation between the retained numeric variables. Almost all of the metrics correlate positively. This makes intuitive sense; bigger Pokemon species tend to be stronger. Exceptions are \"catch_rate\" and \"base_friendship\", which correlate negatively with the rest of the variables. This would suggest that bigger/stronger Pokemon are harder to catch and are less friendly when initially captured."
      ]
    },
    {
      "cell_type": "code",
      "execution_count": 11,
      "metadata": {
        "colab": {
          "base_uri": "https://localhost:8080/",
          "height": 687
        },
        "id": "578Rj1sJpzPj",
        "outputId": "59665636-03a9-40b3-b4ae-7b034264a233"
      },
      "outputs": [
        {
          "output_type": "execute_result",
          "data": {
            "text/plain": [
              "<AxesSubplot:>"
            ]
          },
          "metadata": {},
          "execution_count": 11
        },
        {
          "output_type": "display_data",
          "data": {
            "text/plain": [
              "<Figure size 720x720 with 2 Axes>"
            ],
            "image/png": "[encoded data removed]"
          },
          "metadata": {
            "needs_background": "light"
          }
        }
      ],
      "source": [
        "plt.figure(figsize=(10,10))\n",
        "\n",
        "#correlation heatmap\n",
        "sns.heatmap(clean.corr(),\n",
        "            annot = True,\n",
        "            fmt = '.2g',\n",
        "            center = 0,\n",
        "            cmap = 'coolwarm',\n",
        "            linewidths = 1,\n",
        "            linecolor = 'black')"
      ]
    },
    {
      "cell_type": "markdown",
      "metadata": {
        "id": "b_DLEpyv5pwL"
      },
      "source": [
        "###Battle Metrics"
      ]
    },
    {
      "cell_type": "markdown",
      "metadata": {
        "id": "J5qQkcr25wpA"
      },
      "source": [
        "The crux of the Pokeon games, besides catching them all, is training your Pokemon through battles. The following variables constitute the Pokemon battle mechanics."
      ]
    },
    {
      "cell_type": "markdown",
      "metadata": {
        "id": "B-4ftsQNzSal"
      },
      "source": [
        "The \"hp\" (hit points) variable measures the Pokemon's health. It is fairly normally distributed with a few positive outliers."
      ]
    },
    {
      "cell_type": "code",
      "execution_count": 12,
      "metadata": {
        "colab": {
          "base_uri": "https://localhost:8080/",
          "height": 282
        },
        "id": "1HyoZmnysZVT",
        "outputId": "04048c25-dd1d-4f88-85ca-72217744c13b"
      },
      "outputs": [
        {
          "output_type": "execute_result",
          "data": {
            "text/plain": [
              "<AxesSubplot:>"
            ]
          },
          "metadata": {},
          "execution_count": 12
        },
        {
          "output_type": "display_data",
          "data": {
            "text/plain": [
              "<Figure size 432x288 with 1 Axes>"
            ],
            "image/png": "[encoded data removed]"
          },
          "metadata": {
            "needs_background": "light"
          }
        }
      ],
      "source": [
        "clean['hp'].hist()"
      ]
    },
    {
      "cell_type": "markdown",
      "metadata": {
        "id": "y1gCImnjznpT"
      },
      "source": [
        "The \"attack\" variable determines the strength of physical attacks. It is mostly normally distributed."
      ]
    },
    {
      "cell_type": "code",
      "execution_count": 13,
      "metadata": {
        "colab": {
          "base_uri": "https://localhost:8080/",
          "height": 282
        },
        "id": "52dwwIoqsZXi",
        "outputId": "bbedf5a4-870e-44a5-929a-296299a7e0e4"
      },
      "outputs": [
        {
          "output_type": "execute_result",
          "data": {
            "text/plain": [
              "<AxesSubplot:>"
            ]
          },
          "metadata": {},
          "execution_count": 13
        },
        {
          "output_type": "display_data",
          "data": {
            "text/plain": [
              "<Figure size 432x288 with 1 Axes>"
            ],
            "image/png": "[encoded data removed]"
          },
          "metadata": {
            "needs_background": "light"
          }
        }
      ],
      "source": [
        "clean['attack'].hist()"
      ]
    },
    {
      "cell_type": "markdown",
      "metadata": {
        "id": "_ePoyNj-zzCs"
      },
      "source": [
        "The \"defense\" variable determines the resistance to physical attacks. It is fairly normally distributed with some positive outliers."
      ]
    },
    {
      "cell_type": "code",
      "execution_count": 14,
      "metadata": {
        "colab": {
          "base_uri": "https://localhost:8080/",
          "height": 282
        },
        "id": "94eFjyaksZaZ",
        "outputId": "7175baad-4cab-4246-903b-f64ee8cd8dc8"
      },
      "outputs": [
        {
          "output_type": "execute_result",
          "data": {
            "text/plain": [
              "<AxesSubplot:>"
            ]
          },
          "metadata": {},
          "execution_count": 14
        },
        {
          "output_type": "display_data",
          "data": {
            "text/plain": [
              "<Figure size 432x288 with 1 Axes>"
            ],
            "image/png": "[encoded data removed]"
          },
          "metadata": {
            "needs_background": "light"
          }
        }
      ],
      "source": [
        "clean['defense'].hist()"
      ]
    },
    {
      "cell_type": "markdown",
      "metadata": {
        "id": "J61FTI7k0JJ2"
      },
      "source": [
        "The \"sp_attack\" variable determines the strength of special attacks. The distribution skews right."
      ]
    },
    {
      "cell_type": "code",
      "execution_count": 15,
      "metadata": {
        "colab": {
          "base_uri": "https://localhost:8080/",
          "height": 282
        },
        "id": "iPYGux6xsZdQ",
        "outputId": "7f7e8433-f03a-492c-f899-948dea8120f0"
      },
      "outputs": [
        {
          "output_type": "execute_result",
          "data": {
            "text/plain": [
              "<AxesSubplot:>"
            ]
          },
          "metadata": {},
          "execution_count": 15
        },
        {
          "output_type": "display_data",
          "data": {
            "text/plain": [
              "<Figure size 432x288 with 1 Axes>"
            ],
            "image/png": "[encoded data removed]"
          },
          "metadata": {
            "needs_background": "light"
          }
        }
      ],
      "source": [
        "clean['sp_attack'].hist()"
      ]
    },
    {
      "cell_type": "markdown",
      "metadata": {
        "id": "uyhwVQn30Udz"
      },
      "source": [
        "The \"sp_defense\" variable determines the resistance to special attacks. The distribution also skews to the right."
      ]
    },
    {
      "cell_type": "code",
      "execution_count": 16,
      "metadata": {
        "colab": {
          "base_uri": "https://localhost:8080/",
          "height": 282
        },
        "id": "oZWzW83rseee",
        "outputId": "c07a2659-9fec-43d8-b2d8-a65d8eac10cf"
      },
      "outputs": [
        {
          "output_type": "execute_result",
          "data": {
            "text/plain": [
              "<AxesSubplot:>"
            ]
          },
          "metadata": {},
          "execution_count": 16
        },
        {
          "output_type": "display_data",
          "data": {
            "text/plain": [
              "<Figure size 432x288 with 1 Axes>"
            ],
            "image/png": "[encoded data removed]"
          },
          "metadata": {
            "needs_background": "light"
          }
        }
      ],
      "source": [
        "clean['sp_defense'].hist()"
      ]
    },
    {
      "cell_type": "markdown",
      "metadata": {
        "id": "HQ2MUyve0g_V"
      },
      "source": [
        "The “speed” variable determines which Pokemon attacks first. It is distributed fairly normally."
      ]
    },
    {
      "cell_type": "code",
      "execution_count": 17,
      "metadata": {
        "colab": {
          "base_uri": "https://localhost:8080/",
          "height": 282
        },
        "id": "sZI7_RKZsekw",
        "outputId": "c3ce1701-cf38-4c3f-aafc-984c7ad337fd"
      },
      "outputs": [
        {
          "output_type": "execute_result",
          "data": {
            "text/plain": [
              "<AxesSubplot:>"
            ]
          },
          "metadata": {},
          "execution_count": 17
        },
        {
          "output_type": "display_data",
          "data": {
            "text/plain": [
              "<Figure size 432x288 with 1 Axes>"
            ],
            "image/png": "[encoded data removed]"
          },
          "metadata": {
            "needs_background": "light"
          }
        }
      ],
      "source": [
        "clean['speed'].hist()"
      ]
    },
    {
      "cell_type": "markdown",
      "metadata": {
        "id": "Ea37wCuP59gi"
      },
      "source": [
        "###Non-Battle Metrics"
      ]
    },
    {
      "cell_type": "markdown",
      "metadata": {
        "id": "fR1zvTc86BdQ"
      },
      "source": [
        "The non-battle metrics are not related to Pokemon battling, but may be helpful in establishing clusters."
      ]
    },
    {
      "cell_type": "markdown",
      "metadata": {
        "id": "BK4lOzEVyu8D"
      },
      "source": [
        "The \"height_m\" distribution skews right. Most Pokemon species come under 2 meters, but there are some monster-sized outliers."
      ]
    },
    {
      "cell_type": "code",
      "execution_count": 18,
      "metadata": {
        "colab": {
          "base_uri": "https://localhost:8080/",
          "height": 282
        },
        "id": "hyshdfa9poX7",
        "outputId": "f041aff8-b995-4e7d-ac87-4cab25023a48"
      },
      "outputs": [
        {
          "output_type": "execute_result",
          "data": {
            "text/plain": [
              "<AxesSubplot:>"
            ]
          },
          "metadata": {},
          "execution_count": 18
        },
        {
          "output_type": "display_data",
          "data": {
            "text/plain": [
              "<Figure size 432x288 with 1 Axes>"
            ],
            "image/png": "[encoded data removed]"
          },
          "metadata": {
            "needs_background": "light"
          }
        }
      ],
      "source": [
        "clean['height_m'].hist()"
      ]
    },
    {
      "cell_type": "markdown",
      "metadata": {
        "id": "IZARHPcYy-VM"
      },
      "source": [
        "Like \"height_m\", the \"weight_kg\" distribution skews right. Most Pokemon species weigh less than 100kg, but there are some monster-sized outliers."
      ]
    },
    {
      "cell_type": "code",
      "execution_count": 19,
      "metadata": {
        "colab": {
          "base_uri": "https://localhost:8080/",
          "height": 282
        },
        "id": "LSXLE2NvsZSd",
        "outputId": "7dcd6255-dbea-4cfc-c21d-812ce9d3e5c7"
      },
      "outputs": [
        {
          "output_type": "execute_result",
          "data": {
            "text/plain": [
              "<AxesSubplot:>"
            ]
          },
          "metadata": {},
          "execution_count": 19
        },
        {
          "output_type": "display_data",
          "data": {
            "text/plain": [
              "<Figure size 432x288 with 1 Axes>"
            ],
            "image/png": "[encoded data removed]"
          },
          "metadata": {
            "needs_background": "light"
          }
        }
      ],
      "source": [
        "clean['weight_kg'].hist()"
      ]
    },
    {
      "cell_type": "markdown",
      "metadata": {
        "id": "qE2Bp7lQ1I1a"
      },
      "source": [
        "The \"catch_rate\" determines how easy it is to capture a Pokemon. Pokemon with a high catch rate are less likely to break out of the PokeBall. This is not a normal distribution."
      ]
    },
    {
      "cell_type": "code",
      "execution_count": 20,
      "metadata": {
        "colab": {
          "base_uri": "https://localhost:8080/",
          "height": 282
        },
        "id": "d78lucR2sent",
        "outputId": "fa17d7f9-f35d-45d2-914e-629403978b79"
      },
      "outputs": [
        {
          "output_type": "execute_result",
          "data": {
            "text/plain": [
              "<AxesSubplot:>"
            ]
          },
          "metadata": {},
          "execution_count": 20
        },
        {
          "output_type": "display_data",
          "data": {
            "text/plain": [
              "<Figure size 432x288 with 1 Axes>"
            ],
            "image/png": "[encoded data removed]"
          },
          "metadata": {
            "needs_background": "light"
          }
        }
      ],
      "source": [
        "clean['catch_rate'].hist()"
      ]
    },
    {
      "cell_type": "markdown",
      "metadata": {
        "id": "C90tjBmV1wCm"
      },
      "source": [
        "The \"base_friendship\" metric explains the affinity a Pokemon feels towards its trainer immediately after being captured. This couldn't be any further from a normal distribution. Almost all Pokemon start with a base friendship around 80."
      ]
    },
    {
      "cell_type": "code",
      "execution_count": 21,
      "metadata": {
        "colab": {
          "base_uri": "https://localhost:8080/",
          "height": 282
        },
        "id": "aI7XXQcRsesG",
        "outputId": "3631fbaf-5581-4491-d126-54203fcedc9a"
      },
      "outputs": [
        {
          "output_type": "execute_result",
          "data": {
            "text/plain": [
              "<AxesSubplot:>"
            ]
          },
          "metadata": {},
          "execution_count": 21
        },
        {
          "output_type": "display_data",
          "data": {
            "text/plain": [
              "<Figure size 432x288 with 1 Axes>"
            ],
            "image/png": "[encoded data removed]"
          },
          "metadata": {
            "needs_background": "light"
          }
        }
      ],
      "source": [
        "clean['base_friendship'].hist()"
      ]
    },
    {
      "cell_type": "markdown",
      "metadata": {
        "id": "c6Fe6XZj38C4"
      },
      "source": [
        "The \"base_experience\" variable determines the amount of experience points or growth the opposing Pokemon receives as a reward for winning the battle. Stronger Pokemon award more experience when they are defeated. This metric is somewhat bimodal."
      ]
    },
    {
      "cell_type": "code",
      "execution_count": 22,
      "metadata": {
        "colab": {
          "base_uri": "https://localhost:8080/",
          "height": 282
        },
        "id": "Hdueq9wYsfx0",
        "outputId": "960ed25e-f3e4-4038-d5ec-bf0f47479c49"
      },
      "outputs": [
        {
          "output_type": "execute_result",
          "data": {
            "text/plain": [
              "<AxesSubplot:>"
            ]
          },
          "metadata": {},
          "execution_count": 22
        },
        {
          "output_type": "display_data",
          "data": {
            "text/plain": [
              "<Figure size 432x288 with 1 Axes>"
            ],
            "image/png": "[encoded data removed]"
          },
          "metadata": {
            "needs_background": "light"
          }
        }
      ],
      "source": [
        "clean['base_experience'].hist()"
      ]
    },
    {
      "cell_type": "markdown",
      "metadata": {
        "id": "t3daByya5IFs"
      },
      "source": [
        "Lastly, \"egg_cycle\" variable explains how long it takes for a Pokemon egg to hatch with higher numbers requiring more time. Most Pokemon species have a value around 20, but there are some extreme outliers."
      ]
    },
    {
      "cell_type": "code",
      "execution_count": 23,
      "metadata": {
        "colab": {
          "base_uri": "https://localhost:8080/",
          "height": 282
        },
        "id": "H8Huv7oLs0kg",
        "outputId": "bb9a7ab5-b4dd-40c5-fb00-bbd2b66d8b82"
      },
      "outputs": [
        {
          "output_type": "execute_result",
          "data": {
            "text/plain": [
              "<AxesSubplot:>"
            ]
          },
          "metadata": {},
          "execution_count": 23
        },
        {
          "output_type": "display_data",
          "data": {
            "text/plain": [
              "<Figure size 432x288 with 1 Axes>"
            ],
            "image/png": "[encoded data removed]"
          },
          "metadata": {
            "needs_background": "light"
          }
        }
      ],
      "source": [
        "clean['egg_cycles'].hist()"
      ]
    },
    {
      "cell_type": "markdown",
      "metadata": {
        "id": "f0IPkZy2vTog"
      },
      "source": [
        "#Subset Battle Metrics & Standardize"
      ]
    },
    {
      "cell_type": "markdown",
      "metadata": {
        "id": "yjw8FgwU6qyu"
      },
      "source": [
        "I subset the battle metrics. I also standardized an array for PCA and k-means clustering."
      ]
    },
    {
      "cell_type": "code",
      "execution_count": 24,
      "metadata": {
        "colab": {
          "base_uri": "https://localhost:8080/"
        },
        "id": "n5OETstRvblh",
        "outputId": "be89e2e7-1dc6-485c-cccd-7f6721693cfd"
      },
      "outputs": [
        {
          "output_type": "execute_result",
          "data": {
            "text/plain": [
              "array([[-0.90995042, -0.93889282, -0.79334484, -0.18500475, -0.20535716,\n",
              "        -0.77640784],\n",
              "       [-0.34036347, -0.50711979, -0.32219177,  0.30297503,  0.34493126,\n",
              "        -0.24879301],\n",
              "       [ 0.41908581,  0.1571464 ,  0.35088403,  0.95361474,  1.07864916,\n",
              "         0.45469344],\n",
              "       ...,\n",
              "       [-0.302391  ,  1.78459859,  4.65856918, -0.57538858,  1.11533505,\n",
              "        -1.90198616],\n",
              "       [-0.60617071,  1.65174535, -0.65872967,  2.61274599,  0.30824537,\n",
              "         1.40440015],\n",
              "       [ 0.72286552,  1.1535457 ,  0.08165371,  1.01867871,  0.34493126,\n",
              "         2.67067576]])"
            ]
          },
          "metadata": {},
          "execution_count": 24
        }
      ],
      "source": [
        "#subset data\n",
        "battle = clean[['hp', 'attack', 'defense','sp_attack', 'sp_defense', 'speed']]\n",
        "\n",
        "#scale\n",
        "scaler = StandardScaler()\n",
        "scaler.fit(battle)\n",
        "battle_array = scaler.transform(battle)\n",
        "\n",
        "battle_array"
      ]
    },
    {
      "cell_type": "markdown",
      "metadata": {
        "id": "ONd0KMlO8EH4"
      },
      "source": [
        "Likewise, I standardized an array with all the numeric data."
      ]
    },
    {
      "cell_type": "code",
      "execution_count": 25,
      "metadata": {
        "colab": {
          "base_uri": "https://localhost:8080/"
        },
        "id": "PhzzCdWNwaSY",
        "outputId": "a2bf7afc-13b8-4876-d070-e3f4888f1076"
      },
      "outputs": [
        {
          "output_type": "execute_result",
          "data": {
            "text/plain": [
              "array([[-0.41529242, -0.49212599, -0.90995042, ...,  0.26039257,\n",
              "        -1.10191322, -0.35058392],\n",
              "       [-0.1640496 , -0.43906549, -0.34036347, ...,  0.26039257,\n",
              "        -0.07501965, -0.35058392],\n",
              "       [ 0.67342647,  0.31769888,  0.41908581, ...,  0.26039257,\n",
              "         1.16251875, -0.35058392],\n",
              "       ...,\n",
              "       [ 3.60459269,  6.58057646, -0.302391  , ..., -3.06926186,\n",
              "         1.4389901 ,  3.12743119],\n",
              "       [ 0.50593125, -0.43906549, -0.60617071, ..., -3.06926186,\n",
              "         1.4389901 ,  3.12743119],\n",
              "       [ 0.25468843, -0.1650646 ,  0.72286552, ..., -3.06926186,\n",
              "         1.61013903,  3.12743119]])"
            ]
          },
          "metadata": {},
          "execution_count": 25
        }
      ],
      "source": [
        "#reset index\n",
        "all = clean[['height_m', 'weight_kg', 'hp', 'attack', 'defense',\n",
        "       'sp_attack', 'sp_defense', 'speed', 'catch_rate', 'base_friendship',\n",
        "       'base_experience', 'egg_cycles']]\n",
        "\n",
        "#scale\n",
        "scaler = StandardScaler()\n",
        "scaler.fit(all)\n",
        "all_array = scaler.transform(all)\n",
        "\n",
        "all_array"
      ]
    },
    {
      "cell_type": "markdown",
      "metadata": {
        "id": "MMD_Axt9vZhK"
      },
      "source": [
        "#Principal Component Analysis"
      ]
    },
    {
      "cell_type": "markdown",
      "metadata": {
        "id": "OKuaQeNftJ8a"
      },
      "source": [
        "###All Metrics"
      ]
    },
    {
      "cell_type": "markdown",
      "metadata": {
        "id": "lFd6Zhi18uUJ"
      },
      "source": [
        "For all the numeric data, I used the elbow method with a scree plot to determine the ideal number of principal components. After two components, the eigenvalues level off."
      ]
    },
    {
      "cell_type": "code",
      "execution_count": 26,
      "metadata": {
        "colab": {
          "base_uri": "https://localhost:8080/",
          "height": 316
        },
        "id": "TmTHFydlxnkG",
        "outputId": "ee56821c-d74c-4083-ab66-93977f9a7699"
      },
      "outputs": [
        {
          "output_type": "execute_result",
          "data": {
            "text/plain": [
              "Text(0.5, 1.0, 'Scree Plot')"
            ]
          },
          "metadata": {},
          "execution_count": 26
        },
        {
          "output_type": "display_data",
          "data": {
            "text/plain": [
              "<Figure size 432x288 with 1 Axes>"
            ],
            "image/png": "[encoded data removed]"
          },
          "metadata": {}
        }
      ],
      "source": [
        "# Make an instance of the Model\n",
        "pca = PCA(n_components=12)\n",
        "pca.fit(all_array)\n",
        "\n",
        "plt.style.use(\"ggplot\") \n",
        "plt.plot(pca.explained_variance_, marker='o')\n",
        "plt.xlabel(\"Eigenvalue number\")\n",
        "plt.ylabel(\"Eigenvalue size\")\n",
        "plt.title(\"Scree Plot\")"
      ]
    },
    {
      "cell_type": "markdown",
      "metadata": {
        "id": "QFya-1cX9714"
      },
      "source": [
        "Reducing all the numeric data down to two principal components explains 56.2% of the overall variance. The first principal component accounts for 44.5% of the variance and the second principal component accounts for 11.7%."
      ]
    },
    {
      "cell_type": "code",
      "execution_count": 27,
      "metadata": {
        "colab": {
          "base_uri": "https://localhost:8080/"
        },
        "id": "rqV1M9Afxns_",
        "outputId": "2125a250-ed0b-4aae-b387-d2cbffe3d987"
      },
      "outputs": [
        {
          "output_type": "execute_result",
          "data": {
            "text/plain": [
              "array([44.49212722, 11.73905917])"
            ]
          },
          "metadata": {},
          "execution_count": 27
        }
      ],
      "source": [
        "pca = PCA(n_components=2)\n",
        "pca.fit(all_array)\n",
        "pca.explained_variance_ratio_*100"
      ]
    },
    {
      "cell_type": "markdown",
      "metadata": {
        "id": "TSSZ4iL1_BQ9"
      },
      "source": [
        "The heatmap below illustrates the loadings for both principal components. The first principal component mostly reflects the correlation heatmap earlier with absolute loading values between 0.2 and 0.4. As Pokemon get bigger, they also tend to become stronger but also more difficult to catch and are less initially friendly with their trainers.\n",
        "\n",
        "The second principal component correlates differently. It correlates most strongly with \"speed\" at -0.52 and \"weight_kg\" at 0.5. My hunch is that it distinguishes generally powerful Pokemon from just heavier/slower Pokemon."
      ]
    },
    {
      "cell_type": "code",
      "execution_count": 28,
      "metadata": {
        "colab": {
          "base_uri": "https://localhost:8080/",
          "height": 265
        },
        "id": "qlNpxu0pxnva",
        "outputId": "b5cdf55c-9957-4c3b-dda4-d6e1ce79da01"
      },
      "outputs": [
        {
          "output_type": "display_data",
          "data": {
            "text/plain": [
              "<Figure size 432x288 with 2 Axes>"
            ],
            "image/png": "[encoded data removed]"
          },
          "metadata": {}
        }
      ],
      "source": [
        "loadings = pca.components_\n",
        "num_pc = pca.n_features_in_\n",
        "pc_list = [\"PC\"+str(i) for i in list(range(1, num_pc+1))]\n",
        "loadings_df = pd.DataFrame.from_dict(dict(zip(pc_list, loadings)))\n",
        "loadings_df['variable'] = all.columns.values\n",
        "loadings_df = loadings_df.set_index('variable')\n",
        "ax = sns.heatmap(loadings_df, center = 0, annot=True, cmap='coolwarm', linewidths = 1, linecolor = 'black')\n",
        "plt.show()"
      ]
    },
    {
      "cell_type": "markdown",
      "metadata": {
        "id": "N81yqFeNCSOR"
      },
      "source": [
        "I fit a data set with the principal component values for each Pokemon. This data set was later applied in the k-means section to visualize the clusters."
      ]
    },
    {
      "cell_type": "code",
      "execution_count": 29,
      "metadata": {
        "colab": {
          "base_uri": "https://localhost:8080/",
          "height": 206
        },
        "id": "yb1ib2je3-PZ",
        "outputId": "d65f6941-738d-402d-da8b-ee71ca70ca8d"
      },
      "outputs": [
        {
          "output_type": "execute_result",
          "data": {
            "text/plain": [
              "        PC1       PC2        name\n",
              "0 -1.636208 -0.166264   Bulbasaur\n",
              "1 -0.326452 -0.632728     Ivysaur\n",
              "2  1.743582 -0.711562    Venusaur\n",
              "3 -1.817494 -0.473296  Charmander\n",
              "4 -0.346406 -0.913860  Charmeleon"
            ],
            "text/html": [
              "\n",
              "  <div id=\"df-27ad9934-1207-4606-8415-9651a1a7b1df\">\n",
              "    <div class=\"colab-df-container\">\n",
              "      <div>\n",
              "<style scoped>\n",
              "    .dataframe tbody tr th:only-of-type {\n",
              "        vertical-align: middle;\n",
              "    }\n",
              "\n",
              "    .dataframe tbody tr th {\n",
              "        vertical-align: top;\n",
              "    }\n",
              "\n",
              "    .dataframe thead th {\n",
              "        text-align: right;\n",
              "    }\n",
              "</style>\n",
              "<table border=\"1\" class=\"dataframe\">\n",
              "  <thead>\n",
              "    <tr style=\"text-align: right;\">\n",
              "      <th></th>\n",
              "      <th>PC1</th>\n",
              "      <th>PC2</th>\n",
              "      <th>name</th>\n",
              "    </tr>\n",
              "  </thead>\n",
              "  <tbody>\n",
              "    <tr>\n",
              "      <th>0</th>\n",
              "      <td>-1.636208</td>\n",
              "      <td>-0.166264</td>\n",
              "      <td>Bulbasaur</td>\n",
              "    </tr>\n",
              "    <tr>\n",
              "      <th>1</th>\n",
              "      <td>-0.326452</td>\n",
              "      <td>-0.632728</td>\n",
              "      <td>Ivysaur</td>\n",
              "    </tr>\n",
              "    <tr>\n",
              "      <th>2</th>\n",
              "      <td>1.743582</td>\n",
              "      <td>-0.711562</td>\n",
              "      <td>Venusaur</td>\n",
              "    </tr>\n",
              "    <tr>\n",
              "      <th>3</th>\n",
              "      <td>-1.817494</td>\n",
              "      <td>-0.473296</td>\n",
              "      <td>Charmander</td>\n",
              "    </tr>\n",
              "    <tr>\n",
              "      <th>4</th>\n",
              "      <td>-0.346406</td>\n",
              "      <td>-0.913860</td>\n",
              "      <td>Charmeleon</td>\n",
              "    </tr>\n",
              "  </tbody>\n",
              "</table>\n",
              "</div>\n",
              "      <button class=\"colab-df-convert\" onclick=\"convertToInteractive('df-27ad9934-1207-4606-8415-9651a1a7b1df')\"\n",
              "              title=\"Convert this dataframe to an interactive table.\"\n",
              "              style=\"display:none;\">\n",
              "        \n",
              "  <svg xmlns=\"http://www.w3.org/2000/svg\" height=\"24px\"viewBox=\"0 0 24 24\"\n",
              "       width=\"24px\">\n",
              "    <path d=\"M0 0h24v24H0V0z\" fill=\"none\"/>\n",
              "    <path d=\"M18.56 5.44l.94 2.06.94-2.06 2.06-.94-2.06-.94-.94-2.06-.94 2.06-2.06.94zm-11 1L8.5 8.5l.94-2.06 2.06-.94-2.06-.94L8.5 2.5l-.94 2.06-2.06.94zm10 10l.94 2.06.94-2.06 2.06-.94-2.06-.94-.94-2.06-.94 2.06-2.06.94z\"/><path d=\"M17.41 7.96l-1.37-1.37c-.4-.4-.92-.59-1.43-.59-.52 0-1.04.2-1.43.59L10.3 9.45l-7.72 7.72c-.78.78-.78 2.05 0 2.83L4 21.41c.39.39.9.59 1.41.59.51 0 1.02-.2 1.41-.59l7.78-7.78 2.81-2.81c.8-.78.8-2.07 0-2.86zM5.41 20L4 18.59l7.72-7.72 1.47 1.35L5.41 20z\"/>\n",
              "  </svg>\n",
              "      </button>\n",
              "      \n",
              "  <style>\n",
              "    .colab-df-container {\n",
              "      display:flex;\n",
              "      flex-wrap:wrap;\n",
              "      gap: 12px;\n",
              "    }\n",
              "\n",
              "    .colab-df-convert {\n",
              "      background-color: #E8F0FE;\n",
              "      border: none;\n",
              "      border-radius: 50%;\n",
              "      cursor: pointer;\n",
              "      display: none;\n",
              "      fill: #1967D2;\n",
              "      height: 32px;\n",
              "      padding: 0 0 0 0;\n",
              "      width: 32px;\n",
              "    }\n",
              "\n",
              "    .colab-df-convert:hover {\n",
              "      background-color: #E2EBFA;\n",
              "      box-shadow: 0px 1px 2px rgba(60, 64, 67, 0.3), 0px 1px 3px 1px rgba(60, 64, 67, 0.15);\n",
              "      fill: #174EA6;\n",
              "    }\n",
              "\n",
              "    [theme=dark] .colab-df-convert {\n",
              "      background-color: #3B4455;\n",
              "      fill: #D2E3FC;\n",
              "    }\n",
              "\n",
              "    [theme=dark] .colab-df-convert:hover {\n",
              "      background-color: #434B5C;\n",
              "      box-shadow: 0px 1px 3px 1px rgba(0, 0, 0, 0.15);\n",
              "      filter: drop-shadow(0px 1px 2px rgba(0, 0, 0, 0.3));\n",
              "      fill: #FFFFFF;\n",
              "    }\n",
              "  </style>\n",
              "\n",
              "      <script>\n",
              "        const buttonEl =\n",
              "          document.querySelector('#df-27ad9934-1207-4606-8415-9651a1a7b1df button.colab-df-convert');\n",
              "        buttonEl.style.display =\n",
              "          google.colab.kernel.accessAllowed ? 'block' : 'none';\n",
              "\n",
              "        async function convertToInteractive(key) {\n",
              "          const element = document.querySelector('#df-27ad9934-1207-4606-8415-9651a1a7b1df');\n",
              "          const dataTable =\n",
              "            await google.colab.kernel.invokeFunction('convertToInteractive',\n",
              "                                                     [key], {});\n",
              "          if (!dataTable) return;\n",
              "\n",
              "          const docLinkHtml = 'Like what you see? Visit the ' +\n",
              "            '<a target=\"_blank\" href=https://colab.research.google.com/notebooks/data_table.ipynb>data table notebook</a>'\n",
              "            + ' to learn more about interactive tables.';\n",
              "          element.innerHTML = '';\n",
              "          dataTable['output_type'] = 'display_data';\n",
              "          await google.colab.output.renderOutput(dataTable, element);\n",
              "          const docLink = document.createElement('div');\n",
              "          docLink.innerHTML = docLinkHtml;\n",
              "          element.appendChild(docLink);\n",
              "        }\n",
              "      </script>\n",
              "    </div>\n",
              "  </div>\n",
              "  "
            ]
          },
          "metadata": {},
          "execution_count": 29
        }
      ],
      "source": [
        "# Fit and transform data\n",
        "pca_features = pca.fit_transform(all_array)\n",
        " \n",
        "# Create dataframe\n",
        "all_pca_df = pd.DataFrame(\n",
        "    data=pca_features, \n",
        "    columns=['PC1', 'PC2'])\n",
        "all_pca_df['name'] = clean.name\n",
        "all_pca_df.head()"
      ]
    },
    {
      "cell_type": "markdown",
      "metadata": {
        "id": "QGNj_EwvtaF8"
      },
      "source": [
        "###Battle Metrics"
      ]
    },
    {
      "cell_type": "markdown",
      "metadata": {
        "id": "IJaNC_jQDLSp"
      },
      "source": [
        "Returning to the battle-specific data, I used the elbow method with a scree plot to determine the ideal number of principal components. After two components, the eigenvalues level off, though not as sharply as before with all of the numeric metrics."
      ]
    },
    {
      "cell_type": "code",
      "execution_count": 30,
      "metadata": {
        "colab": {
          "base_uri": "https://localhost:8080/",
          "height": 316
        },
        "id": "D84kLMq6td6w",
        "outputId": "d1f32700-be3f-410c-c618-a312f15b7140"
      },
      "outputs": [
        {
          "output_type": "execute_result",
          "data": {
            "text/plain": [
              "Text(0.5, 1.0, 'Scree Plot')"
            ]
          },
          "metadata": {},
          "execution_count": 30
        },
        {
          "output_type": "display_data",
          "data": {
            "text/plain": [
              "<Figure size 432x288 with 1 Axes>"
            ],
            "image/png": "[encoded data removed]"
          },
          "metadata": {}
        }
      ],
      "source": [
        "# Make an instance of the Model\n",
        "pca = PCA(n_components=6)\n",
        "pca.fit(battle_array)\n",
        "\n",
        "plt.style.use(\"ggplot\") \n",
        "plt.plot(pca.explained_variance_, marker='o')\n",
        "plt.xlabel(\"Eigenvalue number\")\n",
        "plt.ylabel(\"Eigenvalue size\")\n",
        "plt.title(\"Scree Plot\")"
      ]
    },
    {
      "cell_type": "markdown",
      "metadata": {
        "id": "7GkWWzFoDjv4"
      },
      "source": [
        "Reducing the battle metrics down to two principal components explains 62.6% of the variance. The first component handles 43.4% and the second component explains an additional 19.2%."
      ]
    },
    {
      "cell_type": "code",
      "execution_count": 31,
      "metadata": {
        "colab": {
          "base_uri": "https://localhost:8080/"
        },
        "id": "VycnL62Wtd9O",
        "outputId": "2829ee00-ba1e-4fb6-bb47-beae480f278c"
      },
      "outputs": [
        {
          "output_type": "execute_result",
          "data": {
            "text/plain": [
              "array([43.43778308, 19.20573985])"
            ]
          },
          "metadata": {},
          "execution_count": 31
        }
      ],
      "source": [
        "pca = PCA(n_components=2)\n",
        "pca.fit(battle_array)\n",
        "pca.explained_variance_ratio_*100"
      ]
    },
    {
      "cell_type": "markdown",
      "metadata": {
        "id": "y9nkpnPkEMiG"
      },
      "source": [
        "The principal component loadings for the battle metrics reflect a similar pattern to the loadings of all the numeric metrics. The first principal component correlates positively with all the battle variables, contributing to my theory that powerful pokemon are strong all-around.\n",
        "\n",
        "Similar to all the metrics, the second principal component for the battle metrics correlates most strongly with \"speed\" at -0.67 and \"defense\" at 0.61. These inverse correlations again suggest the second component is distinguishing slow defensive Pokemon."
      ]
    },
    {
      "cell_type": "code",
      "execution_count": 32,
      "metadata": {
        "colab": {
          "base_uri": "https://localhost:8080/",
          "height": 267
        },
        "id": "d-QeKiCau7HC",
        "outputId": "62b1d55d-4c5c-43f6-8a6c-9db58e8ddade"
      },
      "outputs": [
        {
          "output_type": "display_data",
          "data": {
            "text/plain": [
              "<Figure size 432x288 with 2 Axes>"
            ],
            "image/png": "[encoded data removed]"
          },
          "metadata": {}
        }
      ],
      "source": [
        "loadings = pca.components_\n",
        "num_pc = pca.n_features_in_\n",
        "pc_list = [\"PC\"+str(i) for i in list(range(1, num_pc+1))]\n",
        "loadings_df = pd.DataFrame.from_dict(dict(zip(pc_list, loadings)))\n",
        "loadings_df['variable'] = battle.columns.values\n",
        "loadings_df = loadings_df.set_index('variable')\n",
        "\n",
        "ax = sns.heatmap(loadings_df, center = 0, annot=True, cmap='coolwarm', linewidths = 1, linecolor = 'black')\n",
        "plt.show()"
      ]
    },
    {
      "cell_type": "markdown",
      "metadata": {
        "id": "vneQ76nYFyTf"
      },
      "source": [
        "Finally, I fit a data set with the battle-specific principal component values for each Pokemon. This data set was later applied in the k-means section to visualize the clusters."
      ]
    },
    {
      "cell_type": "code",
      "execution_count": 33,
      "metadata": {
        "colab": {
          "base_uri": "https://localhost:8080/",
          "height": 423
        },
        "id": "Fu4G619MvJaf",
        "outputId": "7fa31f1d-9d14-4f93-99dc-b659e2a1e564"
      },
      "outputs": [
        {
          "output_type": "execute_result",
          "data": {
            "text/plain": [
              "          PC1       PC2         name\n",
              "0   -1.636208 -0.166264    Bulbasaur\n",
              "1   -0.326452 -0.632728      Ivysaur\n",
              "2    1.743582 -0.711562     Venusaur\n",
              "3   -1.817494 -0.473296   Charmander\n",
              "4   -0.346406 -0.913860   Charmeleon\n",
              "..        ...       ...          ...\n",
              "870  1.619308  0.349739      Poipole\n",
              "871  4.040993  0.245792    Naganadel\n",
              "872  6.671013  7.350203    Stakataka\n",
              "873  3.753128 -1.088787  Blacephalon\n",
              "874  4.135471 -1.102122      Zeraora\n",
              "\n",
              "[875 rows x 3 columns]"
            ],
            "text/html": [
              "\n",
              "  <div id=\"df-2ceb1aad-9344-46b9-8ef1-fff0f8c81ff6\">\n",
              "    <div class=\"colab-df-container\">\n",
              "      <div>\n",
              "<style scoped>\n",
              "    .dataframe tbody tr th:only-of-type {\n",
              "        vertical-align: middle;\n",
              "    }\n",
              "\n",
              "    .dataframe tbody tr th {\n",
              "        vertical-align: top;\n",
              "    }\n",
              "\n",
              "    .dataframe thead th {\n",
              "        text-align: right;\n",
              "    }\n",
              "</style>\n",
              "<table border=\"1\" class=\"dataframe\">\n",
              "  <thead>\n",
              "    <tr style=\"text-align: right;\">\n",
              "      <th></th>\n",
              "      <th>PC1</th>\n",
              "      <th>PC2</th>\n",
              "      <th>name</th>\n",
              "    </tr>\n",
              "  </thead>\n",
              "  <tbody>\n",
              "    <tr>\n",
              "      <th>0</th>\n",
              "      <td>-1.636208</td>\n",
              "      <td>-0.166264</td>\n",
              "      <td>Bulbasaur</td>\n",
              "    </tr>\n",
              "    <tr>\n",
              "      <th>1</th>\n",
              "      <td>-0.326452</td>\n",
              "      <td>-0.632728</td>\n",
              "      <td>Ivysaur</td>\n",
              "    </tr>\n",
              "    <tr>\n",
              "      <th>2</th>\n",
              "      <td>1.743582</td>\n",
              "      <td>-0.711562</td>\n",
              "      <td>Venusaur</td>\n",
              "    </tr>\n",
              "    <tr>\n",
              "      <th>3</th>\n",
              "      <td>-1.817494</td>\n",
              "      <td>-0.473296</td>\n",
              "      <td>Charmander</td>\n",
              "    </tr>\n",
              "    <tr>\n",
              "      <th>4</th>\n",
              "      <td>-0.346406</td>\n",
              "      <td>-0.913860</td>\n",
              "      <td>Charmeleon</td>\n",
              "    </tr>\n",
              "    <tr>\n",
              "      <th>...</th>\n",
              "      <td>...</td>\n",
              "      <td>...</td>\n",
              "      <td>...</td>\n",
              "    </tr>\n",
              "    <tr>\n",
              "      <th>870</th>\n",
              "      <td>1.619308</td>\n",
              "      <td>0.349739</td>\n",
              "      <td>Poipole</td>\n",
              "    </tr>\n",
              "    <tr>\n",
              "      <th>871</th>\n",
              "      <td>4.040993</td>\n",
              "      <td>0.245792</td>\n",
              "      <td>Naganadel</td>\n",
              "    </tr>\n",
              "    <tr>\n",
              "      <th>872</th>\n",
              "      <td>6.671013</td>\n",
              "      <td>7.350203</td>\n",
              "      <td>Stakataka</td>\n",
              "    </tr>\n",
              "    <tr>\n",
              "      <th>873</th>\n",
              "      <td>3.753128</td>\n",
              "      <td>-1.088787</td>\n",
              "      <td>Blacephalon</td>\n",
              "    </tr>\n",
              "    <tr>\n",
              "      <th>874</th>\n",
              "      <td>4.135471</td>\n",
              "      <td>-1.102122</td>\n",
              "      <td>Zeraora</td>\n",
              "    </tr>\n",
              "  </tbody>\n",
              "</table>\n",
              "<p>875 rows × 3 columns</p>\n",
              "</div>\n",
              "      <button class=\"colab-df-convert\" onclick=\"convertToInteractive('df-2ceb1aad-9344-46b9-8ef1-fff0f8c81ff6')\"\n",
              "              title=\"Convert this dataframe to an interactive table.\"\n",
              "              style=\"display:none;\">\n",
              "        \n",
              "  <svg xmlns=\"http://www.w3.org/2000/svg\" height=\"24px\"viewBox=\"0 0 24 24\"\n",
              "       width=\"24px\">\n",
              "    <path d=\"M0 0h24v24H0V0z\" fill=\"none\"/>\n",
              "    <path d=\"M18.56 5.44l.94 2.06.94-2.06 2.06-.94-2.06-.94-.94-2.06-.94 2.06-2.06.94zm-11 1L8.5 8.5l.94-2.06 2.06-.94-2.06-.94L8.5 2.5l-.94 2.06-2.06.94zm10 10l.94 2.06.94-2.06 2.06-.94-2.06-.94-.94-2.06-.94 2.06-2.06.94z\"/><path d=\"M17.41 7.96l-1.37-1.37c-.4-.4-.92-.59-1.43-.59-.52 0-1.04.2-1.43.59L10.3 9.45l-7.72 7.72c-.78.78-.78 2.05 0 2.83L4 21.41c.39.39.9.59 1.41.59.51 0 1.02-.2 1.41-.59l7.78-7.78 2.81-2.81c.8-.78.8-2.07 0-2.86zM5.41 20L4 18.59l7.72-7.72 1.47 1.35L5.41 20z\"/>\n",
              "  </svg>\n",
              "      </button>\n",
              "      \n",
              "  <style>\n",
              "    .colab-df-container {\n",
              "      display:flex;\n",
              "      flex-wrap:wrap;\n",
              "      gap: 12px;\n",
              "    }\n",
              "\n",
              "    .colab-df-convert {\n",
              "      background-color: #E8F0FE;\n",
              "      border: none;\n",
              "      border-radius: 50%;\n",
              "      cursor: pointer;\n",
              "      display: none;\n",
              "      fill: #1967D2;\n",
              "      height: 32px;\n",
              "      padding: 0 0 0 0;\n",
              "      width: 32px;\n",
              "    }\n",
              "\n",
              "    .colab-df-convert:hover {\n",
              "      background-color: #E2EBFA;\n",
              "      box-shadow: 0px 1px 2px rgba(60, 64, 67, 0.3), 0px 1px 3px 1px rgba(60, 64, 67, 0.15);\n",
              "      fill: #174EA6;\n",
              "    }\n",
              "\n",
              "    [theme=dark] .colab-df-convert {\n",
              "      background-color: #3B4455;\n",
              "      fill: #D2E3FC;\n",
              "    }\n",
              "\n",
              "    [theme=dark] .colab-df-convert:hover {\n",
              "      background-color: #434B5C;\n",
              "      box-shadow: 0px 1px 3px 1px rgba(0, 0, 0, 0.15);\n",
              "      filter: drop-shadow(0px 1px 2px rgba(0, 0, 0, 0.3));\n",
              "      fill: #FFFFFF;\n",
              "    }\n",
              "  </style>\n",
              "\n",
              "      <script>\n",
              "        const buttonEl =\n",
              "          document.querySelector('#df-2ceb1aad-9344-46b9-8ef1-fff0f8c81ff6 button.colab-df-convert');\n",
              "        buttonEl.style.display =\n",
              "          google.colab.kernel.accessAllowed ? 'block' : 'none';\n",
              "\n",
              "        async function convertToInteractive(key) {\n",
              "          const element = document.querySelector('#df-2ceb1aad-9344-46b9-8ef1-fff0f8c81ff6');\n",
              "          const dataTable =\n",
              "            await google.colab.kernel.invokeFunction('convertToInteractive',\n",
              "                                                     [key], {});\n",
              "          if (!dataTable) return;\n",
              "\n",
              "          const docLinkHtml = 'Like what you see? Visit the ' +\n",
              "            '<a target=\"_blank\" href=https://colab.research.google.com/notebooks/data_table.ipynb>data table notebook</a>'\n",
              "            + ' to learn more about interactive tables.';\n",
              "          element.innerHTML = '';\n",
              "          dataTable['output_type'] = 'display_data';\n",
              "          await google.colab.output.renderOutput(dataTable, element);\n",
              "          const docLink = document.createElement('div');\n",
              "          docLink.innerHTML = docLinkHtml;\n",
              "          element.appendChild(docLink);\n",
              "        }\n",
              "      </script>\n",
              "    </div>\n",
              "  </div>\n",
              "  "
            ]
          },
          "metadata": {},
          "execution_count": 33
        }
      ],
      "source": [
        "# Fit and transform data\n",
        "pca_features = pca.fit_transform(all_array)\n",
        " \n",
        "# Create dataframe\n",
        "battle_pca_df = pd.DataFrame(\n",
        "    data=pca_features, \n",
        "    columns=['PC1', 'PC2'])\n",
        "battle_pca_df['name'] = clean.name\n",
        "battle_pca_df"
      ]
    },
    {
      "cell_type": "markdown",
      "metadata": {
        "id": "60S8mcW21Q1Q"
      },
      "source": [
        "#K-Means Clustering"
      ]
    },
    {
      "cell_type": "markdown",
      "metadata": {
        "id": "5XV5FlFFvwPw"
      },
      "source": [
        "###All Metrics"
      ]
    },
    {
      "cell_type": "markdown",
      "metadata": {
        "id": "VOcdq_WfH0_V"
      },
      "source": [
        "I used the elbow method with inertia to determine the ideal number of clusters for all the numeric variables. After three clusters, the decrease in inertia with each cluster diminishes."
      ]
    },
    {
      "cell_type": "code",
      "execution_count": 34,
      "metadata": {
        "colab": {
          "base_uri": "https://localhost:8080/",
          "height": 299
        },
        "id": "BL-YV_6Dxn0Q",
        "outputId": "1b26bd0f-3627-497a-a445-bb833e3d36b2"
      },
      "outputs": [
        {
          "output_type": "display_data",
          "data": {
            "text/plain": [
              "<Figure size 432x288 with 1 Axes>"
            ],
            "image/png": "[encoded data removed]"
          },
          "metadata": {}
        }
      ],
      "source": [
        "inertias = []\n",
        "\n",
        "for i in range(1,11):\n",
        "    kmeans = KMeans(n_clusters=i, n_init='auto', random_state=4)\n",
        "    kmeans.fit(all_array)\n",
        "    inertias.append(kmeans.inertia_)\n",
        "\n",
        "plt.plot(range(1,11), inertias, marker='o')\n",
        "plt.title('Elbow method')\n",
        "plt.xlabel('Number of clusters')\n",
        "plt.ylabel('Inertia')\n",
        "plt.show()"
      ]
    },
    {
      "cell_type": "markdown",
      "metadata": {
        "id": "JF3wbq2wOGAb"
      },
      "source": [
        "I fit all the numerical data to a three cluster model and added the individual Pokemon cluster designations to the battle_pca_df."
      ]
    },
    {
      "cell_type": "code",
      "execution_count": 35,
      "metadata": {
        "colab": {
          "base_uri": "https://localhost:8080/",
          "height": 423
        },
        "id": "AV1e1zDAxn2v",
        "outputId": "51b90d69-81b4-4c1c-8fe3-54cf26b5c47a"
      },
      "outputs": [
        {
          "output_type": "execute_result",
          "data": {
            "text/plain": [
              "          PC1       PC2         name  cluster_number\n",
              "0   -1.636208 -0.166264    Bulbasaur               0\n",
              "1   -0.326452 -0.632728      Ivysaur               1\n",
              "2    1.743582 -0.711562     Venusaur               1\n",
              "3   -1.817494 -0.473296   Charmander               0\n",
              "4   -0.346406 -0.913860   Charmeleon               1\n",
              "..        ...       ...          ...             ...\n",
              "870  1.619308  0.349739      Poipole               2\n",
              "871  4.040993  0.245792    Naganadel               2\n",
              "872  6.671013  7.350203    Stakataka               2\n",
              "873  3.753128 -1.088787  Blacephalon               2\n",
              "874  4.135471 -1.102122      Zeraora               2\n",
              "\n",
              "[875 rows x 4 columns]"
            ],
            "text/html": [
              "\n",
              "  <div id=\"df-3d95fe32-1e23-464d-b056-7847301b13e9\">\n",
              "    <div class=\"colab-df-container\">\n",
              "      <div>\n",
              "<style scoped>\n",
              "    .dataframe tbody tr th:only-of-type {\n",
              "        vertical-align: middle;\n",
              "    }\n",
              "\n",
              "    .dataframe tbody tr th {\n",
              "        vertical-align: top;\n",
              "    }\n",
              "\n",
              "    .dataframe thead th {\n",
              "        text-align: right;\n",
              "    }\n",
              "</style>\n",
              "<table border=\"1\" class=\"dataframe\">\n",
              "  <thead>\n",
              "    <tr style=\"text-align: right;\">\n",
              "      <th></th>\n",
              "      <th>PC1</th>\n",
              "      <th>PC2</th>\n",
              "      <th>name</th>\n",
              "      <th>cluster_number</th>\n",
              "    </tr>\n",
              "  </thead>\n",
              "  <tbody>\n",
              "    <tr>\n",
              "      <th>0</th>\n",
              "      <td>-1.636208</td>\n",
              "      <td>-0.166264</td>\n",
              "      <td>Bulbasaur</td>\n",
              "      <td>0</td>\n",
              "    </tr>\n",
              "    <tr>\n",
              "      <th>1</th>\n",
              "      <td>-0.326452</td>\n",
              "      <td>-0.632728</td>\n",
              "      <td>Ivysaur</td>\n",
              "      <td>1</td>\n",
              "    </tr>\n",
              "    <tr>\n",
              "      <th>2</th>\n",
              "      <td>1.743582</td>\n",
              "      <td>-0.711562</td>\n",
              "      <td>Venusaur</td>\n",
              "      <td>1</td>\n",
              "    </tr>\n",
              "    <tr>\n",
              "      <th>3</th>\n",
              "      <td>-1.817494</td>\n",
              "      <td>-0.473296</td>\n",
              "      <td>Charmander</td>\n",
              "      <td>0</td>\n",
              "    </tr>\n",
              "    <tr>\n",
              "      <th>4</th>\n",
              "      <td>-0.346406</td>\n",
              "      <td>-0.913860</td>\n",
              "      <td>Charmeleon</td>\n",
              "      <td>1</td>\n",
              "    </tr>\n",
              "    <tr>\n",
              "      <th>...</th>\n",
              "      <td>...</td>\n",
              "      <td>...</td>\n",
              "      <td>...</td>\n",
              "      <td>...</td>\n",
              "    </tr>\n",
              "    <tr>\n",
              "      <th>870</th>\n",
              "      <td>1.619308</td>\n",
              "      <td>0.349739</td>\n",
              "      <td>Poipole</td>\n",
              "      <td>2</td>\n",
              "    </tr>\n",
              "    <tr>\n",
              "      <th>871</th>\n",
              "      <td>4.040993</td>\n",
              "      <td>0.245792</td>\n",
              "      <td>Naganadel</td>\n",
              "      <td>2</td>\n",
              "    </tr>\n",
              "    <tr>\n",
              "      <th>872</th>\n",
              "      <td>6.671013</td>\n",
              "      <td>7.350203</td>\n",
              "      <td>Stakataka</td>\n",
              "      <td>2</td>\n",
              "    </tr>\n",
              "    <tr>\n",
              "      <th>873</th>\n",
              "      <td>3.753128</td>\n",
              "      <td>-1.088787</td>\n",
              "      <td>Blacephalon</td>\n",
              "      <td>2</td>\n",
              "    </tr>\n",
              "    <tr>\n",
              "      <th>874</th>\n",
              "      <td>4.135471</td>\n",
              "      <td>-1.102122</td>\n",
              "      <td>Zeraora</td>\n",
              "      <td>2</td>\n",
              "    </tr>\n",
              "  </tbody>\n",
              "</table>\n",
              "<p>875 rows × 4 columns</p>\n",
              "</div>\n",
              "      <button class=\"colab-df-convert\" onclick=\"convertToInteractive('df-3d95fe32-1e23-464d-b056-7847301b13e9')\"\n",
              "              title=\"Convert this dataframe to an interactive table.\"\n",
              "              style=\"display:none;\">\n",
              "        \n",
              "  <svg xmlns=\"http://www.w3.org/2000/svg\" height=\"24px\"viewBox=\"0 0 24 24\"\n",
              "       width=\"24px\">\n",
              "    <path d=\"M0 0h24v24H0V0z\" fill=\"none\"/>\n",
              "    <path d=\"M18.56 5.44l.94 2.06.94-2.06 2.06-.94-2.06-.94-.94-2.06-.94 2.06-2.06.94zm-11 1L8.5 8.5l.94-2.06 2.06-.94-2.06-.94L8.5 2.5l-.94 2.06-2.06.94zm10 10l.94 2.06.94-2.06 2.06-.94-2.06-.94-.94-2.06-.94 2.06-2.06.94z\"/><path d=\"M17.41 7.96l-1.37-1.37c-.4-.4-.92-.59-1.43-.59-.52 0-1.04.2-1.43.59L10.3 9.45l-7.72 7.72c-.78.78-.78 2.05 0 2.83L4 21.41c.39.39.9.59 1.41.59.51 0 1.02-.2 1.41-.59l7.78-7.78 2.81-2.81c.8-.78.8-2.07 0-2.86zM5.41 20L4 18.59l7.72-7.72 1.47 1.35L5.41 20z\"/>\n",
              "  </svg>\n",
              "      </button>\n",
              "      \n",
              "  <style>\n",
              "    .colab-df-container {\n",
              "      display:flex;\n",
              "      flex-wrap:wrap;\n",
              "      gap: 12px;\n",
              "    }\n",
              "\n",
              "    .colab-df-convert {\n",
              "      background-color: #E8F0FE;\n",
              "      border: none;\n",
              "      border-radius: 50%;\n",
              "      cursor: pointer;\n",
              "      display: none;\n",
              "      fill: #1967D2;\n",
              "      height: 32px;\n",
              "      padding: 0 0 0 0;\n",
              "      width: 32px;\n",
              "    }\n",
              "\n",
              "    .colab-df-convert:hover {\n",
              "      background-color: #E2EBFA;\n",
              "      box-shadow: 0px 1px 2px rgba(60, 64, 67, 0.3), 0px 1px 3px 1px rgba(60, 64, 67, 0.15);\n",
              "      fill: #174EA6;\n",
              "    }\n",
              "\n",
              "    [theme=dark] .colab-df-convert {\n",
              "      background-color: #3B4455;\n",
              "      fill: #D2E3FC;\n",
              "    }\n",
              "\n",
              "    [theme=dark] .colab-df-convert:hover {\n",
              "      background-color: #434B5C;\n",
              "      box-shadow: 0px 1px 3px 1px rgba(0, 0, 0, 0.15);\n",
              "      filter: drop-shadow(0px 1px 2px rgba(0, 0, 0, 0.3));\n",
              "      fill: #FFFFFF;\n",
              "    }\n",
              "  </style>\n",
              "\n",
              "      <script>\n",
              "        const buttonEl =\n",
              "          document.querySelector('#df-3d95fe32-1e23-464d-b056-7847301b13e9 button.colab-df-convert');\n",
              "        buttonEl.style.display =\n",
              "          google.colab.kernel.accessAllowed ? 'block' : 'none';\n",
              "\n",
              "        async function convertToInteractive(key) {\n",
              "          const element = document.querySelector('#df-3d95fe32-1e23-464d-b056-7847301b13e9');\n",
              "          const dataTable =\n",
              "            await google.colab.kernel.invokeFunction('convertToInteractive',\n",
              "                                                     [key], {});\n",
              "          if (!dataTable) return;\n",
              "\n",
              "          const docLinkHtml = 'Like what you see? Visit the ' +\n",
              "            '<a target=\"_blank\" href=https://colab.research.google.com/notebooks/data_table.ipynb>data table notebook</a>'\n",
              "            + ' to learn more about interactive tables.';\n",
              "          element.innerHTML = '';\n",
              "          dataTable['output_type'] = 'display_data';\n",
              "          await google.colab.output.renderOutput(dataTable, element);\n",
              "          const docLink = document.createElement('div');\n",
              "          docLink.innerHTML = docLinkHtml;\n",
              "          element.appendChild(docLink);\n",
              "        }\n",
              "      </script>\n",
              "    </div>\n",
              "  </div>\n",
              "  "
            ]
          },
          "metadata": {},
          "execution_count": 35
        }
      ],
      "source": [
        "kmeans_all = KMeans(n_clusters=3, n_init='auto', random_state=4)\n",
        "kmeans_all.fit(all_array)\n",
        "\n",
        "all_pca_df['cluster_number'] = pd.Series(kmeans_all.predict(all_array))\n",
        "all_pca_df"
      ]
    },
    {
      "cell_type": "markdown",
      "metadata": {
        "id": "fkwGsQOxPLzh"
      },
      "source": [
        "Almost all of the Pokemon in cluster 0 have not completed their evolutionary lineage, thus are smaller and weaker. I nicknamed this cluster \"Unevolved\"."
      ]
    },
    {
      "cell_type": "code",
      "execution_count": 36,
      "metadata": {
        "colab": {
          "base_uri": "https://localhost:8080/",
          "height": 423
        },
        "id": "iuLLNYyP1PLY",
        "outputId": "a0b82147-1466-4d76-82da-5d9cfbd983b9"
      },
      "outputs": [
        {
          "output_type": "execute_result",
          "data": {
            "text/plain": [
              "          PC1       PC2        name  cluster_number\n",
              "0   -1.636208 -0.166264   Bulbasaur               0\n",
              "3   -1.817494 -0.473296  Charmander               0\n",
              "6   -1.743792  0.119838    Squirtle               0\n",
              "9   -4.046107  0.971112    Caterpie               0\n",
              "10  -3.057597  0.961363     Metapod               0\n",
              "..        ...       ...         ...             ...\n",
              "825 -2.084171 -0.003666     Steenee               0\n",
              "830 -2.951597 -0.107202      Wimpod               0\n",
              "832 -1.933823  1.188742   Sandygast               0\n",
              "846 -1.629716  0.413324    Jangmo-o               0\n",
              "853 -1.311409  1.575577      Cosmog               0\n",
              "\n",
              "[323 rows x 4 columns]"
            ],
            "text/html": [
              "\n",
              "  <div id=\"df-786459d6-29e3-42d4-8b69-7dd14fd870fc\">\n",
              "    <div class=\"colab-df-container\">\n",
              "      <div>\n",
              "<style scoped>\n",
              "    .dataframe tbody tr th:only-of-type {\n",
              "        vertical-align: middle;\n",
              "    }\n",
              "\n",
              "    .dataframe tbody tr th {\n",
              "        vertical-align: top;\n",
              "    }\n",
              "\n",
              "    .dataframe thead th {\n",
              "        text-align: right;\n",
              "    }\n",
              "</style>\n",
              "<table border=\"1\" class=\"dataframe\">\n",
              "  <thead>\n",
              "    <tr style=\"text-align: right;\">\n",
              "      <th></th>\n",
              "      <th>PC1</th>\n",
              "      <th>PC2</th>\n",
              "      <th>name</th>\n",
              "      <th>cluster_number</th>\n",
              "    </tr>\n",
              "  </thead>\n",
              "  <tbody>\n",
              "    <tr>\n",
              "      <th>0</th>\n",
              "      <td>-1.636208</td>\n",
              "      <td>-0.166264</td>\n",
              "      <td>Bulbasaur</td>\n",
              "      <td>0</td>\n",
              "    </tr>\n",
              "    <tr>\n",
              "      <th>3</th>\n",
              "      <td>-1.817494</td>\n",
              "      <td>-0.473296</td>\n",
              "      <td>Charmander</td>\n",
              "      <td>0</td>\n",
              "    </tr>\n",
              "    <tr>\n",
              "      <th>6</th>\n",
              "      <td>-1.743792</td>\n",
              "      <td>0.119838</td>\n",
              "      <td>Squirtle</td>\n",
              "      <td>0</td>\n",
              "    </tr>\n",
              "    <tr>\n",
              "      <th>9</th>\n",
              "      <td>-4.046107</td>\n",
              "      <td>0.971112</td>\n",
              "      <td>Caterpie</td>\n",
              "      <td>0</td>\n",
              "    </tr>\n",
              "    <tr>\n",
              "      <th>10</th>\n",
              "      <td>-3.057597</td>\n",
              "      <td>0.961363</td>\n",
              "      <td>Metapod</td>\n",
              "      <td>0</td>\n",
              "    </tr>\n",
              "    <tr>\n",
              "      <th>...</th>\n",
              "      <td>...</td>\n",
              "      <td>...</td>\n",
              "      <td>...</td>\n",
              "      <td>...</td>\n",
              "    </tr>\n",
              "    <tr>\n",
              "      <th>825</th>\n",
              "      <td>-2.084171</td>\n",
              "      <td>-0.003666</td>\n",
              "      <td>Steenee</td>\n",
              "      <td>0</td>\n",
              "    </tr>\n",
              "    <tr>\n",
              "      <th>830</th>\n",
              "      <td>-2.951597</td>\n",
              "      <td>-0.107202</td>\n",
              "      <td>Wimpod</td>\n",
              "      <td>0</td>\n",
              "    </tr>\n",
              "    <tr>\n",
              "      <th>832</th>\n",
              "      <td>-1.933823</td>\n",
              "      <td>1.188742</td>\n",
              "      <td>Sandygast</td>\n",
              "      <td>0</td>\n",
              "    </tr>\n",
              "    <tr>\n",
              "      <th>846</th>\n",
              "      <td>-1.629716</td>\n",
              "      <td>0.413324</td>\n",
              "      <td>Jangmo-o</td>\n",
              "      <td>0</td>\n",
              "    </tr>\n",
              "    <tr>\n",
              "      <th>853</th>\n",
              "      <td>-1.311409</td>\n",
              "      <td>1.575577</td>\n",
              "      <td>Cosmog</td>\n",
              "      <td>0</td>\n",
              "    </tr>\n",
              "  </tbody>\n",
              "</table>\n",
              "<p>323 rows × 4 columns</p>\n",
              "</div>\n",
              "      <button class=\"colab-df-convert\" onclick=\"convertToInteractive('df-786459d6-29e3-42d4-8b69-7dd14fd870fc')\"\n",
              "              title=\"Convert this dataframe to an interactive table.\"\n",
              "              style=\"display:none;\">\n",
              "        \n",
              "  <svg xmlns=\"http://www.w3.org/2000/svg\" height=\"24px\"viewBox=\"0 0 24 24\"\n",
              "       width=\"24px\">\n",
              "    <path d=\"M0 0h24v24H0V0z\" fill=\"none\"/>\n",
              "    <path d=\"M18.56 5.44l.94 2.06.94-2.06 2.06-.94-2.06-.94-.94-2.06-.94 2.06-2.06.94zm-11 1L8.5 8.5l.94-2.06 2.06-.94-2.06-.94L8.5 2.5l-.94 2.06-2.06.94zm10 10l.94 2.06.94-2.06 2.06-.94-2.06-.94-.94-2.06-.94 2.06-2.06.94z\"/><path d=\"M17.41 7.96l-1.37-1.37c-.4-.4-.92-.59-1.43-.59-.52 0-1.04.2-1.43.59L10.3 9.45l-7.72 7.72c-.78.78-.78 2.05 0 2.83L4 21.41c.39.39.9.59 1.41.59.51 0 1.02-.2 1.41-.59l7.78-7.78 2.81-2.81c.8-.78.8-2.07 0-2.86zM5.41 20L4 18.59l7.72-7.72 1.47 1.35L5.41 20z\"/>\n",
              "  </svg>\n",
              "      </button>\n",
              "      \n",
              "  <style>\n",
              "    .colab-df-container {\n",
              "      display:flex;\n",
              "      flex-wrap:wrap;\n",
              "      gap: 12px;\n",
              "    }\n",
              "\n",
              "    .colab-df-convert {\n",
              "      background-color: #E8F0FE;\n",
              "      border: none;\n",
              "      border-radius: 50%;\n",
              "      cursor: pointer;\n",
              "      display: none;\n",
              "      fill: #1967D2;\n",
              "      height: 32px;\n",
              "      padding: 0 0 0 0;\n",
              "      width: 32px;\n",
              "    }\n",
              "\n",
              "    .colab-df-convert:hover {\n",
              "      background-color: #E2EBFA;\n",
              "      box-shadow: 0px 1px 2px rgba(60, 64, 67, 0.3), 0px 1px 3px 1px rgba(60, 64, 67, 0.15);\n",
              "      fill: #174EA6;\n",
              "    }\n",
              "\n",
              "    [theme=dark] .colab-df-convert {\n",
              "      background-color: #3B4455;\n",
              "      fill: #D2E3FC;\n",
              "    }\n",
              "\n",
              "    [theme=dark] .colab-df-convert:hover {\n",
              "      background-color: #434B5C;\n",
              "      box-shadow: 0px 1px 3px 1px rgba(0, 0, 0, 0.15);\n",
              "      filter: drop-shadow(0px 1px 2px rgba(0, 0, 0, 0.3));\n",
              "      fill: #FFFFFF;\n",
              "    }\n",
              "  </style>\n",
              "\n",
              "      <script>\n",
              "        const buttonEl =\n",
              "          document.querySelector('#df-786459d6-29e3-42d4-8b69-7dd14fd870fc button.colab-df-convert');\n",
              "        buttonEl.style.display =\n",
              "          google.colab.kernel.accessAllowed ? 'block' : 'none';\n",
              "\n",
              "        async function convertToInteractive(key) {\n",
              "          const element = document.querySelector('#df-786459d6-29e3-42d4-8b69-7dd14fd870fc');\n",
              "          const dataTable =\n",
              "            await google.colab.kernel.invokeFunction('convertToInteractive',\n",
              "                                                     [key], {});\n",
              "          if (!dataTable) return;\n",
              "\n",
              "          const docLinkHtml = 'Like what you see? Visit the ' +\n",
              "            '<a target=\"_blank\" href=https://colab.research.google.com/notebooks/data_table.ipynb>data table notebook</a>'\n",
              "            + ' to learn more about interactive tables.';\n",
              "          element.innerHTML = '';\n",
              "          dataTable['output_type'] = 'display_data';\n",
              "          await google.colab.output.renderOutput(dataTable, element);\n",
              "          const docLink = document.createElement('div');\n",
              "          docLink.innerHTML = docLinkHtml;\n",
              "          element.appendChild(docLink);\n",
              "        }\n",
              "      </script>\n",
              "    </div>\n",
              "  </div>\n",
              "  "
            ]
          },
          "metadata": {},
          "execution_count": 36
        }
      ],
      "source": [
        "unevolved = all_pca_df.loc[all_pca_df.cluster_number == 0].copy()\n",
        "unevolved"
      ]
    },
    {
      "cell_type": "markdown",
      "metadata": {
        "id": "w0BK-ebCQDfU"
      },
      "source": [
        "Almost all of the Pokemon in cluster 1 have reached their final evolutionary form and are bigger and stronger. I nicknamed this cluster \"Evolved.\""
      ]
    },
    {
      "cell_type": "code",
      "execution_count": 37,
      "metadata": {
        "colab": {
          "base_uri": "https://localhost:8080/",
          "height": 423
        },
        "id": "oG2xrNLrDKpn",
        "outputId": "4c5a15a6-7356-4d26-884e-fc97a78a1f65"
      },
      "outputs": [
        {
          "output_type": "execute_result",
          "data": {
            "text/plain": [
              "          PC1       PC2        name  cluster_number\n",
              "1   -0.326452 -0.632728     Ivysaur               1\n",
              "2    1.743582 -0.711562    Venusaur               1\n",
              "4   -0.346406 -0.913860  Charmeleon               1\n",
              "5    1.697470 -1.272661   Charizard               1\n",
              "7   -0.323377 -0.258508   Wartortle               1\n",
              "..        ...       ...         ...             ...\n",
              "848  2.638126 -0.702524     Kommo-o               1\n",
              "849  2.016916 -2.020861   Tapu Koko               1\n",
              "850  1.998830 -2.210439   Tapu Lele               1\n",
              "851  2.224990 -0.618876   Tapu Bulu               1\n",
              "852  2.007520 -1.372370   Tapu Fini               1\n",
              "\n",
              "[473 rows x 4 columns]"
            ],
            "text/html": [
              "\n",
              "  <div id=\"df-e905f9bb-8023-4abc-98f3-e96ae4d71009\">\n",
              "    <div class=\"colab-df-container\">\n",
              "      <div>\n",
              "<style scoped>\n",
              "    .dataframe tbody tr th:only-of-type {\n",
              "        vertical-align: middle;\n",
              "    }\n",
              "\n",
              "    .dataframe tbody tr th {\n",
              "        vertical-align: top;\n",
              "    }\n",
              "\n",
              "    .dataframe thead th {\n",
              "        text-align: right;\n",
              "    }\n",
              "</style>\n",
              "<table border=\"1\" class=\"dataframe\">\n",
              "  <thead>\n",
              "    <tr style=\"text-align: right;\">\n",
              "      <th></th>\n",
              "      <th>PC1</th>\n",
              "      <th>PC2</th>\n",
              "      <th>name</th>\n",
              "      <th>cluster_number</th>\n",
              "    </tr>\n",
              "  </thead>\n",
              "  <tbody>\n",
              "    <tr>\n",
              "      <th>1</th>\n",
              "      <td>-0.326452</td>\n",
              "      <td>-0.632728</td>\n",
              "      <td>Ivysaur</td>\n",
              "      <td>1</td>\n",
              "    </tr>\n",
              "    <tr>\n",
              "      <th>2</th>\n",
              "      <td>1.743582</td>\n",
              "      <td>-0.711562</td>\n",
              "      <td>Venusaur</td>\n",
              "      <td>1</td>\n",
              "    </tr>\n",
              "    <tr>\n",
              "      <th>4</th>\n",
              "      <td>-0.346406</td>\n",
              "      <td>-0.913860</td>\n",
              "      <td>Charmeleon</td>\n",
              "      <td>1</td>\n",
              "    </tr>\n",
              "    <tr>\n",
              "      <th>5</th>\n",
              "      <td>1.697470</td>\n",
              "      <td>-1.272661</td>\n",
              "      <td>Charizard</td>\n",
              "      <td>1</td>\n",
              "    </tr>\n",
              "    <tr>\n",
              "      <th>7</th>\n",
              "      <td>-0.323377</td>\n",
              "      <td>-0.258508</td>\n",
              "      <td>Wartortle</td>\n",
              "      <td>1</td>\n",
              "    </tr>\n",
              "    <tr>\n",
              "      <th>...</th>\n",
              "      <td>...</td>\n",
              "      <td>...</td>\n",
              "      <td>...</td>\n",
              "      <td>...</td>\n",
              "    </tr>\n",
              "    <tr>\n",
              "      <th>848</th>\n",
              "      <td>2.638126</td>\n",
              "      <td>-0.702524</td>\n",
              "      <td>Kommo-o</td>\n",
              "      <td>1</td>\n",
              "    </tr>\n",
              "    <tr>\n",
              "      <th>849</th>\n",
              "      <td>2.016916</td>\n",
              "      <td>-2.020861</td>\n",
              "      <td>Tapu Koko</td>\n",
              "      <td>1</td>\n",
              "    </tr>\n",
              "    <tr>\n",
              "      <th>850</th>\n",
              "      <td>1.998830</td>\n",
              "      <td>-2.210439</td>\n",
              "      <td>Tapu Lele</td>\n",
              "      <td>1</td>\n",
              "    </tr>\n",
              "    <tr>\n",
              "      <th>851</th>\n",
              "      <td>2.224990</td>\n",
              "      <td>-0.618876</td>\n",
              "      <td>Tapu Bulu</td>\n",
              "      <td>1</td>\n",
              "    </tr>\n",
              "    <tr>\n",
              "      <th>852</th>\n",
              "      <td>2.007520</td>\n",
              "      <td>-1.372370</td>\n",
              "      <td>Tapu Fini</td>\n",
              "      <td>1</td>\n",
              "    </tr>\n",
              "  </tbody>\n",
              "</table>\n",
              "<p>473 rows × 4 columns</p>\n",
              "</div>\n",
              "      <button class=\"colab-df-convert\" onclick=\"convertToInteractive('df-e905f9bb-8023-4abc-98f3-e96ae4d71009')\"\n",
              "              title=\"Convert this dataframe to an interactive table.\"\n",
              "              style=\"display:none;\">\n",
              "        \n",
              "  <svg xmlns=\"http://www.w3.org/2000/svg\" height=\"24px\"viewBox=\"0 0 24 24\"\n",
              "       width=\"24px\">\n",
              "    <path d=\"M0 0h24v24H0V0z\" fill=\"none\"/>\n",
              "    <path d=\"M18.56 5.44l.94 2.06.94-2.06 2.06-.94-2.06-.94-.94-2.06-.94 2.06-2.06.94zm-11 1L8.5 8.5l.94-2.06 2.06-.94-2.06-.94L8.5 2.5l-.94 2.06-2.06.94zm10 10l.94 2.06.94-2.06 2.06-.94-2.06-.94-.94-2.06-.94 2.06-2.06.94z\"/><path d=\"M17.41 7.96l-1.37-1.37c-.4-.4-.92-.59-1.43-.59-.52 0-1.04.2-1.43.59L10.3 9.45l-7.72 7.72c-.78.78-.78 2.05 0 2.83L4 21.41c.39.39.9.59 1.41.59.51 0 1.02-.2 1.41-.59l7.78-7.78 2.81-2.81c.8-.78.8-2.07 0-2.86zM5.41 20L4 18.59l7.72-7.72 1.47 1.35L5.41 20z\"/>\n",
              "  </svg>\n",
              "      </button>\n",
              "      \n",
              "  <style>\n",
              "    .colab-df-container {\n",
              "      display:flex;\n",
              "      flex-wrap:wrap;\n",
              "      gap: 12px;\n",
              "    }\n",
              "\n",
              "    .colab-df-convert {\n",
              "      background-color: #E8F0FE;\n",
              "      border: none;\n",
              "      border-radius: 50%;\n",
              "      cursor: pointer;\n",
              "      display: none;\n",
              "      fill: #1967D2;\n",
              "      height: 32px;\n",
              "      padding: 0 0 0 0;\n",
              "      width: 32px;\n",
              "    }\n",
              "\n",
              "    .colab-df-convert:hover {\n",
              "      background-color: #E2EBFA;\n",
              "      box-shadow: 0px 1px 2px rgba(60, 64, 67, 0.3), 0px 1px 3px 1px rgba(60, 64, 67, 0.15);\n",
              "      fill: #174EA6;\n",
              "    }\n",
              "\n",
              "    [theme=dark] .colab-df-convert {\n",
              "      background-color: #3B4455;\n",
              "      fill: #D2E3FC;\n",
              "    }\n",
              "\n",
              "    [theme=dark] .colab-df-convert:hover {\n",
              "      background-color: #434B5C;\n",
              "      box-shadow: 0px 1px 3px 1px rgba(0, 0, 0, 0.15);\n",
              "      filter: drop-shadow(0px 1px 2px rgba(0, 0, 0, 0.3));\n",
              "      fill: #FFFFFF;\n",
              "    }\n",
              "  </style>\n",
              "\n",
              "      <script>\n",
              "        const buttonEl =\n",
              "          document.querySelector('#df-e905f9bb-8023-4abc-98f3-e96ae4d71009 button.colab-df-convert');\n",
              "        buttonEl.style.display =\n",
              "          google.colab.kernel.accessAllowed ? 'block' : 'none';\n",
              "\n",
              "        async function convertToInteractive(key) {\n",
              "          const element = document.querySelector('#df-e905f9bb-8023-4abc-98f3-e96ae4d71009');\n",
              "          const dataTable =\n",
              "            await google.colab.kernel.invokeFunction('convertToInteractive',\n",
              "                                                     [key], {});\n",
              "          if (!dataTable) return;\n",
              "\n",
              "          const docLinkHtml = 'Like what you see? Visit the ' +\n",
              "            '<a target=\"_blank\" href=https://colab.research.google.com/notebooks/data_table.ipynb>data table notebook</a>'\n",
              "            + ' to learn more about interactive tables.';\n",
              "          element.innerHTML = '';\n",
              "          dataTable['output_type'] = 'display_data';\n",
              "          await google.colab.output.renderOutput(dataTable, element);\n",
              "          const docLink = document.createElement('div');\n",
              "          docLink.innerHTML = docLinkHtml;\n",
              "          element.appendChild(docLink);\n",
              "        }\n",
              "      </script>\n",
              "    </div>\n",
              "  </div>\n",
              "  "
            ]
          },
          "metadata": {},
          "execution_count": 37
        }
      ],
      "source": [
        "evolved = all_pca_df.loc[all_pca_df.cluster_number == 1].copy()\n",
        "evolved"
      ]
    },
    {
      "cell_type": "markdown",
      "metadata": {
        "id": "qa9aK4D0QQOq"
      },
      "source": [
        "Almost all of the Pokemon in cluster 2 are considered legendary and have been banned from competitive battling due to their off-the-charts strength. I nicknamed this cluster \"Legendary\"."
      ]
    },
    {
      "cell_type": "code",
      "execution_count": 38,
      "metadata": {
        "colab": {
          "base_uri": "https://localhost:8080/",
          "height": 423
        },
        "id": "357vHBHzDOe4",
        "outputId": "1179ae0e-28fb-41a8-85b5-71cbf3899636"
      },
      "outputs": [
        {
          "output_type": "execute_result",
          "data": {
            "text/plain": [
              "          PC1       PC2              name  cluster_number\n",
              "121  4.581108  3.727044  Alolan Exeggutor               2\n",
              "164  3.362684 -0.502462          Articuno               2\n",
              "165  3.293408 -1.082676            Zapdos               2\n",
              "166  3.428334 -0.689698           Moltres               2\n",
              "169  3.518240  0.441358         Dragonite               2\n",
              "..        ...       ...               ...             ...\n",
              "870  1.619308  0.349739           Poipole               2\n",
              "871  4.040993  0.245792         Naganadel               2\n",
              "872  6.671013  7.350203         Stakataka               2\n",
              "873  3.753128 -1.088787       Blacephalon               2\n",
              "874  4.135471 -1.102122           Zeraora               2\n",
              "\n",
              "[79 rows x 4 columns]"
            ],
            "text/html": [
              "\n",
              "  <div id=\"df-70475de2-9a4d-4954-a43d-d695f20ad8f6\">\n",
              "    <div class=\"colab-df-container\">\n",
              "      <div>\n",
              "<style scoped>\n",
              "    .dataframe tbody tr th:only-of-type {\n",
              "        vertical-align: middle;\n",
              "    }\n",
              "\n",
              "    .dataframe tbody tr th {\n",
              "        vertical-align: top;\n",
              "    }\n",
              "\n",
              "    .dataframe thead th {\n",
              "        text-align: right;\n",
              "    }\n",
              "</style>\n",
              "<table border=\"1\" class=\"dataframe\">\n",
              "  <thead>\n",
              "    <tr style=\"text-align: right;\">\n",
              "      <th></th>\n",
              "      <th>PC1</th>\n",
              "      <th>PC2</th>\n",
              "      <th>name</th>\n",
              "      <th>cluster_number</th>\n",
              "    </tr>\n",
              "  </thead>\n",
              "  <tbody>\n",
              "    <tr>\n",
              "      <th>121</th>\n",
              "      <td>4.581108</td>\n",
              "      <td>3.727044</td>\n",
              "      <td>Alolan Exeggutor</td>\n",
              "      <td>2</td>\n",
              "    </tr>\n",
              "    <tr>\n",
              "      <th>164</th>\n",
              "      <td>3.362684</td>\n",
              "      <td>-0.502462</td>\n",
              "      <td>Articuno</td>\n",
              "      <td>2</td>\n",
              "    </tr>\n",
              "    <tr>\n",
              "      <th>165</th>\n",
              "      <td>3.293408</td>\n",
              "      <td>-1.082676</td>\n",
              "      <td>Zapdos</td>\n",
              "      <td>2</td>\n",
              "    </tr>\n",
              "    <tr>\n",
              "      <th>166</th>\n",
              "      <td>3.428334</td>\n",
              "      <td>-0.689698</td>\n",
              "      <td>Moltres</td>\n",
              "      <td>2</td>\n",
              "    </tr>\n",
              "    <tr>\n",
              "      <th>169</th>\n",
              "      <td>3.518240</td>\n",
              "      <td>0.441358</td>\n",
              "      <td>Dragonite</td>\n",
              "      <td>2</td>\n",
              "    </tr>\n",
              "    <tr>\n",
              "      <th>...</th>\n",
              "      <td>...</td>\n",
              "      <td>...</td>\n",
              "      <td>...</td>\n",
              "      <td>...</td>\n",
              "    </tr>\n",
              "    <tr>\n",
              "      <th>870</th>\n",
              "      <td>1.619308</td>\n",
              "      <td>0.349739</td>\n",
              "      <td>Poipole</td>\n",
              "      <td>2</td>\n",
              "    </tr>\n",
              "    <tr>\n",
              "      <th>871</th>\n",
              "      <td>4.040993</td>\n",
              "      <td>0.245792</td>\n",
              "      <td>Naganadel</td>\n",
              "      <td>2</td>\n",
              "    </tr>\n",
              "    <tr>\n",
              "      <th>872</th>\n",
              "      <td>6.671013</td>\n",
              "      <td>7.350203</td>\n",
              "      <td>Stakataka</td>\n",
              "      <td>2</td>\n",
              "    </tr>\n",
              "    <tr>\n",
              "      <th>873</th>\n",
              "      <td>3.753128</td>\n",
              "      <td>-1.088787</td>\n",
              "      <td>Blacephalon</td>\n",
              "      <td>2</td>\n",
              "    </tr>\n",
              "    <tr>\n",
              "      <th>874</th>\n",
              "      <td>4.135471</td>\n",
              "      <td>-1.102122</td>\n",
              "      <td>Zeraora</td>\n",
              "      <td>2</td>\n",
              "    </tr>\n",
              "  </tbody>\n",
              "</table>\n",
              "<p>79 rows × 4 columns</p>\n",
              "</div>\n",
              "      <button class=\"colab-df-convert\" onclick=\"convertToInteractive('df-70475de2-9a4d-4954-a43d-d695f20ad8f6')\"\n",
              "              title=\"Convert this dataframe to an interactive table.\"\n",
              "              style=\"display:none;\">\n",
              "        \n",
              "  <svg xmlns=\"http://www.w3.org/2000/svg\" height=\"24px\"viewBox=\"0 0 24 24\"\n",
              "       width=\"24px\">\n",
              "    <path d=\"M0 0h24v24H0V0z\" fill=\"none\"/>\n",
              "    <path d=\"M18.56 5.44l.94 2.06.94-2.06 2.06-.94-2.06-.94-.94-2.06-.94 2.06-2.06.94zm-11 1L8.5 8.5l.94-2.06 2.06-.94-2.06-.94L8.5 2.5l-.94 2.06-2.06.94zm10 10l.94 2.06.94-2.06 2.06-.94-2.06-.94-.94-2.06-.94 2.06-2.06.94z\"/><path d=\"M17.41 7.96l-1.37-1.37c-.4-.4-.92-.59-1.43-.59-.52 0-1.04.2-1.43.59L10.3 9.45l-7.72 7.72c-.78.78-.78 2.05 0 2.83L4 21.41c.39.39.9.59 1.41.59.51 0 1.02-.2 1.41-.59l7.78-7.78 2.81-2.81c.8-.78.8-2.07 0-2.86zM5.41 20L4 18.59l7.72-7.72 1.47 1.35L5.41 20z\"/>\n",
              "  </svg>\n",
              "      </button>\n",
              "      \n",
              "  <style>\n",
              "    .colab-df-container {\n",
              "      display:flex;\n",
              "      flex-wrap:wrap;\n",
              "      gap: 12px;\n",
              "    }\n",
              "\n",
              "    .colab-df-convert {\n",
              "      background-color: #E8F0FE;\n",
              "      border: none;\n",
              "      border-radius: 50%;\n",
              "      cursor: pointer;\n",
              "      display: none;\n",
              "      fill: #1967D2;\n",
              "      height: 32px;\n",
              "      padding: 0 0 0 0;\n",
              "      width: 32px;\n",
              "    }\n",
              "\n",
              "    .colab-df-convert:hover {\n",
              "      background-color: #E2EBFA;\n",
              "      box-shadow: 0px 1px 2px rgba(60, 64, 67, 0.3), 0px 1px 3px 1px rgba(60, 64, 67, 0.15);\n",
              "      fill: #174EA6;\n",
              "    }\n",
              "\n",
              "    [theme=dark] .colab-df-convert {\n",
              "      background-color: #3B4455;\n",
              "      fill: #D2E3FC;\n",
              "    }\n",
              "\n",
              "    [theme=dark] .colab-df-convert:hover {\n",
              "      background-color: #434B5C;\n",
              "      box-shadow: 0px 1px 3px 1px rgba(0, 0, 0, 0.15);\n",
              "      filter: drop-shadow(0px 1px 2px rgba(0, 0, 0, 0.3));\n",
              "      fill: #FFFFFF;\n",
              "    }\n",
              "  </style>\n",
              "\n",
              "      <script>\n",
              "        const buttonEl =\n",
              "          document.querySelector('#df-70475de2-9a4d-4954-a43d-d695f20ad8f6 button.colab-df-convert');\n",
              "        buttonEl.style.display =\n",
              "          google.colab.kernel.accessAllowed ? 'block' : 'none';\n",
              "\n",
              "        async function convertToInteractive(key) {\n",
              "          const element = document.querySelector('#df-70475de2-9a4d-4954-a43d-d695f20ad8f6');\n",
              "          const dataTable =\n",
              "            await google.colab.kernel.invokeFunction('convertToInteractive',\n",
              "                                                     [key], {});\n",
              "          if (!dataTable) return;\n",
              "\n",
              "          const docLinkHtml = 'Like what you see? Visit the ' +\n",
              "            '<a target=\"_blank\" href=https://colab.research.google.com/notebooks/data_table.ipynb>data table notebook</a>'\n",
              "            + ' to learn more about interactive tables.';\n",
              "          element.innerHTML = '';\n",
              "          dataTable['output_type'] = 'display_data';\n",
              "          await google.colab.output.renderOutput(dataTable, element);\n",
              "          const docLink = document.createElement('div');\n",
              "          docLink.innerHTML = docLinkHtml;\n",
              "          element.appendChild(docLink);\n",
              "        }\n",
              "      </script>\n",
              "    </div>\n",
              "  </div>\n",
              "  "
            ]
          },
          "metadata": {},
          "execution_count": 38
        }
      ],
      "source": [
        "legendary = all_pca_df.loc[all_pca_df.cluster_number == 2].copy()\n",
        "legendary"
      ]
    },
    {
      "cell_type": "markdown",
      "metadata": {
        "id": "bYpJiwzMQxT6"
      },
      "source": [
        "The plot below illustrates the k-means clusters as determined by all the numeric variables. Even though the clusters weren't built on the principal components, these engineered axes serve as the best way to visually represent the distances between species. The first principal component can explain most of the clustering. As Pokemon move along the x-axis, they gradually get bigger and stronger, moving from \"Unevolved\" to \"Evolved\" to \"Legendary\"."
      ]
    },
    {
      "cell_type": "code",
      "execution_count": 39,
      "metadata": {
        "colab": {
          "base_uri": "https://localhost:8080/",
          "height": 299
        },
        "id": "_02Dpoc2MDTa",
        "outputId": "230da112-faf0-47fc-9607-b7394e362f93"
      },
      "outputs": [
        {
          "output_type": "display_data",
          "data": {
            "text/plain": [
              "<Figure size 432x288 with 1 Axes>"
            ],
            "image/png": "[encoded data removed]"
          },
          "metadata": {}
        }
      ],
      "source": [
        "plt.scatter(unevolved.PC1, unevolved.PC2, label='Unevolved')\n",
        "plt.scatter(evolved.PC1, evolved.PC2, label='Evolved')\n",
        "plt.scatter(legendary.PC1, legendary.PC2, label='Legendary')\n",
        "plt.legend(loc='upper left')\n",
        "plt.xlabel(\"Principal Component 1\")\n",
        "plt.ylabel(\"Principal Component 2\")\n",
        "plt.title(\"K-Means Clusters: All Numeric Data\")\n",
        "plt.show()"
      ]
    },
    {
      "cell_type": "markdown",
      "metadata": {
        "id": "04fsn7Alv3J5"
      },
      "source": [
        "###Battle Metrics"
      ]
    },
    {
      "cell_type": "markdown",
      "metadata": {
        "id": "6CqV0JNUTBZB"
      },
      "source": [
        "Moving on to the battle-specific metrics, the elbow method proved more challenging in determining the ideal number of k-means clusters. I see the elbow at two clusters, but a case could be made for four clusters as well."
      ]
    },
    {
      "cell_type": "code",
      "execution_count": 40,
      "metadata": {
        "colab": {
          "base_uri": "https://localhost:8080/",
          "height": 299
        },
        "id": "sjZXzgWYv7Vn",
        "outputId": "38205ab0-1443-49f7-e750-f618c2815ec4"
      },
      "outputs": [
        {
          "output_type": "display_data",
          "data": {
            "text/plain": [
              "<Figure size 432x288 with 1 Axes>"
            ],
            "image/png": "[encoded data removed]"
          },
          "metadata": {}
        }
      ],
      "source": [
        "inertias = []\n",
        "\n",
        "for i in range(1,11):\n",
        "    kmeans = KMeans(n_clusters=i, n_init='auto', random_state=4)\n",
        "    kmeans.fit(battle_array)\n",
        "    inertias.append(kmeans.inertia_)\n",
        "\n",
        "plt.plot(range(1,11), inertias, marker='o')\n",
        "plt.title('Elbow method')\n",
        "plt.xlabel('Number of clusters')\n",
        "plt.ylabel('Inertia')\n",
        "plt.show()"
      ]
    },
    {
      "cell_type": "markdown",
      "metadata": {
        "id": "9IEL0yk5UUcB"
      },
      "source": [
        "I fit the battle data to a two cluster model and added the individual Pokemon cluster designations to the battle_pca_df."
      ]
    },
    {
      "cell_type": "code",
      "execution_count": 41,
      "metadata": {
        "colab": {
          "base_uri": "https://localhost:8080/",
          "height": 423
        },
        "id": "_aFXedhvv7Y_",
        "outputId": "981627e2-18e7-419e-b983-9c93a55e0d4f"
      },
      "outputs": [
        {
          "output_type": "execute_result",
          "data": {
            "text/plain": [
              "          PC1       PC2         name  cluster_number\n",
              "0   -1.636208 -0.166264    Bulbasaur               0\n",
              "1   -0.326452 -0.632728      Ivysaur               0\n",
              "2    1.743582 -0.711562     Venusaur               1\n",
              "3   -1.817494 -0.473296   Charmander               0\n",
              "4   -0.346406 -0.913860   Charmeleon               0\n",
              "..        ...       ...          ...             ...\n",
              "870  1.619308  0.349739      Poipole               1\n",
              "871  4.040993  0.245792    Naganadel               1\n",
              "872  6.671013  7.350203    Stakataka               1\n",
              "873  3.753128 -1.088787  Blacephalon               1\n",
              "874  4.135471 -1.102122      Zeraora               1\n",
              "\n",
              "[875 rows x 4 columns]"
            ],
            "text/html": [
              "\n",
              "  <div id=\"df-e65124b2-f57a-4232-9918-f166fd229309\">\n",
              "    <div class=\"colab-df-container\">\n",
              "      <div>\n",
              "<style scoped>\n",
              "    .dataframe tbody tr th:only-of-type {\n",
              "        vertical-align: middle;\n",
              "    }\n",
              "\n",
              "    .dataframe tbody tr th {\n",
              "        vertical-align: top;\n",
              "    }\n",
              "\n",
              "    .dataframe thead th {\n",
              "        text-align: right;\n",
              "    }\n",
              "</style>\n",
              "<table border=\"1\" class=\"dataframe\">\n",
              "  <thead>\n",
              "    <tr style=\"text-align: right;\">\n",
              "      <th></th>\n",
              "      <th>PC1</th>\n",
              "      <th>PC2</th>\n",
              "      <th>name</th>\n",
              "      <th>cluster_number</th>\n",
              "    </tr>\n",
              "  </thead>\n",
              "  <tbody>\n",
              "    <tr>\n",
              "      <th>0</th>\n",
              "      <td>-1.636208</td>\n",
              "      <td>-0.166264</td>\n",
              "      <td>Bulbasaur</td>\n",
              "      <td>0</td>\n",
              "    </tr>\n",
              "    <tr>\n",
              "      <th>1</th>\n",
              "      <td>-0.326452</td>\n",
              "      <td>-0.632728</td>\n",
              "      <td>Ivysaur</td>\n",
              "      <td>0</td>\n",
              "    </tr>\n",
              "    <tr>\n",
              "      <th>2</th>\n",
              "      <td>1.743582</td>\n",
              "      <td>-0.711562</td>\n",
              "      <td>Venusaur</td>\n",
              "      <td>1</td>\n",
              "    </tr>\n",
              "    <tr>\n",
              "      <th>3</th>\n",
              "      <td>-1.817494</td>\n",
              "      <td>-0.473296</td>\n",
              "      <td>Charmander</td>\n",
              "      <td>0</td>\n",
              "    </tr>\n",
              "    <tr>\n",
              "      <th>4</th>\n",
              "      <td>-0.346406</td>\n",
              "      <td>-0.913860</td>\n",
              "      <td>Charmeleon</td>\n",
              "      <td>0</td>\n",
              "    </tr>\n",
              "    <tr>\n",
              "      <th>...</th>\n",
              "      <td>...</td>\n",
              "      <td>...</td>\n",
              "      <td>...</td>\n",
              "      <td>...</td>\n",
              "    </tr>\n",
              "    <tr>\n",
              "      <th>870</th>\n",
              "      <td>1.619308</td>\n",
              "      <td>0.349739</td>\n",
              "      <td>Poipole</td>\n",
              "      <td>1</td>\n",
              "    </tr>\n",
              "    <tr>\n",
              "      <th>871</th>\n",
              "      <td>4.040993</td>\n",
              "      <td>0.245792</td>\n",
              "      <td>Naganadel</td>\n",
              "      <td>1</td>\n",
              "    </tr>\n",
              "    <tr>\n",
              "      <th>872</th>\n",
              "      <td>6.671013</td>\n",
              "      <td>7.350203</td>\n",
              "      <td>Stakataka</td>\n",
              "      <td>1</td>\n",
              "    </tr>\n",
              "    <tr>\n",
              "      <th>873</th>\n",
              "      <td>3.753128</td>\n",
              "      <td>-1.088787</td>\n",
              "      <td>Blacephalon</td>\n",
              "      <td>1</td>\n",
              "    </tr>\n",
              "    <tr>\n",
              "      <th>874</th>\n",
              "      <td>4.135471</td>\n",
              "      <td>-1.102122</td>\n",
              "      <td>Zeraora</td>\n",
              "      <td>1</td>\n",
              "    </tr>\n",
              "  </tbody>\n",
              "</table>\n",
              "<p>875 rows × 4 columns</p>\n",
              "</div>\n",
              "      <button class=\"colab-df-convert\" onclick=\"convertToInteractive('df-e65124b2-f57a-4232-9918-f166fd229309')\"\n",
              "              title=\"Convert this dataframe to an interactive table.\"\n",
              "              style=\"display:none;\">\n",
              "        \n",
              "  <svg xmlns=\"http://www.w3.org/2000/svg\" height=\"24px\"viewBox=\"0 0 24 24\"\n",
              "       width=\"24px\">\n",
              "    <path d=\"M0 0h24v24H0V0z\" fill=\"none\"/>\n",
              "    <path d=\"M18.56 5.44l.94 2.06.94-2.06 2.06-.94-2.06-.94-.94-2.06-.94 2.06-2.06.94zm-11 1L8.5 8.5l.94-2.06 2.06-.94-2.06-.94L8.5 2.5l-.94 2.06-2.06.94zm10 10l.94 2.06.94-2.06 2.06-.94-2.06-.94-.94-2.06-.94 2.06-2.06.94z\"/><path d=\"M17.41 7.96l-1.37-1.37c-.4-.4-.92-.59-1.43-.59-.52 0-1.04.2-1.43.59L10.3 9.45l-7.72 7.72c-.78.78-.78 2.05 0 2.83L4 21.41c.39.39.9.59 1.41.59.51 0 1.02-.2 1.41-.59l7.78-7.78 2.81-2.81c.8-.78.8-2.07 0-2.86zM5.41 20L4 18.59l7.72-7.72 1.47 1.35L5.41 20z\"/>\n",
              "  </svg>\n",
              "      </button>\n",
              "      \n",
              "  <style>\n",
              "    .colab-df-container {\n",
              "      display:flex;\n",
              "      flex-wrap:wrap;\n",
              "      gap: 12px;\n",
              "    }\n",
              "\n",
              "    .colab-df-convert {\n",
              "      background-color: #E8F0FE;\n",
              "      border: none;\n",
              "      border-radius: 50%;\n",
              "      cursor: pointer;\n",
              "      display: none;\n",
              "      fill: #1967D2;\n",
              "      height: 32px;\n",
              "      padding: 0 0 0 0;\n",
              "      width: 32px;\n",
              "    }\n",
              "\n",
              "    .colab-df-convert:hover {\n",
              "      background-color: #E2EBFA;\n",
              "      box-shadow: 0px 1px 2px rgba(60, 64, 67, 0.3), 0px 1px 3px 1px rgba(60, 64, 67, 0.15);\n",
              "      fill: #174EA6;\n",
              "    }\n",
              "\n",
              "    [theme=dark] .colab-df-convert {\n",
              "      background-color: #3B4455;\n",
              "      fill: #D2E3FC;\n",
              "    }\n",
              "\n",
              "    [theme=dark] .colab-df-convert:hover {\n",
              "      background-color: #434B5C;\n",
              "      box-shadow: 0px 1px 3px 1px rgba(0, 0, 0, 0.15);\n",
              "      filter: drop-shadow(0px 1px 2px rgba(0, 0, 0, 0.3));\n",
              "      fill: #FFFFFF;\n",
              "    }\n",
              "  </style>\n",
              "\n",
              "      <script>\n",
              "        const buttonEl =\n",
              "          document.querySelector('#df-e65124b2-f57a-4232-9918-f166fd229309 button.colab-df-convert');\n",
              "        buttonEl.style.display =\n",
              "          google.colab.kernel.accessAllowed ? 'block' : 'none';\n",
              "\n",
              "        async function convertToInteractive(key) {\n",
              "          const element = document.querySelector('#df-e65124b2-f57a-4232-9918-f166fd229309');\n",
              "          const dataTable =\n",
              "            await google.colab.kernel.invokeFunction('convertToInteractive',\n",
              "                                                     [key], {});\n",
              "          if (!dataTable) return;\n",
              "\n",
              "          const docLinkHtml = 'Like what you see? Visit the ' +\n",
              "            '<a target=\"_blank\" href=https://colab.research.google.com/notebooks/data_table.ipynb>data table notebook</a>'\n",
              "            + ' to learn more about interactive tables.';\n",
              "          element.innerHTML = '';\n",
              "          dataTable['output_type'] = 'display_data';\n",
              "          await google.colab.output.renderOutput(dataTable, element);\n",
              "          const docLink = document.createElement('div');\n",
              "          docLink.innerHTML = docLinkHtml;\n",
              "          element.appendChild(docLink);\n",
              "        }\n",
              "      </script>\n",
              "    </div>\n",
              "  </div>\n",
              "  "
            ]
          },
          "metadata": {},
          "execution_count": 41
        }
      ],
      "source": [
        "kmeans_battle = KMeans(n_clusters=2, n_init='auto', random_state=4)\n",
        "kmeans_battle.fit(battle_array)\n",
        "\n",
        "battle_pca_df['cluster_number'] = pd.Series(kmeans_battle.predict(battle_array))\n",
        "battle_pca_df"
      ]
    },
    {
      "cell_type": "markdown",
      "metadata": {
        "id": "AWPwb83CUgri"
      },
      "source": [
        "Almost all of the Pokemon in cluster 0 have not completed their evolutionary lineage, thus are smaller and weaker. However, I noticed that there are some fully-evolved Pokemon like Raticate that are still relatively small and weak. Along those lines, I nicknamed this cluster \"Weaker\"."
      ]
    },
    {
      "cell_type": "code",
      "execution_count": 42,
      "metadata": {
        "colab": {
          "base_uri": "https://localhost:8080/",
          "height": 423
        },
        "id": "WhlHFueDFmfE",
        "outputId": "1ad76193-0f86-46fe-b37a-cfbc1b3f274f"
      },
      "outputs": [
        {
          "output_type": "execute_result",
          "data": {
            "text/plain": [
              "          PC1       PC2        name  cluster_number\n",
              "0   -1.636208 -0.166264   Bulbasaur               0\n",
              "1   -0.326452 -0.632728     Ivysaur               0\n",
              "3   -1.817494 -0.473296  Charmander               0\n",
              "4   -0.346406 -0.913860  Charmeleon               0\n",
              "6   -1.743792  0.119838    Squirtle               0\n",
              "..        ...       ...         ...             ...\n",
              "830 -2.951597 -0.107202      Wimpod               0\n",
              "832 -1.933823  1.188742   Sandygast               0\n",
              "846 -1.629716  0.413324    Jangmo-o               0\n",
              "853 -1.311409  1.575577      Cosmog               0\n",
              "854  3.477041  5.969271     Cosmoem               0\n",
              "\n",
              "[380 rows x 4 columns]"
            ],
            "text/html": [
              "\n",
              "  <div id=\"df-7b028df2-db40-4626-b84e-a76e56fbe7e7\">\n",
              "    <div class=\"colab-df-container\">\n",
              "      <div>\n",
              "<style scoped>\n",
              "    .dataframe tbody tr th:only-of-type {\n",
              "        vertical-align: middle;\n",
              "    }\n",
              "\n",
              "    .dataframe tbody tr th {\n",
              "        vertical-align: top;\n",
              "    }\n",
              "\n",
              "    .dataframe thead th {\n",
              "        text-align: right;\n",
              "    }\n",
              "</style>\n",
              "<table border=\"1\" class=\"dataframe\">\n",
              "  <thead>\n",
              "    <tr style=\"text-align: right;\">\n",
              "      <th></th>\n",
              "      <th>PC1</th>\n",
              "      <th>PC2</th>\n",
              "      <th>name</th>\n",
              "      <th>cluster_number</th>\n",
              "    </tr>\n",
              "  </thead>\n",
              "  <tbody>\n",
              "    <tr>\n",
              "      <th>0</th>\n",
              "      <td>-1.636208</td>\n",
              "      <td>-0.166264</td>\n",
              "      <td>Bulbasaur</td>\n",
              "      <td>0</td>\n",
              "    </tr>\n",
              "    <tr>\n",
              "      <th>1</th>\n",
              "      <td>-0.326452</td>\n",
              "      <td>-0.632728</td>\n",
              "      <td>Ivysaur</td>\n",
              "      <td>0</td>\n",
              "    </tr>\n",
              "    <tr>\n",
              "      <th>3</th>\n",
              "      <td>-1.817494</td>\n",
              "      <td>-0.473296</td>\n",
              "      <td>Charmander</td>\n",
              "      <td>0</td>\n",
              "    </tr>\n",
              "    <tr>\n",
              "      <th>4</th>\n",
              "      <td>-0.346406</td>\n",
              "      <td>-0.913860</td>\n",
              "      <td>Charmeleon</td>\n",
              "      <td>0</td>\n",
              "    </tr>\n",
              "    <tr>\n",
              "      <th>6</th>\n",
              "      <td>-1.743792</td>\n",
              "      <td>0.119838</td>\n",
              "      <td>Squirtle</td>\n",
              "      <td>0</td>\n",
              "    </tr>\n",
              "    <tr>\n",
              "      <th>...</th>\n",
              "      <td>...</td>\n",
              "      <td>...</td>\n",
              "      <td>...</td>\n",
              "      <td>...</td>\n",
              "    </tr>\n",
              "    <tr>\n",
              "      <th>830</th>\n",
              "      <td>-2.951597</td>\n",
              "      <td>-0.107202</td>\n",
              "      <td>Wimpod</td>\n",
              "      <td>0</td>\n",
              "    </tr>\n",
              "    <tr>\n",
              "      <th>832</th>\n",
              "      <td>-1.933823</td>\n",
              "      <td>1.188742</td>\n",
              "      <td>Sandygast</td>\n",
              "      <td>0</td>\n",
              "    </tr>\n",
              "    <tr>\n",
              "      <th>846</th>\n",
              "      <td>-1.629716</td>\n",
              "      <td>0.413324</td>\n",
              "      <td>Jangmo-o</td>\n",
              "      <td>0</td>\n",
              "    </tr>\n",
              "    <tr>\n",
              "      <th>853</th>\n",
              "      <td>-1.311409</td>\n",
              "      <td>1.575577</td>\n",
              "      <td>Cosmog</td>\n",
              "      <td>0</td>\n",
              "    </tr>\n",
              "    <tr>\n",
              "      <th>854</th>\n",
              "      <td>3.477041</td>\n",
              "      <td>5.969271</td>\n",
              "      <td>Cosmoem</td>\n",
              "      <td>0</td>\n",
              "    </tr>\n",
              "  </tbody>\n",
              "</table>\n",
              "<p>380 rows × 4 columns</p>\n",
              "</div>\n",
              "      <button class=\"colab-df-convert\" onclick=\"convertToInteractive('df-7b028df2-db40-4626-b84e-a76e56fbe7e7')\"\n",
              "              title=\"Convert this dataframe to an interactive table.\"\n",
              "              style=\"display:none;\">\n",
              "        \n",
              "  <svg xmlns=\"http://www.w3.org/2000/svg\" height=\"24px\"viewBox=\"0 0 24 24\"\n",
              "       width=\"24px\">\n",
              "    <path d=\"M0 0h24v24H0V0z\" fill=\"none\"/>\n",
              "    <path d=\"M18.56 5.44l.94 2.06.94-2.06 2.06-.94-2.06-.94-.94-2.06-.94 2.06-2.06.94zm-11 1L8.5 8.5l.94-2.06 2.06-.94-2.06-.94L8.5 2.5l-.94 2.06-2.06.94zm10 10l.94 2.06.94-2.06 2.06-.94-2.06-.94-.94-2.06-.94 2.06-2.06.94z\"/><path d=\"M17.41 7.96l-1.37-1.37c-.4-.4-.92-.59-1.43-.59-.52 0-1.04.2-1.43.59L10.3 9.45l-7.72 7.72c-.78.78-.78 2.05 0 2.83L4 21.41c.39.39.9.59 1.41.59.51 0 1.02-.2 1.41-.59l7.78-7.78 2.81-2.81c.8-.78.8-2.07 0-2.86zM5.41 20L4 18.59l7.72-7.72 1.47 1.35L5.41 20z\"/>\n",
              "  </svg>\n",
              "      </button>\n",
              "      \n",
              "  <style>\n",
              "    .colab-df-container {\n",
              "      display:flex;\n",
              "      flex-wrap:wrap;\n",
              "      gap: 12px;\n",
              "    }\n",
              "\n",
              "    .colab-df-convert {\n",
              "      background-color: #E8F0FE;\n",
              "      border: none;\n",
              "      border-radius: 50%;\n",
              "      cursor: pointer;\n",
              "      display: none;\n",
              "      fill: #1967D2;\n",
              "      height: 32px;\n",
              "      padding: 0 0 0 0;\n",
              "      width: 32px;\n",
              "    }\n",
              "\n",
              "    .colab-df-convert:hover {\n",
              "      background-color: #E2EBFA;\n",
              "      box-shadow: 0px 1px 2px rgba(60, 64, 67, 0.3), 0px 1px 3px 1px rgba(60, 64, 67, 0.15);\n",
              "      fill: #174EA6;\n",
              "    }\n",
              "\n",
              "    [theme=dark] .colab-df-convert {\n",
              "      background-color: #3B4455;\n",
              "      fill: #D2E3FC;\n",
              "    }\n",
              "\n",
              "    [theme=dark] .colab-df-convert:hover {\n",
              "      background-color: #434B5C;\n",
              "      box-shadow: 0px 1px 3px 1px rgba(0, 0, 0, 0.15);\n",
              "      filter: drop-shadow(0px 1px 2px rgba(0, 0, 0, 0.3));\n",
              "      fill: #FFFFFF;\n",
              "    }\n",
              "  </style>\n",
              "\n",
              "      <script>\n",
              "        const buttonEl =\n",
              "          document.querySelector('#df-7b028df2-db40-4626-b84e-a76e56fbe7e7 button.colab-df-convert');\n",
              "        buttonEl.style.display =\n",
              "          google.colab.kernel.accessAllowed ? 'block' : 'none';\n",
              "\n",
              "        async function convertToInteractive(key) {\n",
              "          const element = document.querySelector('#df-7b028df2-db40-4626-b84e-a76e56fbe7e7');\n",
              "          const dataTable =\n",
              "            await google.colab.kernel.invokeFunction('convertToInteractive',\n",
              "                                                     [key], {});\n",
              "          if (!dataTable) return;\n",
              "\n",
              "          const docLinkHtml = 'Like what you see? Visit the ' +\n",
              "            '<a target=\"_blank\" href=https://colab.research.google.com/notebooks/data_table.ipynb>data table notebook</a>'\n",
              "            + ' to learn more about interactive tables.';\n",
              "          element.innerHTML = '';\n",
              "          dataTable['output_type'] = 'display_data';\n",
              "          await google.colab.output.renderOutput(dataTable, element);\n",
              "          const docLink = document.createElement('div');\n",
              "          docLink.innerHTML = docLinkHtml;\n",
              "          element.appendChild(docLink);\n",
              "        }\n",
              "      </script>\n",
              "    </div>\n",
              "  </div>\n",
              "  "
            ]
          },
          "metadata": {},
          "execution_count": 42
        }
      ],
      "source": [
        "weaker = battle_pca_df.loc[battle_pca_df.cluster_number == 0].copy()\n",
        "weaker"
      ]
    },
    {
      "cell_type": "markdown",
      "metadata": {
        "id": "GROjs7rSVOQ9"
      },
      "source": [
        "The Pokemon in cluster 1 are stronger and mostly fully-evolved. This group also includes legendary Pokemon. I nicknamed this cluster \"Stronger\"."
      ]
    },
    {
      "cell_type": "code",
      "execution_count": 43,
      "metadata": {
        "colab": {
          "base_uri": "https://localhost:8080/",
          "height": 423
        },
        "id": "KzyjvhIDFv1-",
        "outputId": "28ac33c8-ac99-46e7-8b99-7167664dba2d"
      },
      "outputs": [
        {
          "output_type": "execute_result",
          "data": {
            "text/plain": [
              "          PC1       PC2             name  cluster_number\n",
              "2    1.743582 -0.711562         Venusaur               1\n",
              "5    1.697470 -1.272661        Charizard               1\n",
              "8    1.657705 -0.581100        Blastoise               1\n",
              "17   0.805408 -1.061243          Pidgeot               1\n",
              "21  -0.725057 -0.244115  Alolan Raticate               1\n",
              "..        ...       ...              ...             ...\n",
              "870  1.619308  0.349739          Poipole               1\n",
              "871  4.040993  0.245792        Naganadel               1\n",
              "872  6.671013  7.350203        Stakataka               1\n",
              "873  3.753128 -1.088787      Blacephalon               1\n",
              "874  4.135471 -1.102122          Zeraora               1\n",
              "\n",
              "[495 rows x 4 columns]"
            ],
            "text/html": [
              "\n",
              "  <div id=\"df-374254f3-8eb5-49f1-814a-ee086cea4ec1\">\n",
              "    <div class=\"colab-df-container\">\n",
              "      <div>\n",
              "<style scoped>\n",
              "    .dataframe tbody tr th:only-of-type {\n",
              "        vertical-align: middle;\n",
              "    }\n",
              "\n",
              "    .dataframe tbody tr th {\n",
              "        vertical-align: top;\n",
              "    }\n",
              "\n",
              "    .dataframe thead th {\n",
              "        text-align: right;\n",
              "    }\n",
              "</style>\n",
              "<table border=\"1\" class=\"dataframe\">\n",
              "  <thead>\n",
              "    <tr style=\"text-align: right;\">\n",
              "      <th></th>\n",
              "      <th>PC1</th>\n",
              "      <th>PC2</th>\n",
              "      <th>name</th>\n",
              "      <th>cluster_number</th>\n",
              "    </tr>\n",
              "  </thead>\n",
              "  <tbody>\n",
              "    <tr>\n",
              "      <th>2</th>\n",
              "      <td>1.743582</td>\n",
              "      <td>-0.711562</td>\n",
              "      <td>Venusaur</td>\n",
              "      <td>1</td>\n",
              "    </tr>\n",
              "    <tr>\n",
              "      <th>5</th>\n",
              "      <td>1.697470</td>\n",
              "      <td>-1.272661</td>\n",
              "      <td>Charizard</td>\n",
              "      <td>1</td>\n",
              "    </tr>\n",
              "    <tr>\n",
              "      <th>8</th>\n",
              "      <td>1.657705</td>\n",
              "      <td>-0.581100</td>\n",
              "      <td>Blastoise</td>\n",
              "      <td>1</td>\n",
              "    </tr>\n",
              "    <tr>\n",
              "      <th>17</th>\n",
              "      <td>0.805408</td>\n",
              "      <td>-1.061243</td>\n",
              "      <td>Pidgeot</td>\n",
              "      <td>1</td>\n",
              "    </tr>\n",
              "    <tr>\n",
              "      <th>21</th>\n",
              "      <td>-0.725057</td>\n",
              "      <td>-0.244115</td>\n",
              "      <td>Alolan Raticate</td>\n",
              "      <td>1</td>\n",
              "    </tr>\n",
              "    <tr>\n",
              "      <th>...</th>\n",
              "      <td>...</td>\n",
              "      <td>...</td>\n",
              "      <td>...</td>\n",
              "      <td>...</td>\n",
              "    </tr>\n",
              "    <tr>\n",
              "      <th>870</th>\n",
              "      <td>1.619308</td>\n",
              "      <td>0.349739</td>\n",
              "      <td>Poipole</td>\n",
              "      <td>1</td>\n",
              "    </tr>\n",
              "    <tr>\n",
              "      <th>871</th>\n",
              "      <td>4.040993</td>\n",
              "      <td>0.245792</td>\n",
              "      <td>Naganadel</td>\n",
              "      <td>1</td>\n",
              "    </tr>\n",
              "    <tr>\n",
              "      <th>872</th>\n",
              "      <td>6.671013</td>\n",
              "      <td>7.350203</td>\n",
              "      <td>Stakataka</td>\n",
              "      <td>1</td>\n",
              "    </tr>\n",
              "    <tr>\n",
              "      <th>873</th>\n",
              "      <td>3.753128</td>\n",
              "      <td>-1.088787</td>\n",
              "      <td>Blacephalon</td>\n",
              "      <td>1</td>\n",
              "    </tr>\n",
              "    <tr>\n",
              "      <th>874</th>\n",
              "      <td>4.135471</td>\n",
              "      <td>-1.102122</td>\n",
              "      <td>Zeraora</td>\n",
              "      <td>1</td>\n",
              "    </tr>\n",
              "  </tbody>\n",
              "</table>\n",
              "<p>495 rows × 4 columns</p>\n",
              "</div>\n",
              "      <button class=\"colab-df-convert\" onclick=\"convertToInteractive('df-374254f3-8eb5-49f1-814a-ee086cea4ec1')\"\n",
              "              title=\"Convert this dataframe to an interactive table.\"\n",
              "              style=\"display:none;\">\n",
              "        \n",
              "  <svg xmlns=\"http://www.w3.org/2000/svg\" height=\"24px\"viewBox=\"0 0 24 24\"\n",
              "       width=\"24px\">\n",
              "    <path d=\"M0 0h24v24H0V0z\" fill=\"none\"/>\n",
              "    <path d=\"M18.56 5.44l.94 2.06.94-2.06 2.06-.94-2.06-.94-.94-2.06-.94 2.06-2.06.94zm-11 1L8.5 8.5l.94-2.06 2.06-.94-2.06-.94L8.5 2.5l-.94 2.06-2.06.94zm10 10l.94 2.06.94-2.06 2.06-.94-2.06-.94-.94-2.06-.94 2.06-2.06.94z\"/><path d=\"M17.41 7.96l-1.37-1.37c-.4-.4-.92-.59-1.43-.59-.52 0-1.04.2-1.43.59L10.3 9.45l-7.72 7.72c-.78.78-.78 2.05 0 2.83L4 21.41c.39.39.9.59 1.41.59.51 0 1.02-.2 1.41-.59l7.78-7.78 2.81-2.81c.8-.78.8-2.07 0-2.86zM5.41 20L4 18.59l7.72-7.72 1.47 1.35L5.41 20z\"/>\n",
              "  </svg>\n",
              "      </button>\n",
              "      \n",
              "  <style>\n",
              "    .colab-df-container {\n",
              "      display:flex;\n",
              "      flex-wrap:wrap;\n",
              "      gap: 12px;\n",
              "    }\n",
              "\n",
              "    .colab-df-convert {\n",
              "      background-color: #E8F0FE;\n",
              "      border: none;\n",
              "      border-radius: 50%;\n",
              "      cursor: pointer;\n",
              "      display: none;\n",
              "      fill: #1967D2;\n",
              "      height: 32px;\n",
              "      padding: 0 0 0 0;\n",
              "      width: 32px;\n",
              "    }\n",
              "\n",
              "    .colab-df-convert:hover {\n",
              "      background-color: #E2EBFA;\n",
              "      box-shadow: 0px 1px 2px rgba(60, 64, 67, 0.3), 0px 1px 3px 1px rgba(60, 64, 67, 0.15);\n",
              "      fill: #174EA6;\n",
              "    }\n",
              "\n",
              "    [theme=dark] .colab-df-convert {\n",
              "      background-color: #3B4455;\n",
              "      fill: #D2E3FC;\n",
              "    }\n",
              "\n",
              "    [theme=dark] .colab-df-convert:hover {\n",
              "      background-color: #434B5C;\n",
              "      box-shadow: 0px 1px 3px 1px rgba(0, 0, 0, 0.15);\n",
              "      filter: drop-shadow(0px 1px 2px rgba(0, 0, 0, 0.3));\n",
              "      fill: #FFFFFF;\n",
              "    }\n",
              "  </style>\n",
              "\n",
              "      <script>\n",
              "        const buttonEl =\n",
              "          document.querySelector('#df-374254f3-8eb5-49f1-814a-ee086cea4ec1 button.colab-df-convert');\n",
              "        buttonEl.style.display =\n",
              "          google.colab.kernel.accessAllowed ? 'block' : 'none';\n",
              "\n",
              "        async function convertToInteractive(key) {\n",
              "          const element = document.querySelector('#df-374254f3-8eb5-49f1-814a-ee086cea4ec1');\n",
              "          const dataTable =\n",
              "            await google.colab.kernel.invokeFunction('convertToInteractive',\n",
              "                                                     [key], {});\n",
              "          if (!dataTable) return;\n",
              "\n",
              "          const docLinkHtml = 'Like what you see? Visit the ' +\n",
              "            '<a target=\"_blank\" href=https://colab.research.google.com/notebooks/data_table.ipynb>data table notebook</a>'\n",
              "            + ' to learn more about interactive tables.';\n",
              "          element.innerHTML = '';\n",
              "          dataTable['output_type'] = 'display_data';\n",
              "          await google.colab.output.renderOutput(dataTable, element);\n",
              "          const docLink = document.createElement('div');\n",
              "          docLink.innerHTML = docLinkHtml;\n",
              "          element.appendChild(docLink);\n",
              "        }\n",
              "      </script>\n",
              "    </div>\n",
              "  </div>\n",
              "  "
            ]
          },
          "metadata": {},
          "execution_count": 43
        }
      ],
      "source": [
        "stronger = battle_pca_df.loc[battle_pca_df.cluster_number == 1].copy()\n",
        "stronger"
      ]
    },
    {
      "cell_type": "markdown",
      "metadata": {
        "id": "bjOXe_lnkHDV"
      },
      "source": [
        "The k-means clusters plotted out against the principal components illustrate how most of the distinction between clusters occurs along the first principal component. Without the non-battle metrics, k-means clustering cannot distinguish the far right outliers as legendary Pokemon."
      ]
    },
    {
      "cell_type": "code",
      "execution_count": 44,
      "metadata": {
        "colab": {
          "base_uri": "https://localhost:8080/",
          "height": 299
        },
        "id": "8nWroKoXF3w1",
        "outputId": "9841aec9-8293-45c6-84b8-e83d98180025"
      },
      "outputs": [
        {
          "output_type": "display_data",
          "data": {
            "text/plain": [
              "<Figure size 432x288 with 1 Axes>"
            ],
            "image/png": "[encoded data removed]"
          },
          "metadata": {}
        }
      ],
      "source": [
        "plt.scatter(weaker.PC1, weaker.PC2, label='Stronger')\n",
        "plt.scatter(stronger.PC1, stronger.PC2, label='Weaker')\n",
        "plt.xlabel(\"Principal Component 1\")\n",
        "plt.ylabel(\"Principal Component 2\")\n",
        "plt.title(\"K-Means Clusters: Battle Data\")\n",
        "plt.legend(loc='upper left')\n",
        "plt.show()"
      ]
    },
    {
      "cell_type": "markdown",
      "metadata": {
        "id": "vGXWhyIcky-2"
      },
      "source": [
        "#Conclusion"
      ]
    },
    {
      "cell_type": "markdown",
      "metadata": {
        "id": "6oAHO-kythBa"
      },
      "source": [
        "The table below summarizes the PCA and K-Means results with all the numeric metrics and the battle-only metrics."
      ]
    },
    {
      "cell_type": "code",
      "execution_count": 45,
      "metadata": {
        "colab": {
          "base_uri": "https://localhost:8080/"
        },
        "id": "EYKfFA5jtyRC",
        "outputId": "f554e894-9531-4465-c539-b0bd67bb444f"
      },
      "outputs": [
        {
          "output_type": "stream",
          "name": "stdout",
          "text": [
            "+-------------+--------------------------------+--------------------------------+-------------------------+\n",
            "| Metrics     |   PC1: % of Variance Explained |   PC2: % of Variance Explained |   # of K-Means Clusters |\n",
            "+=============+================================+================================+=========================+\n",
            "| All Numeric |                           44.5 |                           11.7 |                       3 |\n",
            "+-------------+--------------------------------+--------------------------------+-------------------------+\n",
            "| Battle      |                           43.4 |                           19.2 |                       2 |\n",
            "+-------------+--------------------------------+--------------------------------+-------------------------+\n"
          ]
        }
      ],
      "source": [
        "# assign data\n",
        "mydata = [\n",
        "    [\"All Numeric\", \"44.5\",  \"11.7\", \"3\"],\n",
        "    [\"Battle\", \"43.4\", \"19.2\", \"2\"]\n",
        "]\n",
        " \n",
        "# create header\n",
        "head = [\"Metrics\", \"PC1: % of Variance Explained\", \"PC2: % of Variance Explained\", \"# of K-Means Clusters\"]\n",
        " \n",
        "# display table\n",
        "print(tabulate(mydata, headers=head, tablefmt=\"grid\"))"
      ]
    },
    {
      "cell_type": "markdown",
      "metadata": {
        "id": "9jwonN5ktAWk"
      },
      "source": [
        "The principal component analysis results for all the numeric metrics and battle metrics generally mirrored one another. In both cases, the first principal component identified stronger Pokemon. The second principal component identified bulk by correlating negatively with \"speed\" in both cases. With all the numeric variables, this second component correlated positively with \"weight_kg\", while with the battle variables, it had a positive correlation with \"defense\"."
      ]
    },
    {
      "cell_type": "markdown",
      "metadata": {
        "id": "m1uESxBdwGxG"
      },
      "source": [
        "For k-means, the extra non-battle metrics provided insight for identifying the third cluster of \"legendary\" Pokemon species. The model built on battle metrics alone was only able to distinguish two \"stronger\" and \"weaker\" clusters. \n",
        "\n",
        "When the clusters for both models were plotted against their respective principal components, almost all of the cluster distinctions occurred along the first principal component's axis, meaning Pokemon were clustered by their strength."
      ]
    },
    {
      "cell_type": "markdown",
      "metadata": {
        "id": "syzIrLuJyY5N"
      },
      "source": [
        "Looking specifically at the three clusters built around the numeric data, my hunch is that they are also correlated with Pokemon rarity. The \"unevolved\" Pokemon can generally be found extensively throughout the games. The \"evolved\" Pokemon are a little more scarce and can often only be obtained by capturing, training, and evolving the \"unevolved\" Pokemon. Finally, most of the \"legendary\" Pokemon can only be obtained once throughout the game in a special encounter. If I could find some kind of rarity index, I would like to follow up this study with an exploration of how rarity correlates with the identified principal components and clusters."
      ]
    }
  ],
  "metadata": {
    "colab": {
      "provenance": [],
      "authorship_tag": "ABX9TyNg/mjy4rGvQ06uiqvmArw6",
      "include_colab_link": true
    },
    "kernelspec": {
      "display_name": "Python 3",
      "name": "python3"
    },
    "language_info": {
      "name": "python"
    }
  },
  "nbformat": 4,
  "nbformat_minor": 0
}